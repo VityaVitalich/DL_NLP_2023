{
 "cells": [
  {
   "cell_type": "markdown",
   "metadata": {
    "id": "TDm6dCbbPfGy"
   },
   "source": [
    "# 01. Библиотека PyTorch"
   ]
  },
  {
   "cell_type": "markdown",
   "metadata": {
    "id": "MlRU0ZTkPs7_"
   },
   "source": [
    "## План\n",
    "1. `numpy` -> `pytorch`\n",
    "2. Автоматическое дифференцирование (`torch.autograd`)\n",
    "\n",
    "Если успеем\n",
    "\n",
    "3. Пример: задача регрессии\n",
    "4. BONUS! Переопределение `backward()`\n"
   ]
  },
  {
   "cell_type": "markdown",
   "metadata": {},
   "source": [
    "[PyTorch](https://pytorch.org) - это фреймворк для машинного обучения:\n",
    "* В первую очередь - для нейросетевых моделей\n",
    "* Большие возможности для работы с тензорами\n",
    "* Поддержка выполнения на CPU / GPU / TPU ([!](https://github.com/pytorch/xla))\n",
    "* Автоматическое дифференцирование вычислительных графов (`torch.autograd`)\n",
    "* Широкий набор строительных блоков для DL-моделей (`torch.nn`) и готовых архитектур (`torchvision.models`+)\n",
    "* Удобная поддержка реализации своих операций / слоев / функций потерь / ..."
   ]
  },
  {
   "cell_type": "raw",
   "metadata": {},
   "source": [
    "!pip install torch  \n",
    "# or goto https://pytorch.org/get-started/locally/"
   ]
  },
  {
   "cell_type": "markdown",
   "metadata": {
    "tags": []
   },
   "source": [
    "## 1. `numpy` <-> `pytorch`"
   ]
  },
  {
   "cell_type": "code",
   "execution_count": 5,
   "metadata": {},
   "outputs": [],
   "source": [
    "import torch\n",
    "import numpy as np\n",
    "import time"
   ]
  },
  {
   "cell_type": "markdown",
   "metadata": {
    "tags": [],
    "toc-hr-collapsed": true
   },
   "source": [
    "### 1.1. Работа с тензорами"
   ]
  },
  {
   "cell_type": "markdown",
   "metadata": {},
   "source": [
    "~Все, что можно делать с многомерными массивами в `numpy`, можно делать и в `pytorch`:\n",
    "* `np.ndarray` -> `torch.Tensor`\n",
    "    * [broadcasting](https://numpy.org/doc/stable/user/basics.broadcasting.html)\n",
    "* `np.zeros()` -> `torch.zeros()`\n",
    "* `np.stack()` -> `torch.stack()`\n",
    "* `np.concatenate` -> `torch.cat()` \n",
    "* `np.random.normal()` -> `torch.randn()`\n",
    "* ..."
   ]
  },
  {
   "cell_type": "markdown",
   "metadata": {},
   "source": [
    "#### `np.ndarray` <-> `torch.Tensor`"
   ]
  },
  {
   "cell_type": "code",
   "execution_count": 6,
   "metadata": {},
   "outputs": [
    {
     "data": {
      "text/plain": [
       "(3, 3)"
      ]
     },
     "execution_count": 6,
     "metadata": {},
     "output_type": "execute_result"
    }
   ],
   "source": [
    "data_np = np.random.uniform(size=(3, 3))\n",
    "data_np.shape"
   ]
  },
  {
   "cell_type": "code",
   "execution_count": 7,
   "metadata": {},
   "outputs": [
    {
     "data": {
      "text/plain": [
       "array([[0.61057018, 0.20730497, 0.42520123],\n",
       "       [0.36197064, 0.83858856, 0.47160997],\n",
       "       [0.10333268, 0.71592089, 0.51099634]])"
      ]
     },
     "execution_count": 7,
     "metadata": {},
     "output_type": "execute_result"
    }
   ],
   "source": [
    "data_np"
   ]
  },
  {
   "cell_type": "markdown",
   "metadata": {},
   "source": [
    "Создание тензора из данных в форме `numpy.ndarray` через [`torch.from_numpy()`](https://pytorch.org/docs/stable/generated/torch.from_numpy.html):"
   ]
  },
  {
   "cell_type": "code",
   "execution_count": 8,
   "metadata": {},
   "outputs": [
    {
     "data": {
      "text/plain": [
       "torch.Size([3, 3])"
      ]
     },
     "execution_count": 8,
     "metadata": {},
     "output_type": "execute_result"
    }
   ],
   "source": [
    "data_pt = torch.from_numpy(data_np)\n",
    "data_pt.shape"
   ]
  },
  {
   "cell_type": "code",
   "execution_count": 9,
   "metadata": {},
   "outputs": [
    {
     "data": {
      "text/plain": [
       "array([[ True,  True,  True],\n",
       "       [ True,  True,  True],\n",
       "       [ True,  True,  True]])"
      ]
     },
     "execution_count": 9,
     "metadata": {},
     "output_type": "execute_result"
    }
   ],
   "source": [
    "data_np == data_pt.numpy()  # <- get data from Tensor as numpy array"
   ]
  },
  {
   "cell_type": "code",
   "execution_count": 10,
   "metadata": {},
   "outputs": [
    {
     "data": {
      "text/plain": [
       "dtype('float64')"
      ]
     },
     "execution_count": 10,
     "metadata": {},
     "output_type": "execute_result"
    }
   ],
   "source": [
    "data_np.dtype"
   ]
  },
  {
   "cell_type": "code",
   "execution_count": 11,
   "metadata": {},
   "outputs": [
    {
     "data": {
      "text/plain": [
       "torch.float64"
      ]
     },
     "execution_count": 11,
     "metadata": {},
     "output_type": "execute_result"
    }
   ],
   "source": [
    "data_pt.dtype"
   ]
  },
  {
   "cell_type": "markdown",
   "metadata": {},
   "source": [
    "Важно: при создании тензора через `torch.from_numpy()` данные шарятся между объектами:"
   ]
  },
  {
   "cell_type": "code",
   "execution_count": 12,
   "metadata": {},
   "outputs": [
    {
     "data": {
      "text/plain": [
       "tensor([[-999.3894, -999.7927, -999.5748],\n",
       "        [-999.6380, -999.1614, -999.5284],\n",
       "        [-999.8967, -999.2841, -999.4890]], dtype=torch.float64)"
      ]
     },
     "execution_count": 12,
     "metadata": {},
     "output_type": "execute_result"
    }
   ],
   "source": [
    "t = data_pt.numpy() \n",
    "t -= 1000\n",
    "data_pt"
   ]
  },
  {
   "cell_type": "code",
   "execution_count": 13,
   "metadata": {},
   "outputs": [
    {
     "data": {
      "text/plain": [
       "array([[-999.38942982, -999.79269503, -999.57479877],\n",
       "       [-999.63802936, -999.16141144, -999.52839003],\n",
       "       [-999.89666732, -999.28407911, -999.48900366]])"
      ]
     },
     "execution_count": 13,
     "metadata": {},
     "output_type": "execute_result"
    }
   ],
   "source": [
    "data_np"
   ]
  },
  {
   "cell_type": "markdown",
   "metadata": {},
   "source": [
    "Создание тензора через конструктор `torch.tensor()`:"
   ]
  },
  {
   "cell_type": "code",
   "execution_count": 14,
   "metadata": {},
   "outputs": [
    {
     "data": {
      "text/plain": [
       "(3, 3)"
      ]
     },
     "execution_count": 14,
     "metadata": {},
     "output_type": "execute_result"
    }
   ],
   "source": [
    "data_np = np.random.uniform(size=(3, 3))\n",
    "data_np.shape"
   ]
  },
  {
   "cell_type": "code",
   "execution_count": 15,
   "metadata": {},
   "outputs": [
    {
     "data": {
      "text/plain": [
       "torch.Size([3, 3])"
      ]
     },
     "execution_count": 15,
     "metadata": {},
     "output_type": "execute_result"
    }
   ],
   "source": [
    "data_pt = torch.tensor(data_np)\n",
    "data_pt.shape"
   ]
  },
  {
   "cell_type": "code",
   "execution_count": 16,
   "metadata": {},
   "outputs": [
    {
     "data": {
      "text/plain": [
       "array([[ True,  True,  True],\n",
       "       [ True,  True,  True],\n",
       "       [ True,  True,  True]])"
      ]
     },
     "execution_count": 16,
     "metadata": {},
     "output_type": "execute_result"
    }
   ],
   "source": [
    "data_np == data_pt.numpy()"
   ]
  },
  {
   "cell_type": "markdown",
   "metadata": {},
   "source": [
    "При создании тензора через `torch.tensor()` данные копируются:"
   ]
  },
  {
   "cell_type": "code",
   "execution_count": 17,
   "metadata": {},
   "outputs": [
    {
     "data": {
      "text/plain": [
       "tensor([[-999.2775, -999.6246, -999.9425],\n",
       "        [-999.8026, -999.9138, -999.6672],\n",
       "        [-999.6515, -999.1996, -999.2476]], dtype=torch.float64)"
      ]
     },
     "execution_count": 17,
     "metadata": {},
     "output_type": "execute_result"
    }
   ],
   "source": [
    "t = data_pt.numpy()\n",
    "t -= 1000\n",
    "data_pt"
   ]
  },
  {
   "cell_type": "code",
   "execution_count": 18,
   "metadata": {},
   "outputs": [
    {
     "data": {
      "text/plain": [
       "array([[0.72254241, 0.37536442, 0.05751275],\n",
       "       [0.19735192, 0.08617383, 0.33283387],\n",
       "       [0.34847346, 0.8004295 , 0.75235173]])"
      ]
     },
     "execution_count": 18,
     "metadata": {},
     "output_type": "execute_result"
    }
   ],
   "source": [
    "data_np"
   ]
  },
  {
   "cell_type": "markdown",
   "metadata": {},
   "source": [
    "**NB**: [`torch.Tensor()`](https://glaringlee.github.io/tensors.html?highlight=torch%20tensor#torch.Tensor) != [`torch.tensor()`](https://glaringlee.github.io/generated/torch.tensor.html?highlight=torch%20tensor#torch.tensor)!"
   ]
  },
  {
   "cell_type": "markdown",
   "metadata": {
    "tags": []
   },
   "source": [
    "#### Типы данных"
   ]
  },
  {
   "cell_type": "code",
   "execution_count": 19,
   "metadata": {},
   "outputs": [
    {
     "data": {
      "text/plain": [
       "dtype('float64')"
      ]
     },
     "execution_count": 19,
     "metadata": {},
     "output_type": "execute_result"
    }
   ],
   "source": [
    "data_np.dtype"
   ]
  },
  {
   "cell_type": "markdown",
   "metadata": {},
   "source": [
    "floats"
   ]
  },
  {
   "cell_type": "code",
   "execution_count": 20,
   "metadata": {},
   "outputs": [
    {
     "data": {
      "text/plain": [
       "torch.float64"
      ]
     },
     "execution_count": 20,
     "metadata": {},
     "output_type": "execute_result"
    }
   ],
   "source": [
    "data_pt = torch.tensor(data_np)\n",
    "data_pt.dtype"
   ]
  },
  {
   "cell_type": "code",
   "execution_count": 21,
   "metadata": {},
   "outputs": [
    {
     "data": {
      "text/plain": [
       "torch.float32"
      ]
     },
     "execution_count": 21,
     "metadata": {},
     "output_type": "execute_result"
    }
   ],
   "source": [
    "data_pt = torch.tensor(data_np, dtype=torch.float)\n",
    "data_pt.dtype"
   ]
  },
  {
   "cell_type": "code",
   "execution_count": 25,
   "metadata": {},
   "outputs": [
    {
     "data": {
      "text/plain": [
       "torch.float16"
      ]
     },
     "execution_count": 25,
     "metadata": {},
     "output_type": "execute_result"
    }
   ],
   "source": [
    "data_pt = torch.tensor(data_np, dtype=torch.float16)\n",
    "data_pt.dtype"
   ]
  },
  {
   "cell_type": "code",
   "execution_count": 23,
   "metadata": {},
   "outputs": [
    {
     "data": {
      "text/plain": [
       "torch.float16"
      ]
     },
     "execution_count": 23,
     "metadata": {},
     "output_type": "execute_result"
    }
   ],
   "source": [
    "data_pt = torch.tensor(data_np, dtype=torch.half)\n",
    "data_pt.dtype\n"
   ]
  },
  {
   "cell_type": "code",
   "execution_count": 34,
   "metadata": {},
   "outputs": [
    {
     "data": {
      "text/plain": [
       "torch.float64"
      ]
     },
     "execution_count": 34,
     "metadata": {},
     "output_type": "execute_result"
    }
   ],
   "source": [
    "data_pt = torch.tensor(data_np, dtype=torch.double)\n",
    "data_pt.dtype"
   ]
  },
  {
   "cell_type": "markdown",
   "metadata": {},
   "source": [
    "ints"
   ]
  },
  {
   "cell_type": "code",
   "execution_count": 30,
   "metadata": {},
   "outputs": [
    {
     "data": {
      "text/plain": [
       "torch.int32"
      ]
     },
     "execution_count": 30,
     "metadata": {},
     "output_type": "execute_result"
    }
   ],
   "source": [
    "data_pt = torch.tensor(data_np, dtype=torch.int)\n",
    "data_pt.dtype"
   ]
  },
  {
   "cell_type": "code",
   "execution_count": 31,
   "metadata": {},
   "outputs": [
    {
     "data": {
      "text/plain": [
       "torch.int64"
      ]
     },
     "execution_count": 31,
     "metadata": {},
     "output_type": "execute_result"
    }
   ],
   "source": [
    "data_pt = torch.tensor(data_np, dtype=torch.long)\n",
    "data_pt.dtype"
   ]
  },
  {
   "cell_type": "code",
   "execution_count": 33,
   "metadata": {},
   "outputs": [
    {
     "data": {
      "text/plain": [
       "tensor([[0, 0, 0],\n",
       "        [0, 0, 0],\n",
       "        [0, 0, 0]], dtype=torch.int8)"
      ]
     },
     "execution_count": 33,
     "metadata": {},
     "output_type": "execute_result"
    }
   ],
   "source": [
    "data_pt"
   ]
  },
  {
   "cell_type": "code",
   "execution_count": 32,
   "metadata": {},
   "outputs": [
    {
     "data": {
      "text/plain": [
       "torch.int8"
      ]
     },
     "execution_count": 32,
     "metadata": {},
     "output_type": "execute_result"
    }
   ],
   "source": [
    "data_pt = torch.tensor(data_np, dtype=torch.int8)\n",
    "data_pt.dtype"
   ]
  },
  {
   "cell_type": "markdown",
   "metadata": {},
   "source": [
    "Больше - [тут](https://pytorch.org/docs/stable/tensors.html)."
   ]
  },
  {
   "cell_type": "markdown",
   "metadata": {},
   "source": [
    "Можно и без `numpy`, разумеется:"
   ]
  },
  {
   "cell_type": "code",
   "execution_count": 50,
   "metadata": {},
   "outputs": [
    {
     "data": {
      "text/plain": [
       "tensor(2)"
      ]
     },
     "execution_count": 50,
     "metadata": {},
     "output_type": "execute_result"
    }
   ],
   "source": [
    "torch.tensor(2)"
   ]
  },
  {
   "cell_type": "code",
   "execution_count": 47,
   "metadata": {},
   "outputs": [
    {
     "data": {
      "text/plain": [
       "torch.Size([5])"
      ]
     },
     "execution_count": 47,
     "metadata": {},
     "output_type": "execute_result"
    }
   ],
   "source": [
    "torch.tensor([1, 2, 3, 4, 5]).size()"
   ]
  },
  {
   "cell_type": "code",
   "execution_count": 51,
   "metadata": {},
   "outputs": [
    {
     "data": {
      "text/plain": [
       "tensor([[0., 1.],\n",
       "        [2., 3.]])"
      ]
     },
     "execution_count": 51,
     "metadata": {},
     "output_type": "execute_result"
    }
   ],
   "source": [
    "torch.tensor([[0., 1], [2, 3]])"
   ]
  },
  {
   "cell_type": "markdown",
   "metadata": {},
   "source": [
    "Если в тензоре один-единственный элемент, извлечь его численное значение можно через `.item()`:"
   ]
  },
  {
   "cell_type": "code",
   "execution_count": 55,
   "metadata": {},
   "outputs": [
    {
     "data": {
      "text/plain": [
       "10"
      ]
     },
     "execution_count": 55,
     "metadata": {},
     "output_type": "execute_result"
    }
   ],
   "source": [
    "torch.tensor(10).item()"
   ]
  },
  {
   "cell_type": "code",
   "execution_count": 58,
   "metadata": {},
   "outputs": [],
   "source": [
    "all_losses = []\n",
    "x = torch.tensor(10)\n",
    "all_losses.append(x.item())\n",
    "#x.item()"
   ]
  },
  {
   "cell_type": "code",
   "execution_count": 59,
   "metadata": {},
   "outputs": [
    {
     "data": {
      "text/plain": [
       "[10]"
      ]
     },
     "execution_count": 59,
     "metadata": {},
     "output_type": "execute_result"
    }
   ],
   "source": [
    "all_losses"
   ]
  },
  {
   "cell_type": "code",
   "execution_count": 65,
   "metadata": {},
   "outputs": [
    {
     "data": {
      "text/plain": [
       "array([10, 11])"
      ]
     },
     "execution_count": 65,
     "metadata": {},
     "output_type": "execute_result"
    }
   ],
   "source": [
    "x = torch.tensor([10, 11])\n",
    "x.numpy()"
   ]
  },
  {
   "cell_type": "markdown",
   "metadata": {},
   "source": [
    "**NB**: поведение конструкторов `torch.tensor()` и `torch.Tensor()` - разное:"
   ]
  },
  {
   "cell_type": "code",
   "execution_count": 66,
   "metadata": {},
   "outputs": [
    {
     "data": {
      "text/plain": [
       "tensor([1., 2., 3.])"
      ]
     },
     "execution_count": 66,
     "metadata": {},
     "output_type": "execute_result"
    }
   ],
   "source": [
    "torch.Tensor([1, 2, 3])"
   ]
  },
  {
   "cell_type": "code",
   "execution_count": 71,
   "metadata": {},
   "outputs": [
    {
     "data": {
      "text/plain": [
       "tensor([2.8676e-35])"
      ]
     },
     "execution_count": 71,
     "metadata": {},
     "output_type": "execute_result"
    }
   ],
   "source": [
    "torch.Tensor(1)"
   ]
  },
  {
   "cell_type": "code",
   "execution_count": 74,
   "metadata": {},
   "outputs": [
    {
     "data": {
      "text/plain": [
       "tensor([2.1359e-35, 0.0000e+00])"
      ]
     },
     "execution_count": 74,
     "metadata": {},
     "output_type": "execute_result"
    }
   ],
   "source": [
    "torch.Tensor(2)"
   ]
  },
  {
   "cell_type": "markdown",
   "metadata": {
    "tags": []
   },
   "source": [
    "#### Broadcasting"
   ]
  },
  {
   "cell_type": "code",
   "execution_count": 75,
   "metadata": {},
   "outputs": [
    {
     "data": {
      "text/plain": [
       "tensor([[0.6317, 0.3461, 0.8336],\n",
       "        [0.7828, 0.6741, 0.0319],\n",
       "        [0.1103, 0.9823, 0.4292]], dtype=torch.float64)"
      ]
     },
     "execution_count": 75,
     "metadata": {},
     "output_type": "execute_result"
    }
   ],
   "source": [
    "data_np = np.random.uniform(size=(3, 3))\n",
    "data_pt = torch.from_numpy(data_np)\n",
    "data_pt"
   ]
  },
  {
   "cell_type": "code",
   "execution_count": 76,
   "metadata": {},
   "outputs": [
    {
     "data": {
      "text/plain": [
       "tensor([[-99.3683, -99.6539, -99.1664],\n",
       "        [-99.2172, -99.3259, -99.9681],\n",
       "        [-99.8897, -99.0177, -99.5708]], dtype=torch.float64)"
      ]
     },
     "execution_count": 76,
     "metadata": {},
     "output_type": "execute_result"
    }
   ],
   "source": [
    "data_pt -= 100\n",
    "data_pt"
   ]
  },
  {
   "cell_type": "markdown",
   "metadata": {},
   "source": [
    "Обратите внимание на особенности broadcasting в \"неочевидных\" случаях (часто лучше перепроверить):"
   ]
  },
  {
   "cell_type": "code",
   "execution_count": 77,
   "metadata": {},
   "outputs": [
    {
     "data": {
      "text/plain": [
       "tensor([[0.3676, 0.9412, 0.0133],\n",
       "        [0.3400, 0.2429, 0.2695],\n",
       "        [0.4998, 0.2473, 0.7413]])"
      ]
     },
     "execution_count": 77,
     "metadata": {},
     "output_type": "execute_result"
    }
   ],
   "source": [
    "data_np = np.random.uniform(size=(3, 3)).astype(np.float32)\n",
    "data_pt = torch.from_numpy(data_np)\n",
    "data_pt"
   ]
  },
  {
   "cell_type": "code",
   "execution_count": 78,
   "metadata": {},
   "outputs": [
    {
     "data": {
      "text/plain": [
       "torch.Size([3])"
      ]
     },
     "execution_count": 78,
     "metadata": {},
     "output_type": "execute_result"
    }
   ],
   "source": [
    "b = torch.Tensor([100, 50, 0])\n",
    "b.shape"
   ]
  },
  {
   "cell_type": "code",
   "execution_count": 79,
   "metadata": {},
   "outputs": [
    {
     "data": {
      "text/plain": [
       "tensor([100.,  50.,   0.])"
      ]
     },
     "execution_count": 79,
     "metadata": {},
     "output_type": "execute_result"
    }
   ],
   "source": [
    "b"
   ]
  },
  {
   "cell_type": "code",
   "execution_count": 80,
   "metadata": {},
   "outputs": [
    {
     "data": {
      "text/plain": [
       "tensor([[1.0037e+02, 5.0941e+01, 1.3272e-02],\n",
       "        [1.0034e+02, 5.0243e+01, 2.6946e-01],\n",
       "        [1.0050e+02, 5.0247e+01, 7.4125e-01]])"
      ]
     },
     "execution_count": 80,
     "metadata": {},
     "output_type": "execute_result"
    }
   ],
   "source": [
    "data_pt + b"
   ]
  },
  {
   "cell_type": "code",
   "execution_count": null,
   "metadata": {},
   "outputs": [],
   "source": []
  },
  {
   "cell_type": "code",
   "execution_count": 81,
   "metadata": {},
   "outputs": [
    {
     "data": {
      "text/plain": [
       "torch.Size([1, 3])"
      ]
     },
     "execution_count": 81,
     "metadata": {},
     "output_type": "execute_result"
    }
   ],
   "source": [
    "b = torch.Tensor([100, 50, 0]).view(1, 3)\n",
    "b.shape"
   ]
  },
  {
   "cell_type": "code",
   "execution_count": 82,
   "metadata": {},
   "outputs": [
    {
     "data": {
      "text/plain": [
       "tensor([[1.0037e+02, 5.0941e+01, 1.3272e-02],\n",
       "        [1.0034e+02, 5.0243e+01, 2.6946e-01],\n",
       "        [1.0050e+02, 5.0247e+01, 7.4125e-01]])"
      ]
     },
     "execution_count": 82,
     "metadata": {},
     "output_type": "execute_result"
    }
   ],
   "source": [
    "data_pt + b"
   ]
  },
  {
   "cell_type": "code",
   "execution_count": null,
   "metadata": {},
   "outputs": [],
   "source": []
  },
  {
   "cell_type": "code",
   "execution_count": 83,
   "metadata": {},
   "outputs": [
    {
     "data": {
      "text/plain": [
       "torch.Size([3, 1])"
      ]
     },
     "execution_count": 83,
     "metadata": {},
     "output_type": "execute_result"
    }
   ],
   "source": [
    "b = torch.Tensor([100, 50, 0]).view(3, 1)\n",
    "b.shape"
   ]
  },
  {
   "cell_type": "code",
   "execution_count": 84,
   "metadata": {},
   "outputs": [
    {
     "data": {
      "text/plain": [
       "tensor([[100.3676, 100.9412, 100.0133],\n",
       "        [ 50.3400,  50.2429,  50.2695],\n",
       "        [  0.4998,   0.2473,   0.7413]])"
      ]
     },
     "execution_count": 84,
     "metadata": {},
     "output_type": "execute_result"
    }
   ],
   "source": [
    "data_pt + b"
   ]
  },
  {
   "cell_type": "code",
   "execution_count": 93,
   "metadata": {},
   "outputs": [
    {
     "data": {
      "text/plain": [
       "tensor([100.3400,  50.2429,   0.2695])"
      ]
     },
     "execution_count": 93,
     "metadata": {},
     "output_type": "execute_result"
    }
   ],
   "source": [
    "data_pt[0] + b.squeeze(1)"
   ]
  },
  {
   "cell_type": "markdown",
   "metadata": {},
   "source": [
    "#### Векторные и матричные операции"
   ]
  },
  {
   "cell_type": "code",
   "execution_count": 94,
   "metadata": {},
   "outputs": [],
   "source": [
    "data_np = np.random.uniform(size=(4, 4))\n",
    "data_pt = torch.from_numpy(data_np)"
   ]
  },
  {
   "cell_type": "code",
   "execution_count": 95,
   "metadata": {},
   "outputs": [
    {
     "data": {
      "text/plain": [
       "array([[2.24230663, 1.7863323 , 1.20140162, 1.79099281],\n",
       "       [1.03659108, 0.80515092, 0.61922261, 0.80112764],\n",
       "       [1.86583742, 1.44512777, 1.0584246 , 1.4799741 ],\n",
       "       [1.92782077, 1.55864462, 1.05478925, 1.58620214]])"
      ]
     },
     "execution_count": 95,
     "metadata": {},
     "output_type": "execute_result"
    }
   ],
   "source": [
    "data_np @ data_np"
   ]
  },
  {
   "cell_type": "code",
   "execution_count": 96,
   "metadata": {},
   "outputs": [
    {
     "data": {
      "text/plain": [
       "tensor([[2.2423, 1.7863, 1.2014, 1.7910],\n",
       "        [1.0366, 0.8052, 0.6192, 0.8011],\n",
       "        [1.8658, 1.4451, 1.0584, 1.4800],\n",
       "        [1.9278, 1.5586, 1.0548, 1.5862]], dtype=torch.float64)"
      ]
     },
     "execution_count": 96,
     "metadata": {},
     "output_type": "execute_result"
    }
   ],
   "source": [
    "data_pt @ data_pt"
   ]
  },
  {
   "cell_type": "code",
   "execution_count": 97,
   "metadata": {},
   "outputs": [
    {
     "data": {
      "text/plain": [
       "tensor([[2.2423, 1.7863, 1.2014, 1.7910],\n",
       "        [1.0366, 0.8052, 0.6192, 0.8011],\n",
       "        [1.8658, 1.4451, 1.0584, 1.4800],\n",
       "        [1.9278, 1.5586, 1.0548, 1.5862]], dtype=torch.float64)"
      ]
     },
     "execution_count": 97,
     "metadata": {},
     "output_type": "execute_result"
    }
   ],
   "source": [
    "torch.matmul(data_pt, data_pt)"
   ]
  },
  {
   "cell_type": "code",
   "execution_count": 98,
   "metadata": {},
   "outputs": [],
   "source": [
    "x = torch.randn(4, 1)\n",
    "A = torch.randn(8, 4)"
   ]
  },
  {
   "cell_type": "markdown",
   "metadata": {},
   "source": [
    "Умножение матрицы на вектор:"
   ]
  },
  {
   "cell_type": "code",
   "execution_count": 99,
   "metadata": {},
   "outputs": [
    {
     "data": {
      "text/plain": [
       "(torch.Size([8, 1]),\n",
       " tensor([[ 0.2815],\n",
       "         [ 0.3679],\n",
       "         [ 1.6850],\n",
       "         [-2.6279],\n",
       "         [-1.1225],\n",
       "         [-3.0399],\n",
       "         [ 1.8857],\n",
       "         [ 2.9293]]))"
      ]
     },
     "execution_count": 99,
     "metadata": {},
     "output_type": "execute_result"
    }
   ],
   "source": [
    "y = A @ x\n",
    "y.shape, y"
   ]
  },
  {
   "cell_type": "code",
   "execution_count": 100,
   "metadata": {},
   "outputs": [
    {
     "data": {
      "text/plain": [
       "(torch.Size([8, 1]),\n",
       " tensor([[ 0.2815],\n",
       "         [ 0.3679],\n",
       "         [ 1.6850],\n",
       "         [-2.6279],\n",
       "         [-1.1225],\n",
       "         [-3.0399],\n",
       "         [ 1.8857],\n",
       "         [ 2.9293]]))"
      ]
     },
     "execution_count": 100,
     "metadata": {},
     "output_type": "execute_result"
    }
   ],
   "source": [
    "y = A.matmul(x)\n",
    "y.shape, y"
   ]
  },
  {
   "cell_type": "markdown",
   "metadata": {},
   "source": [
    "Тоже повнимательнее с размерностями:"
   ]
  },
  {
   "cell_type": "code",
   "execution_count": 104,
   "metadata": {},
   "outputs": [],
   "source": [
    "x = torch.randn(4)\n",
    "A = torch.randn(8, 4)"
   ]
  },
  {
   "cell_type": "code",
   "execution_count": 105,
   "metadata": {},
   "outputs": [
    {
     "data": {
      "text/plain": [
       "(torch.Size([8]),\n",
       " tensor([ 0.3699,  2.1246, -1.1579, -0.0652,  1.5893, -1.0164,  0.3715,  1.3674]))"
      ]
     },
     "execution_count": 105,
     "metadata": {},
     "output_type": "execute_result"
    }
   ],
   "source": [
    "y = A @ x\n",
    "y.shape, y"
   ]
  },
  {
   "cell_type": "markdown",
   "metadata": {
    "tags": []
   },
   "source": [
    "#### Задание:"
   ]
  },
  {
   "cell_type": "markdown",
   "metadata": {},
   "source": [
    "* Даны два набора векторов одинаковой размерности, `X` (`m x dim`) и `Y` (`n x dim`)\n",
    "* Требуется посчитать (без циклов!) попарные значения косинуса углов для всех пар (`x`, `y`)\n",
    "    * На выходе ожидается матрица размером (`m x n`)"
   ]
  },
  {
   "cell_type": "code",
   "execution_count": 113,
   "metadata": {},
   "outputs": [],
   "source": [
    "dim = 8\n",
    "m = 11\n",
    "n = 17\n",
    "X = torch.randn(m, dim)\n",
    "Y = torch.randn(n, dim)\n",
    "\n",
    "# YOUR CODE HERE\n",
    "X_norm = (X@X.T).diag().sqrt()\n",
    "Y_norm = (Y@Y.T).diag().sqrt()\n",
    "\n",
    "pairiwse_norms = X_norm.unsqueeze(1) @ Y_norm.unsqueeze(1).T\n",
    "\n",
    "cos_mat = X@Y.T / pairiwse_norms\n",
    "# END OF YOUR CODE"
   ]
  },
  {
   "cell_type": "code",
   "execution_count": 114,
   "metadata": {},
   "outputs": [
    {
     "name": "stderr",
     "output_type": "stream",
     "text": [
      "/home/victor/anaconda3/lib/python3.7/site-packages/torch/testing/_deprecated.py:35: FutureWarning: torch.testing.assert_allclose() is deprecated since 1.12 and will be removed in 1.14. Use torch.testing.assert_close() instead. For detailed upgrade instructions see https://github.com/pytorch/pytorch/issues/61844.\n",
      "  warnings.warn(msg, FutureWarning)\n"
     ]
    }
   ],
   "source": [
    "from scipy.spatial.distance import cdist\n",
    "cos_mat_expected = 1 - cdist(X, Y, metric=\"cosine\")\n",
    "\n",
    "torch.testing.assert_allclose(cos_mat, cos_mat_expected)"
   ]
  },
  {
   "cell_type": "markdown",
   "metadata": {},
   "source": [
    "#### Работа с размерностями"
   ]
  },
  {
   "cell_type": "code",
   "execution_count": 116,
   "metadata": {},
   "outputs": [
    {
     "data": {
      "text/plain": [
       "(torch.Size([3, 1]),\n",
       " tensor([[ 0.5233],\n",
       "         [-0.0374],\n",
       "         [ 1.0064]]))"
      ]
     },
     "execution_count": 116,
     "metadata": {},
     "output_type": "execute_result"
    }
   ],
   "source": [
    "x = torch.randn(3, 1)\n",
    "x.shape, x"
   ]
  },
  {
   "cell_type": "markdown",
   "metadata": {},
   "source": [
    "Транспонирование:"
   ]
  },
  {
   "cell_type": "code",
   "execution_count": 117,
   "metadata": {},
   "outputs": [
    {
     "data": {
      "text/plain": [
       "(torch.Size([1, 3]), tensor([[ 0.5233, -0.0374,  1.0064]]))"
      ]
     },
     "execution_count": 117,
     "metadata": {},
     "output_type": "execute_result"
    }
   ],
   "source": [
    "xT = x.T\n",
    "xT.shape, xT"
   ]
  },
  {
   "cell_type": "markdown",
   "metadata": {},
   "source": [
    "Если не указано явно, то данные НЕ копируются:"
   ]
  },
  {
   "cell_type": "code",
   "execution_count": 118,
   "metadata": {},
   "outputs": [
    {
     "data": {
      "text/plain": [
       "tensor([[ 52.3254,  -3.7446, 100.6448]])"
      ]
     },
     "execution_count": 118,
     "metadata": {},
     "output_type": "execute_result"
    }
   ],
   "source": [
    "xT *= 100\n",
    "xT"
   ]
  },
  {
   "cell_type": "code",
   "execution_count": 119,
   "metadata": {},
   "outputs": [
    {
     "data": {
      "text/plain": [
       "tensor([[ 52.3254],\n",
       "        [ -3.7446],\n",
       "        [100.6448]])"
      ]
     },
     "execution_count": 119,
     "metadata": {},
     "output_type": "execute_result"
    }
   ],
   "source": [
    "x"
   ]
  },
  {
   "cell_type": "markdown",
   "metadata": {},
   "source": [
    "С копированием:"
   ]
  },
  {
   "cell_type": "code",
   "execution_count": 124,
   "metadata": {},
   "outputs": [
    {
     "data": {
      "text/plain": [
       "(torch.Size([1, 3]), tensor([[ 52.3254,  -3.7446, 100.6448]]))"
      ]
     },
     "execution_count": 124,
     "metadata": {},
     "output_type": "execute_result"
    }
   ],
   "source": [
    "xT_clone = x.T.clone()\n",
    "xT_clone.shape, xT_clone"
   ]
  },
  {
   "cell_type": "code",
   "execution_count": 125,
   "metadata": {},
   "outputs": [
    {
     "data": {
      "text/plain": [
       "tensor([[True, True, True]])"
      ]
     },
     "execution_count": 125,
     "metadata": {},
     "output_type": "execute_result"
    }
   ],
   "source": [
    "xT_clone == xT"
   ]
  },
  {
   "cell_type": "code",
   "execution_count": 126,
   "metadata": {},
   "outputs": [
    {
     "data": {
      "text/plain": [
       "tensor([[ 5232.5420,  -374.4568, 10064.4766]])"
      ]
     },
     "execution_count": 126,
     "metadata": {},
     "output_type": "execute_result"
    }
   ],
   "source": [
    "xT_clone *= 100\n",
    "xT_clone"
   ]
  },
  {
   "cell_type": "code",
   "execution_count": 130,
   "metadata": {},
   "outputs": [
    {
     "data": {
      "text/plain": [
       "tensor([[ 52.3254],\n",
       "        [ -3.7446],\n",
       "        [100.6448]])"
      ]
     },
     "execution_count": 130,
     "metadata": {},
     "output_type": "execute_result"
    }
   ],
   "source": [
    "x"
   ]
  },
  {
   "cell_type": "code",
   "execution_count": 136,
   "metadata": {},
   "outputs": [
    {
     "name": "stderr",
     "output_type": "stream",
     "text": [
      "/home/victor/.local/lib/python3.7/site-packages/ipykernel_launcher.py:1: UserWarning: To copy construct from a tensor, it is recommended to use sourceTensor.clone().detach() or sourceTensor.clone().detach().requires_grad_(True), rather than torch.tensor(sourceTensor).\n",
      "  \"\"\"Entry point for launching an IPython kernel.\n"
     ]
    }
   ],
   "source": [
    "xT_clone = torch.tensor(x)"
   ]
  },
  {
   "cell_type": "code",
   "execution_count": 138,
   "metadata": {},
   "outputs": [],
   "source": [
    "xT_clone *= 0"
   ]
  },
  {
   "cell_type": "code",
   "execution_count": 139,
   "metadata": {},
   "outputs": [
    {
     "data": {
      "text/plain": [
       "tensor([[ 52.3254],\n",
       "        [ -3.7446],\n",
       "        [100.6448]])"
      ]
     },
     "execution_count": 139,
     "metadata": {},
     "output_type": "execute_result"
    }
   ],
   "source": [
    "x"
   ]
  },
  {
   "cell_type": "markdown",
   "metadata": {},
   "source": [
    "Доступны и более сложные операции над размерностями.\n",
    "\n",
    "`permute()`:"
   ]
  },
  {
   "cell_type": "code",
   "execution_count": 140,
   "metadata": {},
   "outputs": [
    {
     "data": {
      "text/plain": [
       "torch.Size([3, 64, 256])"
      ]
     },
     "execution_count": 140,
     "metadata": {},
     "output_type": "execute_result"
    }
   ],
   "source": [
    "x = torch.randn(3, 64, 256)\n",
    "x.shape"
   ]
  },
  {
   "cell_type": "code",
   "execution_count": 141,
   "metadata": {},
   "outputs": [
    {
     "data": {
      "text/plain": [
       "torch.Size([64, 256, 3])"
      ]
     },
     "execution_count": 141,
     "metadata": {},
     "output_type": "execute_result"
    }
   ],
   "source": [
    "x.permute(1, 2, 0).shape"
   ]
  },
  {
   "cell_type": "code",
   "execution_count": 142,
   "metadata": {},
   "outputs": [
    {
     "data": {
      "text/plain": [
       "tensor([[True, True, True,  ..., True, True, True],\n",
       "        [True, True, True,  ..., True, True, True],\n",
       "        [True, True, True,  ..., True, True, True],\n",
       "        ...,\n",
       "        [True, True, True,  ..., True, True, True],\n",
       "        [True, True, True,  ..., True, True, True],\n",
       "        [True, True, True,  ..., True, True, True]])"
      ]
     },
     "execution_count": 142,
     "metadata": {},
     "output_type": "execute_result"
    }
   ],
   "source": [
    "x.permute(1, 2, 0)[:,:,0] == x[0,:,:]"
   ]
  },
  {
   "cell_type": "code",
   "execution_count": 109,
   "metadata": {},
   "outputs": [],
   "source": [
    "rnn_out = torch.randn(32, 64, 128 )"
   ]
  },
  {
   "cell_type": "code",
   "execution_count": 111,
   "metadata": {},
   "outputs": [
    {
     "data": {
      "text/plain": [
       "torch.Size([32, 128, 64])"
      ]
     },
     "execution_count": 111,
     "metadata": {},
     "output_type": "execute_result"
    }
   ],
   "source": [
    "rnn_out.permute(0,2,1).size()"
   ]
  },
  {
   "cell_type": "code",
   "execution_count": 105,
   "metadata": {},
   "outputs": [
    {
     "data": {
      "text/plain": [
       "torch.Size([3, 256, 64])"
      ]
     },
     "execution_count": 105,
     "metadata": {},
     "output_type": "execute_result"
    }
   ],
   "source": [
    "x.transpose(1, 2).shape"
   ]
  },
  {
   "cell_type": "markdown",
   "metadata": {},
   "source": [
    "`view()`:"
   ]
  },
  {
   "cell_type": "code",
   "execution_count": 155,
   "metadata": {},
   "outputs": [
    {
     "data": {
      "text/plain": [
       "torch.Size([3, 64, 256])"
      ]
     },
     "execution_count": 155,
     "metadata": {},
     "output_type": "execute_result"
    }
   ],
   "source": [
    "x = torch.randn(3, 64, 256)\n",
    "x.shape"
   ]
  },
  {
   "cell_type": "code",
   "execution_count": 144,
   "metadata": {},
   "outputs": [
    {
     "data": {
      "text/plain": [
       "torch.Size([3, 256, 64])"
      ]
     },
     "execution_count": 144,
     "metadata": {},
     "output_type": "execute_result"
    }
   ],
   "source": [
    "x.view(3, 256, 64).shape"
   ]
  },
  {
   "cell_type": "code",
   "execution_count": 114,
   "metadata": {},
   "outputs": [
    {
     "data": {
      "text/plain": [
       "torch.Size([3, 16384])"
      ]
     },
     "execution_count": 114,
     "metadata": {},
     "output_type": "execute_result"
    }
   ],
   "source": [
    "x.view(3, -1).shape"
   ]
  },
  {
   "cell_type": "code",
   "execution_count": 150,
   "metadata": {},
   "outputs": [
    {
     "data": {
      "text/plain": [
       "torch.Size([3, 256, 64])"
      ]
     },
     "execution_count": 150,
     "metadata": {},
     "output_type": "execute_result"
    }
   ],
   "source": [
    "x.view(3, 256, -1).size()"
   ]
  },
  {
   "cell_type": "code",
   "execution_count": 156,
   "metadata": {},
   "outputs": [
    {
     "data": {
      "text/plain": [
       "tensor([ 1.7303,  0.3510,  0.0948,  ..., -0.0750, -0.7927, -1.0080])"
      ]
     },
     "execution_count": 156,
     "metadata": {},
     "output_type": "execute_result"
    }
   ],
   "source": [
    "z = x.view(-1)\n",
    "z"
   ]
  },
  {
   "cell_type": "code",
   "execution_count": 157,
   "metadata": {},
   "outputs": [],
   "source": [
    "z *= 0"
   ]
  },
  {
   "cell_type": "code",
   "execution_count": 158,
   "metadata": {},
   "outputs": [
    {
     "data": {
      "text/plain": [
       "tensor([0., 0., 0.,  ..., -0., -0., -0.])"
      ]
     },
     "execution_count": 158,
     "metadata": {},
     "output_type": "execute_result"
    }
   ],
   "source": [
    "z"
   ]
  },
  {
   "cell_type": "code",
   "execution_count": 159,
   "metadata": {},
   "outputs": [
    {
     "data": {
      "text/plain": [
       "tensor([[[0., 0., 0.,  ..., -0., -0., 0.],\n",
       "         [-0., 0., 0.,  ..., -0., 0., 0.],\n",
       "         [-0., -0., 0.,  ..., -0., 0., -0.],\n",
       "         ...,\n",
       "         [-0., -0., -0.,  ..., 0., -0., 0.],\n",
       "         [-0., 0., 0.,  ..., 0., 0., 0.],\n",
       "         [-0., -0., -0.,  ..., 0., -0., 0.]],\n",
       "\n",
       "        [[0., 0., -0.,  ..., 0., -0., -0.],\n",
       "         [0., 0., 0.,  ..., -0., 0., 0.],\n",
       "         [0., 0., 0.,  ..., 0., 0., -0.],\n",
       "         ...,\n",
       "         [-0., 0., -0.,  ..., -0., 0., -0.],\n",
       "         [-0., -0., -0.,  ..., 0., 0., -0.],\n",
       "         [0., -0., 0.,  ..., 0., -0., -0.]],\n",
       "\n",
       "        [[0., 0., 0.,  ..., 0., 0., 0.],\n",
       "         [-0., -0., 0.,  ..., -0., 0., -0.],\n",
       "         [-0., -0., 0.,  ..., -0., 0., -0.],\n",
       "         ...,\n",
       "         [0., 0., 0.,  ..., -0., -0., -0.],\n",
       "         [0., 0., 0.,  ..., -0., 0., -0.],\n",
       "         [0., 0., 0.,  ..., -0., -0., -0.]]])"
      ]
     },
     "execution_count": 159,
     "metadata": {},
     "output_type": "execute_result"
    }
   ],
   "source": [
    "x"
   ]
  },
  {
   "cell_type": "markdown",
   "metadata": {},
   "source": [
    "Больше - [тут](https://jhui.github.io/2018/02/09/PyTorch-Basic-operations/)."
   ]
  },
  {
   "cell_type": "markdown",
   "metadata": {
    "tags": []
   },
   "source": [
    "#### Задание:"
   ]
  },
  {
   "cell_type": "markdown",
   "metadata": {},
   "source": [
    "* Создать тензор размером `1x3x224x224` (имитируем батч из одной картинки с 3 каналами RGB размером `224х224`)\n",
    "    * Все значения в тензоре = `0.5`\n",
    "* Выполнить нормализацию через mean / std из датасета Imagenet:\n",
    "    * mean = `[0.485, 0.456, 0.406]`\n",
    "    * std = `[0.229, 0.224, 0.225]`\n",
    "* Посчитать среднее значение по каждому из 3-х каналов полученного тензора\n",
    "    * Ответ (`output`) должен иметь размерность (3,)\n",
    "\n",
    "\n",
    "NB: агрегирующие операции типа `min`/`max`/`mean`/... устроены аналогично в `numpy` и `torch`, но отличаютеся ключевым словом для уточнения размерностей:\n",
    "* в `numpy` - `axis`\n",
    "* в `torch` - `dim`"
   ]
  },
  {
   "cell_type": "code",
   "execution_count": 161,
   "metadata": {},
   "outputs": [],
   "source": [
    "X = torch.ones(1,3,224,224) * 0.5\n",
    "\n",
    "mean = torch.tensor([0.485, 0.456, 0.406])\n",
    "std = torch.tensor([0.229, 0.224, 0.225])\n",
    "\n",
    "normalized = (X - mean.view(-1,1,1)) / std.view(-1,1,1)\n",
    "output = normalized.mean(dim=[2,3]).squeeze(-1)\n",
    "\n",
    "# END OF YOUR CODE"
   ]
  },
  {
   "cell_type": "code",
   "execution_count": 163,
   "metadata": {},
   "outputs": [],
   "source": [
    "output = normalized.mean(dim=[2,3])"
   ]
  },
  {
   "cell_type": "code",
   "execution_count": 165,
   "metadata": {},
   "outputs": [
    {
     "name": "stderr",
     "output_type": "stream",
     "text": [
      "/home/victor/anaconda3/lib/python3.7/site-packages/torch/testing/_deprecated.py:35: FutureWarning: torch.testing.assert_allclose() is deprecated since 1.12 and will be removed in 1.14. Use torch.testing.assert_close() instead. For detailed upgrade instructions see https://github.com/pytorch/pytorch/issues/61844.\n",
      "  warnings.warn(msg, FutureWarning)\n"
     ]
    }
   ],
   "source": [
    "expected_output = torch.Tensor([0.0655, 0.1964, 0.4178])\n",
    "torch.testing.assert_allclose(output.squeeze(0), expected_output)"
   ]
  },
  {
   "cell_type": "markdown",
   "metadata": {
    "tags": [],
    "toc-hr-collapsed": true
   },
   "source": [
    "### 1.2. CPU <-> GPU"
   ]
  },
  {
   "cell_type": "markdown",
   "metadata": {},
   "source": [
    "`CUDA` - это библиотека для вычислений на графических ускорителях (от NVidia).\n",
    "`torch` умеет работать с GPU, но для этого в системе должны быть установлены совместимые версии `torch` / `cudatoolkit`. \n",
    "Подробнее можно почитать на [официальном сайте](https://pytorch.org/get-started/locally/)."
   ]
  },
  {
   "cell_type": "markdown",
   "metadata": {},
   "source": [
    "#### Получение информации о доступных \"девайсах\""
   ]
  },
  {
   "cell_type": "code",
   "execution_count": 123,
   "metadata": {},
   "outputs": [
    {
     "data": {
      "text/plain": [
       "False"
      ]
     },
     "execution_count": 123,
     "metadata": {},
     "output_type": "execute_result"
    }
   ],
   "source": [
    "torch.cuda.is_available()"
   ]
  },
  {
   "cell_type": "code",
   "execution_count": null,
   "metadata": {},
   "outputs": [],
   "source": [
    "torch.cuda.device_count()"
   ]
  },
  {
   "cell_type": "code",
   "execution_count": null,
   "metadata": {},
   "outputs": [],
   "source": [
    "device_alias = \"cuda:0\"\n",
    "# device_alias = \"cpu\""
   ]
  },
  {
   "cell_type": "code",
   "execution_count": null,
   "metadata": {},
   "outputs": [],
   "source": [
    "torch.cuda.get_device_name(device_alias)"
   ]
  },
  {
   "cell_type": "code",
   "execution_count": null,
   "metadata": {},
   "outputs": [],
   "source": [
    "device = torch.device(device_alias)"
   ]
  },
  {
   "cell_type": "code",
   "execution_count": null,
   "metadata": {},
   "outputs": [],
   "source": [
    "device"
   ]
  },
  {
   "cell_type": "markdown",
   "metadata": {},
   "source": [
    "#### Перемещение тензоров между девайсами: `.to(...)`"
   ]
  },
  {
   "cell_type": "code",
   "execution_count": null,
   "metadata": {},
   "outputs": [],
   "source": [
    "data_pt = torch.randn(8, 8)\n",
    "data_pt.device"
   ]
  },
  {
   "cell_type": "code",
   "execution_count": null,
   "metadata": {},
   "outputs": [],
   "source": [
    "data_pt = data_pt.to(device)\n",
    "data_pt.device"
   ]
  },
  {
   "cell_type": "code",
   "execution_count": null,
   "metadata": {},
   "outputs": [],
   "source": [
    "a = data_pt.to(torch.device(\"cpu\"))\n",
    "b = data_pt.to(\"cpu\")\n",
    "c = data_pt.cpu()\n",
    "\n",
    "a.device, b.device, c.device"
   ]
  },
  {
   "cell_type": "markdown",
   "metadata": {},
   "source": [
    "#### Скорость вычислений"
   ]
  },
  {
   "cell_type": "markdown",
   "metadata": {},
   "source": [
    "`8х8` @ `8x8`"
   ]
  },
  {
   "cell_type": "code",
   "execution_count": null,
   "metadata": {},
   "outputs": [],
   "source": [
    "data_pt = torch.randn(8, 8)\n",
    "data_pt.device"
   ]
  },
  {
   "cell_type": "code",
   "execution_count": null,
   "metadata": {},
   "outputs": [],
   "source": [
    "%timeit data_pt @ data_pt"
   ]
  },
  {
   "cell_type": "code",
   "execution_count": null,
   "metadata": {},
   "outputs": [],
   "source": [
    "data_pt = data_pt.to(device)\n",
    "data_pt.device"
   ]
  },
  {
   "cell_type": "code",
   "execution_count": null,
   "metadata": {},
   "outputs": [],
   "source": [
    "data_pt @ data_pt;"
   ]
  },
  {
   "cell_type": "code",
   "execution_count": null,
   "metadata": {},
   "outputs": [],
   "source": [
    "%timeit data_pt @ data_pt"
   ]
  },
  {
   "cell_type": "markdown",
   "metadata": {},
   "source": [
    "`64х64` @ `64x64`"
   ]
  },
  {
   "cell_type": "code",
   "execution_count": null,
   "metadata": {},
   "outputs": [],
   "source": [
    "data_pt = torch.randn(64, 64)\n",
    "data_pt.device"
   ]
  },
  {
   "cell_type": "code",
   "execution_count": null,
   "metadata": {},
   "outputs": [],
   "source": [
    "%timeit data_pt @ data_pt"
   ]
  },
  {
   "cell_type": "code",
   "execution_count": null,
   "metadata": {},
   "outputs": [],
   "source": [
    "data_pt = data_pt.to(device)\n",
    "data_pt.device"
   ]
  },
  {
   "cell_type": "code",
   "execution_count": null,
   "metadata": {},
   "outputs": [],
   "source": [
    "%timeit data_pt @ data_pt"
   ]
  },
  {
   "cell_type": "markdown",
   "metadata": {},
   "source": [
    "`256х256` @ `256x256`"
   ]
  },
  {
   "cell_type": "code",
   "execution_count": null,
   "metadata": {},
   "outputs": [],
   "source": [
    "data_pt = torch.randn(256, 256)\n",
    "data_pt.device"
   ]
  },
  {
   "cell_type": "code",
   "execution_count": null,
   "metadata": {},
   "outputs": [],
   "source": [
    "%timeit data_pt @ data_pt"
   ]
  },
  {
   "cell_type": "code",
   "execution_count": null,
   "metadata": {},
   "outputs": [],
   "source": [
    "data_pt = data_pt.to(device)\n",
    "data_pt.device"
   ]
  },
  {
   "cell_type": "code",
   "execution_count": null,
   "metadata": {},
   "outputs": [],
   "source": [
    "%timeit data_pt @ data_pt"
   ]
  },
  {
   "cell_type": "markdown",
   "metadata": {},
   "source": [
    "#### Объекты с разных девайсов"
   ]
  },
  {
   "cell_type": "code",
   "execution_count": null,
   "metadata": {},
   "outputs": [],
   "source": [
    "data_pt = torch.randn(3, 3)\n",
    "data_pt = data_pt.to(device)\n",
    "data_pt.device"
   ]
  },
  {
   "cell_type": "code",
   "execution_count": null,
   "metadata": {},
   "outputs": [],
   "source": [
    "data_pt.numpy()"
   ]
  },
  {
   "cell_type": "code",
   "execution_count": null,
   "metadata": {},
   "outputs": [],
   "source": [
    "data_pt.to(torch.device(\"cpu\")).numpy()"
   ]
  },
  {
   "cell_type": "markdown",
   "metadata": {},
   "source": [
    "Взаимодействовать друг с другом могут только объекты, лежащие на одном девайсе"
   ]
  },
  {
   "cell_type": "code",
   "execution_count": null,
   "metadata": {},
   "outputs": [],
   "source": [
    "data_pt_1 = torch.randn(3, 3)\n",
    "data_pt_1 = data_pt_1.to(device)\n",
    "data_pt_1.device"
   ]
  },
  {
   "cell_type": "code",
   "execution_count": null,
   "metadata": {},
   "outputs": [],
   "source": [
    "data_pt_2 = torch.randn(3, 3)\n",
    "data_pt_2 = data_pt_2#.to(\"cpu\")\n",
    "data_pt_2.device"
   ]
  },
  {
   "cell_type": "code",
   "execution_count": null,
   "metadata": {},
   "outputs": [],
   "source": [
    "data_pt_1 + data_pt_2"
   ]
  },
  {
   "cell_type": "code",
   "execution_count": null,
   "metadata": {},
   "outputs": [],
   "source": [
    "data_pt_1 + data_pt_2.to(data_pt_1.device)"
   ]
  },
  {
   "cell_type": "code",
   "execution_count": null,
   "metadata": {},
   "outputs": [],
   "source": [
    "data_pt_2.device"
   ]
  },
  {
   "cell_type": "markdown",
   "metadata": {},
   "source": [
    "#### Поддержка \"особенных\" типов на GPU"
   ]
  },
  {
   "cell_type": "markdown",
   "metadata": {},
   "source": [
    "https://docs.nvidia.com/deeplearning/tensorrt/support-matrix/index.html#hardware-precision-matrix"
   ]
  },
  {
   "cell_type": "code",
   "execution_count": null,
   "metadata": {},
   "outputs": [],
   "source": [
    "data_pt = torch.randn(3, 3).type(torch.float16).to(device)"
   ]
  },
  {
   "cell_type": "code",
   "execution_count": null,
   "metadata": {},
   "outputs": [],
   "source": [
    "data_pt + 1"
   ]
  },
  {
   "cell_type": "code",
   "execution_count": null,
   "metadata": {},
   "outputs": [],
   "source": []
  },
  {
   "cell_type": "code",
   "execution_count": null,
   "metadata": {},
   "outputs": [],
   "source": [
    "data_pt = torch.randn(3, 3).type(torch.int8).to(device)"
   ]
  },
  {
   "cell_type": "code",
   "execution_count": null,
   "metadata": {},
   "outputs": [],
   "source": [
    "data_pt + 1"
   ]
  },
  {
   "cell_type": "markdown",
   "metadata": {},
   "source": [
    "Прекрасно, что `pytorch` умеет делать все то же, что и `numpy`.\n",
    "Но зачем он нужен, если *уже есть* `numpy`?"
   ]
  },
  {
   "cell_type": "markdown",
   "metadata": {
    "tags": []
   },
   "source": [
    "## 2. Автоматическое дифференцирование"
   ]
  },
  {
   "cell_type": "markdown",
   "metadata": {},
   "source": [
    "Заметим, что алгебраические выражения можно интерпретировать как вычислительные графы:\n",
    "\n",
    "* $f(x) = w1 \\times x + w2 \\times y + w3 \\rightarrow $\n",
    "\n",
    "![comp_graph_03](https://i.ibb.co/f8yv1Kc/aim-seminar01-compgraphs-11-1.png)\n",
    "\n",
    "Чтобы было проще жить, теперь у нас есть `torch`:"
   ]
  },
  {
   "cell_type": "markdown",
   "metadata": {},
   "source": [
    "#### `.backward()`"
   ]
  },
  {
   "cell_type": "code",
   "execution_count": null,
   "metadata": {},
   "outputs": [],
   "source": [
    "def f(x, y, w1, w2, w3):\n",
    "    return w1 * x + w2 * y + w3"
   ]
  },
  {
   "cell_type": "code",
   "execution_count": null,
   "metadata": {},
   "outputs": [],
   "source": [
    "x = torch.tensor([1.])\n",
    "x.requires_grad"
   ]
  },
  {
   "cell_type": "code",
   "execution_count": null,
   "metadata": {},
   "outputs": [],
   "source": [
    "y = torch.tensor([2.])\n",
    "y.requires_grad"
   ]
  },
  {
   "cell_type": "markdown",
   "metadata": {},
   "source": [
    "Для \"включения\" градиентов у переменной, нужно об этом прямо заявить: "
   ]
  },
  {
   "cell_type": "code",
   "execution_count": null,
   "metadata": {},
   "outputs": [],
   "source": [
    "w1 = torch.tensor([0.33])\n",
    "w1.requires_grad_(True)\n",
    "w1.requires_grad"
   ]
  },
  {
   "cell_type": "code",
   "execution_count": null,
   "metadata": {},
   "outputs": [],
   "source": [
    "w2 = torch.tensor([-1.5]).requires_grad_(True)\n",
    "w2.requires_grad"
   ]
  },
  {
   "cell_type": "code",
   "execution_count": null,
   "metadata": {},
   "outputs": [],
   "source": [
    "w3 = torch.tensor([0.01], requires_grad=True)\n",
    "w3.requires_grad"
   ]
  },
  {
   "cell_type": "code",
   "execution_count": null,
   "metadata": {},
   "outputs": [],
   "source": [
    "variables = [x, y, w1, w2, w3]\n",
    "names = [\"x\", \"y\", \"w1\", \"w2\", \"w3\"]"
   ]
  },
  {
   "cell_type": "code",
   "execution_count": null,
   "metadata": {},
   "outputs": [],
   "source": [
    "print(\"name\\tval\\tgrad\")\n",
    "for n, v in zip(names, variables):\n",
    "    print(f\"{n}\\t{v.item():2.3f}\\t{v.grad}\")"
   ]
  },
  {
   "cell_type": "markdown",
   "metadata": {},
   "source": [
    "Еще раз насладимся магией автоматического дифференцирования:"
   ]
  },
  {
   "cell_type": "code",
   "execution_count": null,
   "metadata": {},
   "outputs": [],
   "source": [
    "output = f(x, y, w1, w2, w3)\n",
    "output"
   ]
  },
  {
   "cell_type": "code",
   "execution_count": null,
   "metadata": {},
   "outputs": [],
   "source": [
    "print(\"name\\tval\\tgrad\")\n",
    "for n, v in zip(names, variables):\n",
    "    print(f\"{n}\\t{v.item():2.3f}\\t{v.grad}\")"
   ]
  },
  {
   "cell_type": "code",
   "execution_count": null,
   "metadata": {},
   "outputs": [],
   "source": [
    "output.backward()"
   ]
  },
  {
   "cell_type": "code",
   "execution_count": null,
   "metadata": {},
   "outputs": [],
   "source": [
    "print(\"name\\tval\\tgrad\")\n",
    "for n, v in zip(names, variables):\n",
    "    print(f\"{n}\\t{v.item():2.3f}\\t{v.grad}\")"
   ]
  },
  {
   "cell_type": "markdown",
   "metadata": {},
   "source": [
    "Попробуем вызвать `backward()` еще раз:"
   ]
  },
  {
   "cell_type": "code",
   "execution_count": null,
   "metadata": {},
   "outputs": [],
   "source": [
    "output.backward()"
   ]
  },
  {
   "cell_type": "markdown",
   "metadata": {},
   "source": [
    "**Вопрос:** зачем может быть нужно делать `backward()` больше одного раза?"
   ]
  },
  {
   "cell_type": "code",
   "execution_count": null,
   "metadata": {},
   "outputs": [],
   "source": [
    "del output\n",
    "for var in variables:\n",
    "    var.grad = None"
   ]
  },
  {
   "cell_type": "code",
   "execution_count": null,
   "metadata": {},
   "outputs": [],
   "source": [
    "print(\"name\\tval\\tgrad\")\n",
    "for n, v in zip(names, variables):\n",
    "    print(f\"{n}\\t{v.item():2.3f}\\t{v.grad}\")"
   ]
  },
  {
   "cell_type": "code",
   "execution_count": null,
   "metadata": {},
   "outputs": [],
   "source": [
    "output = f(x, y, w1, w2, w3)\n",
    "output"
   ]
  },
  {
   "cell_type": "code",
   "execution_count": null,
   "metadata": {},
   "outputs": [],
   "source": [
    "output.backward(retain_graph=True)"
   ]
  },
  {
   "cell_type": "code",
   "execution_count": null,
   "metadata": {},
   "outputs": [],
   "source": [
    "print(\"name\\tval\\tgrad\")\n",
    "for n, v in zip(names, variables):\n",
    "    print(f\"{n}\\t{v.item():2.3f}\\t{v.grad}\")"
   ]
  },
  {
   "cell_type": "code",
   "execution_count": null,
   "metadata": {},
   "outputs": [],
   "source": [
    "output.backward()"
   ]
  },
  {
   "cell_type": "code",
   "execution_count": null,
   "metadata": {},
   "outputs": [],
   "source": [
    "print(\"name\\tval\\tgrad\")\n",
    "for n, v in zip(names, variables):\n",
    "    print(f\"{n}\\t{v.item():2.3f}\\t{v.grad}\")"
   ]
  },
  {
   "cell_type": "code",
   "execution_count": null,
   "metadata": {},
   "outputs": [],
   "source": [
    "output.backward()"
   ]
  },
  {
   "cell_type": "markdown",
   "metadata": {},
   "source": [
    "#### `torch.no_grad()`"
   ]
  },
  {
   "cell_type": "markdown",
   "metadata": {},
   "source": [
    "Данный контекст гарантирует, что во всех вычислениях внутри него будут отключены градиенты."
   ]
  },
  {
   "cell_type": "code",
   "execution_count": null,
   "metadata": {},
   "outputs": [],
   "source": [
    "x = torch.randn(64, 512, 16, 16)\n",
    "x.requires_grad_(True);"
   ]
  },
  {
   "cell_type": "code",
   "execution_count": null,
   "metadata": {},
   "outputs": [],
   "source": [
    "y = (10 * x).sum()"
   ]
  },
  {
   "cell_type": "code",
   "execution_count": null,
   "metadata": {},
   "outputs": [],
   "source": [
    "y.requires_grad"
   ]
  },
  {
   "cell_type": "code",
   "execution_count": null,
   "metadata": {},
   "outputs": [],
   "source": [
    "with torch.no_grad():\n",
    "    z = (100 * x).sum()"
   ]
  },
  {
   "cell_type": "code",
   "execution_count": null,
   "metadata": {},
   "outputs": [],
   "source": [
    "z.requires_grad"
   ]
  },
  {
   "cell_type": "code",
   "execution_count": null,
   "metadata": {},
   "outputs": [],
   "source": [
    "x.requires_grad"
   ]
  },
  {
   "cell_type": "markdown",
   "metadata": {},
   "source": [
    "Зачем это может быть нужно?\n",
    "\n",
    "Посмотрим на потребление памяти при использовании функции активации сигмоида:"
   ]
  },
  {
   "cell_type": "code",
   "execution_count": null,
   "metadata": {},
   "outputs": [],
   "source": [
    "import torch\n",
    "\n",
    "device = torch.device(\"cuda:0\")\n",
    "\n",
    "from torch.nn import Sigmoid"
   ]
  },
  {
   "cell_type": "code",
   "execution_count": null,
   "metadata": {},
   "outputs": [],
   "source": [
    "bytes_in_kilobyte = 1024\n",
    "\n",
    "def get_allocated_memory():\n",
    "    mem_MB = torch.cuda.memory_allocated(device=device) / bytes_in_kilobyte\n",
    "    return round(mem_MB, 3)\n",
    "\n",
    "def get_tensor_memory(t):\n",
    "    mem_MB = t.nelement() * t.element_size() / bytes_in_kilobyte\n",
    "    return round(mem_MB, 3)"
   ]
  },
  {
   "cell_type": "code",
   "execution_count": null,
   "metadata": {},
   "outputs": [],
   "source": []
  },
  {
   "cell_type": "code",
   "execution_count": null,
   "metadata": {},
   "outputs": [],
   "source": [
    "torch.cuda.empty_cache()\n",
    "get_allocated_memory()"
   ]
  },
  {
   "cell_type": "code",
   "execution_count": null,
   "metadata": {},
   "outputs": [],
   "source": [
    "s = Sigmoid().to(device)\n",
    "get_allocated_memory()"
   ]
  },
  {
   "cell_type": "code",
   "execution_count": null,
   "metadata": {},
   "outputs": [],
   "source": [
    "x = torch.randn(64, 512, 16, 16).to(device)\n",
    "x.requires_grad_(True);\n",
    "get_tensor_memory(x)"
   ]
  },
  {
   "cell_type": "code",
   "execution_count": null,
   "metadata": {},
   "outputs": [],
   "source": [
    "64 * 512 * 16 * 16 * 4 / 1024"
   ]
  },
  {
   "cell_type": "code",
   "execution_count": null,
   "metadata": {},
   "outputs": [],
   "source": [
    "get_allocated_memory()"
   ]
  },
  {
   "cell_type": "code",
   "execution_count": null,
   "metadata": {},
   "outputs": [],
   "source": [
    "y = s(x).mean()\n",
    "get_tensor_memory(y)"
   ]
  },
  {
   "cell_type": "code",
   "execution_count": null,
   "metadata": {},
   "outputs": [],
   "source": [
    "get_allocated_memory()"
   ]
  },
  {
   "cell_type": "code",
   "execution_count": null,
   "metadata": {},
   "outputs": [],
   "source": [
    "y.backward()\n",
    "get_allocated_memory()"
   ]
  },
  {
   "cell_type": "markdown",
   "metadata": {},
   "source": [
    "Сделаем то же самое, но с `torch.no_grad()`:"
   ]
  },
  {
   "cell_type": "code",
   "execution_count": null,
   "metadata": {},
   "outputs": [],
   "source": [
    "# torch.cuda.empty_cache()\n",
    "get_allocated_memory()"
   ]
  },
  {
   "cell_type": "code",
   "execution_count": null,
   "metadata": {},
   "outputs": [],
   "source": [
    "s = Sigmoid().to(device)\n",
    "get_allocated_memory()"
   ]
  },
  {
   "cell_type": "code",
   "execution_count": null,
   "metadata": {},
   "outputs": [],
   "source": [
    "x = torch.randn(64, 512, 16, 16).to(device)\n",
    "x.requires_grad_(True);\n",
    "get_tensor_memory(x)"
   ]
  },
  {
   "cell_type": "code",
   "execution_count": null,
   "metadata": {},
   "outputs": [],
   "source": [
    "get_allocated_memory()"
   ]
  },
  {
   "cell_type": "code",
   "execution_count": null,
   "metadata": {},
   "outputs": [],
   "source": [
    "with torch.no_grad():\n",
    "    y = s(x).mean()\n",
    "get_tensor_memory(y)"
   ]
  },
  {
   "cell_type": "code",
   "execution_count": null,
   "metadata": {},
   "outputs": [],
   "source": [
    "get_allocated_memory()"
   ]
  },
  {
   "cell_type": "markdown",
   "metadata": {},
   "source": [
    "Почему потребление памяти уменьшилось?\n",
    "Подробнее [тут](https://medium.com/deep-learning-for-protein-design/a-comprehensive-guide-to-memory-usage-in-pytorch-b9b7c78031d3) или [тут](https://pytorch.org/tutorials/recipes/recipes/tuning_guide.html)."
   ]
  },
  {
   "cell_type": "markdown",
   "metadata": {},
   "source": [
    "## 3. Пример задачи регрессии"
   ]
  },
  {
   "cell_type": "code",
   "execution_count": null,
   "metadata": {},
   "outputs": [],
   "source": [
    "import numpy as np\n",
    "import matplotlib.pyplot as plt\n",
    "import tqdm\n",
    "import torch"
   ]
  },
  {
   "cell_type": "code",
   "execution_count": null,
   "metadata": {},
   "outputs": [],
   "source": [
    "np.random.seed(0xAB0BA)\n",
    "_a = np.random.uniform(1, 5)\n",
    "_b = np.random.uniform(-3, 3)\n",
    "_c = np.random.uniform(-3, 3)\n",
    "\n",
    "num_samples = 100\n",
    "\n",
    "xs = np.random.uniform(-3, 3, size=num_samples)\n",
    "ys_clean = _a * xs ** 2 + _b * xs + _c\n",
    "ys_noise = np.random.normal(0, 1, size=len(ys_clean))\n",
    "ys = ys_clean + ys_noise\n",
    "\n",
    "plt.figure(figsize=(12, 5))\n",
    "plt.scatter(xs, ys, label=\"gt\", s=5)\n",
    "plt.xlabel(\"x\")\n",
    "plt.ylabel(\"y\")\n",
    "plt.legend()\n",
    "plt.grid(True)"
   ]
  },
  {
   "cell_type": "code",
   "execution_count": null,
   "metadata": {},
   "outputs": [],
   "source": [
    "def model(x, a, b, c):\n",
    "    return a * x ** 2 + b * x + c"
   ]
  },
  {
   "cell_type": "code",
   "execution_count": null,
   "metadata": {},
   "outputs": [],
   "source": [
    "# device = torch.device(\"cuda:0\")\n",
    "device = torch.device(\"cpu\")"
   ]
  },
  {
   "cell_type": "markdown",
   "metadata": {},
   "source": [
    "Создадим переменные `xs_device` и `ys_device`, которые будут содержать обучающие данные сразу на нужном девайсе в виде тензоров.\n",
    "\n",
    "**Вопрос:** `requires_grad=True` или `requires_grad=False`?"
   ]
  },
  {
   "cell_type": "code",
   "execution_count": null,
   "metadata": {},
   "outputs": [],
   "source": [
    "# YOUR CODE HERE\n",
    "\n",
    "xs_device = ...\n",
    "ys_device = ...\n",
    "\n",
    "# END OF YOUR CODE"
   ]
  },
  {
   "cell_type": "markdown",
   "metadata": {},
   "source": [
    "Теперь инициализируем веса `a`, `b` и `c` нормальным распределением:"
   ]
  },
  {
   "cell_type": "code",
   "execution_count": null,
   "metadata": {},
   "outputs": [],
   "source": [
    "# YOUR CODE HERE\n",
    "\n",
    "a = ...\n",
    "b = ...\n",
    "c = ...\n",
    "\n",
    "# END OF YOUR CODE"
   ]
  },
  {
   "cell_type": "markdown",
   "metadata": {},
   "source": [
    "Допишем рутину обучения, чтобы получить значения весов модели."
   ]
  },
  {
   "cell_type": "code",
   "execution_count": null,
   "metadata": {},
   "outputs": [],
   "source": [
    "num_epochs = 300\n",
    "lr = 1e-4\n",
    "indices = np.arange(len(xs))\n",
    "\n",
    "loss_list = []\n",
    "a_list = []\n",
    "b_list = []\n",
    "c_list = []\n",
    "\n",
    "\n",
    "for epoch in tqdm.trange(num_epochs):\n",
    "    np.random.shuffle(indices)\n",
    "\n",
    "    loss_epoch = []\n",
    "    for i in indices:\n",
    "        \n",
    "        # YOUR CODE HERE\n",
    "        \n",
    "        x = ...\n",
    "        y_true = ...\n",
    "        y_pred = ... \n",
    "        loss = ...\n",
    "        \n",
    "        # END OF YOUR CODE\n",
    "        \n",
    "        with torch.no_grad():\n",
    "            a.data -= lr * a.grad.data\n",
    "            b.data -= lr * b.grad.data\n",
    "            c.data -= lr * c.grad.data\n",
    "            a.grad.zero_()\n",
    "            b.grad.zero_()\n",
    "            c.grad.zero_()\n",
    "            \n",
    "        loss_epoch.append(loss.item())\n",
    "        \n",
    "    loss_list.append(np.mean(loss_epoch))\n",
    "    a_list.append(a.item())\n",
    "    b_list.append(b.item())\n",
    "    c_list.append(c.item())"
   ]
  },
  {
   "cell_type": "markdown",
   "metadata": {},
   "source": [
    "А теперь посмотрим на результаты:"
   ]
  },
  {
   "cell_type": "code",
   "execution_count": null,
   "metadata": {},
   "outputs": [],
   "source": [
    "xs_sorted = np.sort(xs)\n",
    "\n",
    "ys_pred_per_epoch = []\n",
    "for epoch in range(num_epochs):\n",
    "    a_epoch = a_list[epoch]\n",
    "    b_epoch = b_list[epoch]\n",
    "    c_epoch = c_list[epoch]\n",
    "    with torch.no_grad():\n",
    "        ys_pred_epoch = model(xs_sorted, a_epoch, b_epoch, c_epoch)\n",
    "    ys_pred_per_epoch.append(ys_pred_epoch)"
   ]
  },
  {
   "cell_type": "code",
   "execution_count": null,
   "metadata": {},
   "outputs": [],
   "source": [
    "plt.figure(figsize=(12, 5))\n",
    "plt.scatter(xs, ys, label=\"gt\", s=5, c=\"r\")\n",
    "plt.plot(xs_sorted, ys_pred_per_epoch[-1], label=\"pred\", c=\"g\")\n",
    "plt.xlabel(\"x\")\n",
    "plt.ylabel(\"y\")\n",
    "plt.legend()\n",
    "plt.grid(True)\n",
    "plt.show()"
   ]
  },
  {
   "cell_type": "markdown",
   "metadata": {},
   "source": [
    "Если есть нужные зависимости у `jupyterlab` (**осторожно, может все сломать**), можно сделать интерактивно:"
   ]
  },
  {
   "cell_type": "code",
   "execution_count": null,
   "metadata": {},
   "outputs": [],
   "source": [
    "#!pip install ipympl"
   ]
  },
  {
   "cell_type": "code",
   "execution_count": null,
   "metadata": {},
   "outputs": [],
   "source": [
    "%matplotlib ipympl\n",
    "from ipywidgets import *\n",
    "import numpy as np\n",
    "import matplotlib.pyplot as plt\n",
    "\n",
    "x = xs_sorted\n",
    "\n",
    "def f(x, i):\n",
    "    return model(x, a_list[i], b_list[i], c_list[i])\n",
    "\n",
    "fig = plt.figure(figsize=(12, 5))\n",
    "ax = fig.add_subplot(1, 1, 1)\n",
    "ax.set_xlabel(\"x\")\n",
    "ax.set_ylabel(\"y\")\n",
    "\n",
    "ax.scatter(xs, ys, label=\"gt\", s=5, c=\"r\")\n",
    "line, = ax.plot(x, f(x, i), label=\"pred\", c=\"g\")\n",
    "\n",
    "ax.legend()\n",
    "ax.grid(True)\n",
    "\n",
    "\n",
    "def update(i=0):\n",
    "    line.set_ydata(f(x, i))\n",
    "    fig.canvas.draw_idle()\n",
    "    \n",
    "interact(update, i=(0,num_epochs-1,1));"
   ]
  },
  {
   "cell_type": "code",
   "execution_count": null,
   "metadata": {},
   "outputs": [],
   "source": [
    "plt.figure(figsize=(12, 5))\n",
    "\n",
    "plt.subplot(1, 2, 1)\n",
    "plt.plot(loss_list)\n",
    "plt.xlabel(\"epoch\")\n",
    "plt.ylabel(\"loss\")\n",
    "plt.grid(True)\n",
    "plt.yscale(\"log\")\n",
    "\n",
    "plt.subplot(1, 2, 2)\n",
    "for p_name, p_gt, p_list, color in zip((\"a\", \"b\", \"c\"), (_a, _b, _c), (a_list, b_list, c_list), (\"r\", \"g\", \"b\")):\n",
    "    plt.hlines(y=p_gt, xmin=0, xmax=num_epochs, linestyles=\"dashed\", colors=color)\n",
    "    plt.scatter(range(len(p_list)), p_list, label=p_name, s=1, c=color)\n",
    "plt.xlabel(\"epoch\")\n",
    "plt.ylabel(\"param value\")\n",
    "plt.legend()\n",
    "plt.grid(True)\n",
    "\n",
    "plt.show()"
   ]
  },
  {
   "cell_type": "markdown",
   "metadata": {},
   "source": [
    "## 4. Переопределение `backward`"
   ]
  },
  {
   "cell_type": "markdown",
   "metadata": {
    "id": "g616ocbHv78t"
   },
   "source": [
    "Что, если нам хочется релизовать кстомный градиент для произвольной функции. \n",
    "\n",
    "Зачем?\n",
    "\n",
    " - Мы можем знать лучший способ посчитать градиент, чем делать бэкпроп для суперпозиции элементарных функций\n",
    " - Можем реализовать численно более устойчивый метод\n",
    " - Можем использовать функции из внешних библиотек\n",
    " - Использовать недифференцируемые функции?.."
   ]
  },
  {
   "cell_type": "markdown",
   "metadata": {
    "id": "nkYTgy6ZO_Ru"
   },
   "source": [
    "Рассмотрим сигмоиду:\n",
    "\n",
    "$$ \n",
    "  \\sigma(x) = \\frac{1}{1+e^{-x}}\n",
    "$$\n",
    "\n",
    "Если честно распишем суперпозицию функций, то получим:\n",
    "\n",
    "$$\n",
    "  \\sigma(x) = f_1 \\odot f_2  \\odot f_3 \\odot f_4(x), where \n",
    "$$\n",
    "\n",
    "$$\n",
    "f_1 = \\frac{1}{u}, f_2 = 1 + u, f_3 = \\exp(u), f_4 = -u\n",
    "$$\n",
    "\n",
    "Тогда:\n",
    "\n",
    "$$\n",
    "\\frac{\\partial \\sigma}{\\partial x} = \\frac{\\partial \\sigma}{\\partial f_2}\\frac{\\partial f_2}{\\partial f_3}\n",
    "\\frac{\\partial f_3}{\\partial f_4}\n",
    "\\frac{\\partial f_4}{\\partial x}\n",
    "$$\n",
    "\n",
    "Но зная как устроена производная можно упростить:\n",
    "\n",
    "$$\n",
    "\\frac{\\partial \\sigma}{\\partial x} = \\sigma(x)(1 - \\sigma(x))\n",
    "$$"
   ]
  },
  {
   "cell_type": "markdown",
   "metadata": {
    "id": "DRpFQBmuR-V_"
   },
   "source": [
    "Вручную задать градиени функции в библиотеке PyTorch можно создав дочерний класс от [`torch.autograd.Function`](https://pytorch.org/docs/stable/notes/extending.html#extending-torch-autograd).\n",
    "\n",
    "**NB**: Для того, чтобы сделать `backward()`, требуется знать результат `forward()`. Для этого у переменной контекста есть метод [`save_for_backward()`](https://pytorch.org/docs/stable/generated/torch.autograd.function.FunctionCtx.save_for_backward.html)."
   ]
  },
  {
   "cell_type": "code",
   "execution_count": null,
   "metadata": {
    "executionInfo": {
     "elapsed": 244,
     "status": "ok",
     "timestamp": 1631815233191,
     "user": {
      "displayName": "Filipp Nikitin",
      "photoUrl": "https://lh3.googleusercontent.com/a-/AOh14Gib7R6zFSdJ1Mn4MWbQTRjNvdPBqipg3uQtaNBFNg=s64",
      "userId": "00003629133353694743"
     },
     "user_tz": -180
    },
    "id": "okxelJTDO9_L"
   },
   "outputs": [],
   "source": [
    "class MySigmoid(torch.autograd.Function):\n",
    "    @staticmethod\n",
    "    def forward(ctx, x):\n",
    "        # YOUR CODE HERE\n",
    "        \n",
    "        val = ...\n",
    "        \n",
    "        \n",
    "        # END OF YOUR CODE\n",
    "        return val\n",
    "    \n",
    "    @staticmethod\n",
    "    def backward(ctx, grad_output):\n",
    "        # YOUR CODE HERE\n",
    "        \n",
    "        val, =  ...\n",
    "        grad = ...\n",
    "        \n",
    "        # END OF YOUR CODE\n",
    "        return grad"
   ]
  },
  {
   "cell_type": "code",
   "execution_count": null,
   "metadata": {
    "executionInfo": {
     "elapsed": 211,
     "status": "ok",
     "timestamp": 1631815238628,
     "user": {
      "displayName": "Filipp Nikitin",
      "photoUrl": "https://lh3.googleusercontent.com/a-/AOh14Gib7R6zFSdJ1Mn4MWbQTRjNvdPBqipg3uQtaNBFNg=s64",
      "userId": "00003629133353694743"
     },
     "user_tz": -180
    },
    "id": "n89TIozkVt27"
   },
   "outputs": [],
   "source": [
    "from torch.autograd import gradcheck"
   ]
  },
  {
   "cell_type": "code",
   "execution_count": null,
   "metadata": {
    "colab": {
     "base_uri": "https://localhost:8080/"
    },
    "executionInfo": {
     "elapsed": 227,
     "status": "ok",
     "timestamp": 1631815280552,
     "user": {
      "displayName": "Filipp Nikitin",
      "photoUrl": "https://lh3.googleusercontent.com/a-/AOh14Gib7R6zFSdJ1Mn4MWbQTRjNvdPBqipg3uQtaNBFNg=s64",
      "userId": "00003629133353694743"
     },
     "user_tz": -180
    },
    "id": "42MVi8npWlAR",
    "outputId": "15653e25-a437-4e4b-b093-5c610ee3e56f"
   },
   "outputs": [],
   "source": [
    "sigmoid = MySigmoid.apply\n",
    "x = torch.rand(2, requires_grad=True)\n",
    "print(gradcheck(sigmoid, x, eps=1e-4, atol=1e-3))\n",
    "\n",
    "# be sure to use double for better approximation\n",
    "x = torch.rand(2, requires_grad=True).double()\n",
    "print(gradcheck(sigmoid, x, eps=1e-6, atol=1e-4))"
   ]
  },
  {
   "cell_type": "markdown",
   "metadata": {
    "id": "aXYgzHcz7E_1"
   },
   "source": [
    "PyTorch умеет считать матрицу Якоби или матрицу Гессе для заданной функции."
   ]
  },
  {
   "cell_type": "code",
   "execution_count": null,
   "metadata": {
    "executionInfo": {
     "elapsed": 229,
     "status": "ok",
     "timestamp": 1631815491399,
     "user": {
      "displayName": "Filipp Nikitin",
      "photoUrl": "https://lh3.googleusercontent.com/a-/AOh14Gib7R6zFSdJ1Mn4MWbQTRjNvdPBqipg3uQtaNBFNg=s64",
      "userId": "00003629133353694743"
     },
     "user_tz": -180
    },
    "id": "a65TCapsZBlf"
   },
   "outputs": [],
   "source": [
    "from torch.autograd.functional import hessian, jacobian"
   ]
  },
  {
   "cell_type": "code",
   "execution_count": null,
   "metadata": {
    "colab": {
     "base_uri": "https://localhost:8080/"
    },
    "executionInfo": {
     "elapsed": 246,
     "status": "ok",
     "timestamp": 1631815519585,
     "user": {
      "displayName": "Filipp Nikitin",
      "photoUrl": "https://lh3.googleusercontent.com/a-/AOh14Gib7R6zFSdJ1Mn4MWbQTRjNvdPBqipg3uQtaNBFNg=s64",
      "userId": "00003629133353694743"
     },
     "user_tz": -180
    },
    "id": "nS-DSoplZ6E_",
    "outputId": "db8a907c-8365-451f-d6f0-d1d186a54d97"
   },
   "outputs": [],
   "source": [
    "jacobian(sigmoid, x)"
   ]
  },
  {
   "cell_type": "code",
   "execution_count": null,
   "metadata": {
    "executionInfo": {
     "elapsed": 215,
     "status": "ok",
     "timestamp": 1631815472226,
     "user": {
      "displayName": "Filipp Nikitin",
      "photoUrl": "https://lh3.googleusercontent.com/a-/AOh14Gib7R6zFSdJ1Mn4MWbQTRjNvdPBqipg3uQtaNBFNg=s64",
      "userId": "00003629133353694743"
     },
     "user_tz": -180
    },
    "id": "z_nXiJsFXoDR"
   },
   "outputs": [],
   "source": [
    "def sum_sigmoid(x):\n",
    "    return torch.sum(sigmoid(x))"
   ]
  },
  {
   "cell_type": "code",
   "execution_count": null,
   "metadata": {},
   "outputs": [],
   "source": [
    "hessian(sum_sigmoid, x)"
   ]
  },
  {
   "cell_type": "markdown",
   "metadata": {
    "id": "vLPPlL6Sj39B"
   },
   "source": [
    "## Итоги\n",
    "\n",
    "* Узнали, что такое `pytorch` и как в нем работать с тензорами\n",
    "* Немного погрели GPU, запустив вычисления на нем\n",
    "* Решили пример задачи, используя только библиотеку `pytorch`\n",
    "* Написали собственную реализацию сигмоидальной нелинейности"
   ]
  },
  {
   "cell_type": "markdown",
   "metadata": {},
   "source": [
    "Что еще почитать:\n",
    "* [A gentle introduction to `torch.autograd`](https://pytorch.org/tutorials/beginner/blitz/autograd_tutorial.html)\n",
    "* [Extending pytorch](https://pytorch.org/docs/stable/notes/extending.html#extending-torch-autograd)"
   ]
  },
  {
   "cell_type": "markdown",
   "metadata": {},
   "source": [
    "В следующий раз: \n",
    "* (наконец-то) нейросети на pytorch"
   ]
  },
  {
   "cell_type": "code",
   "execution_count": null,
   "metadata": {},
   "outputs": [],
   "source": []
  }
 ],
 "metadata": {
  "accelerator": "GPU",
  "colab": {
   "authorship_tag": "ABX9TyM3x5e0hXQ/KRZ2lfc2ew+0",
   "name": "02. PyTorch autograd (classwork).ipynb",
   "provenance": [
    {
     "file_id": "1ZysOsvyIEv_yWYw9vvt8yWt5Q0MgRA57",
     "timestamp": 1631790599254
    }
   ]
  },
  "kernelspec": {
   "display_name": "base",
   "language": "python",
   "name": "python3"
  },
  "language_info": {
   "codemirror_mode": {
    "name": "ipython",
    "version": 3
   },
   "file_extension": ".py",
   "mimetype": "text/x-python",
   "name": "python",
   "nbconvert_exporter": "python",
   "pygments_lexer": "ipython3",
   "version": "3.7.16"
  }
 },
 "nbformat": 4,
 "nbformat_minor": 4
}
