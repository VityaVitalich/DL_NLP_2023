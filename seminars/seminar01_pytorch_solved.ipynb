{
 "cells": [
  {
   "cell_type": "markdown",
   "metadata": {
    "id": "TDm6dCbbPfGy"
   },
   "source": [
    "# 01. Библиотека PyTorch"
   ]
  },
  {
   "cell_type": "markdown",
   "metadata": {
    "id": "MlRU0ZTkPs7_"
   },
   "source": [
    "## План\n",
    "1. `numpy` -> `pytorch`\n",
    "2. Автоматическое дифференцирование (`torch.autograd`)\n",
    "\n",
    "Если успеем\n",
    "\n",
    "3. Пример: задача регрессии\n",
    "4. BONUS! Переопределение `backward()`\n"
   ]
  },
  {
   "cell_type": "markdown",
   "metadata": {},
   "source": [
    "[PyTorch](https://pytorch.org) - это фреймворк для машинного обучения:\n",
    "* В первую очередь - для нейросетевых моделей\n",
    "* Большие возможности для работы с тензорами\n",
    "* Поддержка выполнения на CPU / GPU / TPU ([!](https://github.com/pytorch/xla))\n",
    "* Автоматическое дифференцирование вычислительных графов (`torch.autograd`)\n",
    "* Широкий набор строительных блоков для DL-моделей (`torch.nn`) и готовых архитектур (`torchvision.models`+)\n",
    "* Удобная поддержка реализации своих операций / слоев / функций потерь / ..."
   ]
  },
  {
   "cell_type": "raw",
   "metadata": {},
   "source": [
    "!pip install torch  \n",
    "# or goto https://pytorch.org/get-started/locally/"
   ]
  },
  {
   "cell_type": "markdown",
   "metadata": {
    "tags": []
   },
   "source": [
    "## 1. `numpy` <-> `pytorch`"
   ]
  },
  {
   "cell_type": "code",
   "execution_count": 1,
   "metadata": {},
   "outputs": [],
   "source": [
    "import torch\n",
    "import numpy as np\n",
    "import time"
   ]
  },
  {
   "cell_type": "markdown",
   "metadata": {
    "tags": [],
    "toc-hr-collapsed": true
   },
   "source": [
    "### 1.1. Работа с тензорами"
   ]
  },
  {
   "cell_type": "markdown",
   "metadata": {},
   "source": [
    "~Все, что можно делать с многомерными массивами в `numpy`, можно делать и в `pytorch`:\n",
    "* `np.ndarray` -> `torch.Tensor`\n",
    "    * [broadcasting](https://numpy.org/doc/stable/user/basics.broadcasting.html)\n",
    "* `np.zeros()` -> `torch.zeros()`\n",
    "* `np.stack()` -> `torch.stack()`\n",
    "* `np.concatenate` -> `torch.cat()` \n",
    "* `np.random.normal()` -> `torch.randn()`\n",
    "* ..."
   ]
  },
  {
   "cell_type": "markdown",
   "metadata": {},
   "source": [
    "#### `np.ndarray` <-> `torch.Tensor`"
   ]
  },
  {
   "cell_type": "code",
   "execution_count": 2,
   "metadata": {},
   "outputs": [
    {
     "data": {
      "text/plain": [
       "(3, 3)"
      ]
     },
     "execution_count": 2,
     "metadata": {},
     "output_type": "execute_result"
    }
   ],
   "source": [
    "data_np = np.random.uniform(size=(3, 3))\n",
    "data_np.shape"
   ]
  },
  {
   "cell_type": "code",
   "execution_count": 3,
   "metadata": {},
   "outputs": [
    {
     "data": {
      "text/plain": [
       "array([[0.12095388, 0.65874876, 0.90675139],\n",
       "       [0.83805525, 0.45104611, 0.86043494],\n",
       "       [0.32903411, 0.85679865, 0.3005737 ]])"
      ]
     },
     "execution_count": 3,
     "metadata": {},
     "output_type": "execute_result"
    }
   ],
   "source": [
    "data_np"
   ]
  },
  {
   "cell_type": "markdown",
   "metadata": {},
   "source": [
    "Создание тензора из данных в форме `numpy.ndarray` через [`torch.from_numpy()`](https://pytorch.org/docs/stable/generated/torch.from_numpy.html):"
   ]
  },
  {
   "cell_type": "code",
   "execution_count": 4,
   "metadata": {},
   "outputs": [
    {
     "data": {
      "text/plain": [
       "torch.Size([3, 3])"
      ]
     },
     "execution_count": 4,
     "metadata": {},
     "output_type": "execute_result"
    }
   ],
   "source": [
    "data_pt = torch.from_numpy(data_np)\n",
    "data_pt.shape"
   ]
  },
  {
   "cell_type": "code",
   "execution_count": 5,
   "metadata": {},
   "outputs": [
    {
     "data": {
      "text/plain": [
       "array([[ True,  True,  True],\n",
       "       [ True,  True,  True],\n",
       "       [ True,  True,  True]])"
      ]
     },
     "execution_count": 5,
     "metadata": {},
     "output_type": "execute_result"
    }
   ],
   "source": [
    "data_np == data_pt.numpy()  # <- get data from Tensor as numpy array"
   ]
  },
  {
   "cell_type": "code",
   "execution_count": 6,
   "metadata": {},
   "outputs": [
    {
     "data": {
      "text/plain": [
       "dtype('float64')"
      ]
     },
     "execution_count": 6,
     "metadata": {},
     "output_type": "execute_result"
    }
   ],
   "source": [
    "data_np.dtype"
   ]
  },
  {
   "cell_type": "code",
   "execution_count": 7,
   "metadata": {},
   "outputs": [
    {
     "data": {
      "text/plain": [
       "torch.float64"
      ]
     },
     "execution_count": 7,
     "metadata": {},
     "output_type": "execute_result"
    }
   ],
   "source": [
    "data_pt.dtype"
   ]
  },
  {
   "cell_type": "markdown",
   "metadata": {},
   "source": [
    "Важно: при создании тензора через `torch.from_numpy()` данные шарятся между объектами:"
   ]
  },
  {
   "cell_type": "code",
   "execution_count": 8,
   "metadata": {},
   "outputs": [
    {
     "data": {
      "text/plain": [
       "tensor([[-999.8790, -999.3413, -999.0932],\n",
       "        [-999.1619, -999.5490, -999.1396],\n",
       "        [-999.6710, -999.1432, -999.6994]], dtype=torch.float64)"
      ]
     },
     "execution_count": 8,
     "metadata": {},
     "output_type": "execute_result"
    }
   ],
   "source": [
    "t = data_pt.numpy() \n",
    "t -= 1000\n",
    "data_pt"
   ]
  },
  {
   "cell_type": "code",
   "execution_count": 9,
   "metadata": {},
   "outputs": [
    {
     "data": {
      "text/plain": [
       "array([[-999.87904612, -999.34125124, -999.09324861],\n",
       "       [-999.16194475, -999.54895389, -999.13956506],\n",
       "       [-999.67096589, -999.14320135, -999.6994263 ]])"
      ]
     },
     "execution_count": 9,
     "metadata": {},
     "output_type": "execute_result"
    }
   ],
   "source": [
    "data_np"
   ]
  },
  {
   "cell_type": "markdown",
   "metadata": {},
   "source": [
    "Создание тензора через конструктор `torch.tensor()`:"
   ]
  },
  {
   "cell_type": "code",
   "execution_count": 10,
   "metadata": {},
   "outputs": [
    {
     "data": {
      "text/plain": [
       "(3, 3)"
      ]
     },
     "execution_count": 10,
     "metadata": {},
     "output_type": "execute_result"
    }
   ],
   "source": [
    "data_np = np.random.uniform(size=(3, 3))\n",
    "data_np.shape"
   ]
  },
  {
   "cell_type": "code",
   "execution_count": 11,
   "metadata": {},
   "outputs": [
    {
     "data": {
      "text/plain": [
       "torch.Size([3, 3])"
      ]
     },
     "execution_count": 11,
     "metadata": {},
     "output_type": "execute_result"
    }
   ],
   "source": [
    "data_pt = torch.tensor(data_np)\n",
    "data_pt.shape"
   ]
  },
  {
   "cell_type": "code",
   "execution_count": 12,
   "metadata": {},
   "outputs": [
    {
     "data": {
      "text/plain": [
       "array([[ True,  True,  True],\n",
       "       [ True,  True,  True],\n",
       "       [ True,  True,  True]])"
      ]
     },
     "execution_count": 12,
     "metadata": {},
     "output_type": "execute_result"
    }
   ],
   "source": [
    "data_np == data_pt.numpy()"
   ]
  },
  {
   "cell_type": "markdown",
   "metadata": {},
   "source": [
    "При создании тензора через `torch.tensor()` данные копируются:"
   ]
  },
  {
   "cell_type": "code",
   "execution_count": 13,
   "metadata": {},
   "outputs": [
    {
     "data": {
      "text/plain": [
       "tensor([[-999.3459, -999.6279, -999.7200],\n",
       "        [-999.0103, -999.1051, -999.4909],\n",
       "        [-999.1178, -999.3649, -999.5509]], dtype=torch.float64)"
      ]
     },
     "execution_count": 13,
     "metadata": {},
     "output_type": "execute_result"
    }
   ],
   "source": [
    "t = data_pt.numpy()\n",
    "t -= 1000\n",
    "data_pt"
   ]
  },
  {
   "cell_type": "code",
   "execution_count": 14,
   "metadata": {},
   "outputs": [
    {
     "data": {
      "text/plain": [
       "array([[0.65406286, 0.37206751, 0.28003485],\n",
       "       [0.98974805, 0.89490742, 0.50907501],\n",
       "       [0.88215851, 0.63514242, 0.44911788]])"
      ]
     },
     "execution_count": 14,
     "metadata": {},
     "output_type": "execute_result"
    }
   ],
   "source": [
    "data_np"
   ]
  },
  {
   "cell_type": "markdown",
   "metadata": {},
   "source": [
    "**NB**: [`torch.Tensor()`](https://glaringlee.github.io/tensors.html?highlight=torch%20tensor#torch.Tensor) != [`torch.tensor()`](https://glaringlee.github.io/generated/torch.tensor.html?highlight=torch%20tensor#torch.tensor)!"
   ]
  },
  {
   "cell_type": "markdown",
   "metadata": {
    "tags": []
   },
   "source": [
    "#### Типы данных"
   ]
  },
  {
   "cell_type": "code",
   "execution_count": 15,
   "metadata": {},
   "outputs": [
    {
     "data": {
      "text/plain": [
       "dtype('float64')"
      ]
     },
     "execution_count": 15,
     "metadata": {},
     "output_type": "execute_result"
    }
   ],
   "source": [
    "data_np.dtype"
   ]
  },
  {
   "cell_type": "markdown",
   "metadata": {},
   "source": [
    "floats"
   ]
  },
  {
   "cell_type": "code",
   "execution_count": 16,
   "metadata": {},
   "outputs": [
    {
     "data": {
      "text/plain": [
       "torch.float64"
      ]
     },
     "execution_count": 16,
     "metadata": {},
     "output_type": "execute_result"
    }
   ],
   "source": [
    "data_pt = torch.tensor(data_np)\n",
    "data_pt.dtype"
   ]
  },
  {
   "cell_type": "code",
   "execution_count": 17,
   "metadata": {},
   "outputs": [
    {
     "data": {
      "text/plain": [
       "torch.float32"
      ]
     },
     "execution_count": 17,
     "metadata": {},
     "output_type": "execute_result"
    }
   ],
   "source": [
    "data_pt = torch.tensor(data_np, dtype=torch.float)\n",
    "data_pt.dtype"
   ]
  },
  {
   "cell_type": "code",
   "execution_count": 18,
   "metadata": {},
   "outputs": [
    {
     "data": {
      "text/plain": [
       "torch.float16"
      ]
     },
     "execution_count": 18,
     "metadata": {},
     "output_type": "execute_result"
    }
   ],
   "source": [
    "data_pt = torch.tensor(data_np, dtype=torch.float16)\n",
    "data_pt.dtype"
   ]
  },
  {
   "cell_type": "code",
   "execution_count": 19,
   "metadata": {},
   "outputs": [
    {
     "data": {
      "text/plain": [
       "torch.float16"
      ]
     },
     "execution_count": 19,
     "metadata": {},
     "output_type": "execute_result"
    }
   ],
   "source": [
    "data_pt = torch.tensor(data_np, dtype=torch.half)\n",
    "data_pt.dtype"
   ]
  },
  {
   "cell_type": "code",
   "execution_count": 20,
   "metadata": {},
   "outputs": [
    {
     "data": {
      "text/plain": [
       "torch.float64"
      ]
     },
     "execution_count": 20,
     "metadata": {},
     "output_type": "execute_result"
    }
   ],
   "source": [
    "data_pt = torch.tensor(data_np, dtype=torch.double)\n",
    "data_pt.dtype"
   ]
  },
  {
   "cell_type": "markdown",
   "metadata": {},
   "source": [
    "ints"
   ]
  },
  {
   "cell_type": "code",
   "execution_count": 21,
   "metadata": {},
   "outputs": [
    {
     "data": {
      "text/plain": [
       "torch.int32"
      ]
     },
     "execution_count": 21,
     "metadata": {},
     "output_type": "execute_result"
    }
   ],
   "source": [
    "data_pt = torch.tensor(data_np, dtype=torch.int)\n",
    "data_pt.dtype"
   ]
  },
  {
   "cell_type": "code",
   "execution_count": 22,
   "metadata": {},
   "outputs": [
    {
     "data": {
      "text/plain": [
       "torch.int64"
      ]
     },
     "execution_count": 22,
     "metadata": {},
     "output_type": "execute_result"
    }
   ],
   "source": [
    "data_pt = torch.tensor(data_np, dtype=torch.long)\n",
    "data_pt.dtype"
   ]
  },
  {
   "cell_type": "code",
   "execution_count": 23,
   "metadata": {},
   "outputs": [
    {
     "data": {
      "text/plain": [
       "torch.int8"
      ]
     },
     "execution_count": 23,
     "metadata": {},
     "output_type": "execute_result"
    }
   ],
   "source": [
    "data_pt = torch.tensor(data_np, dtype=torch.int8)\n",
    "data_pt.dtype"
   ]
  },
  {
   "cell_type": "markdown",
   "metadata": {},
   "source": [
    "Больше - [тут](https://pytorch.org/docs/stable/tensors.html)."
   ]
  },
  {
   "cell_type": "markdown",
   "metadata": {},
   "source": [
    "Можно и без `numpy`, разумеется:"
   ]
  },
  {
   "cell_type": "code",
   "execution_count": 24,
   "metadata": {},
   "outputs": [
    {
     "data": {
      "text/plain": [
       "tensor(2)"
      ]
     },
     "execution_count": 24,
     "metadata": {},
     "output_type": "execute_result"
    }
   ],
   "source": [
    "torch.tensor(2)"
   ]
  },
  {
   "cell_type": "code",
   "execution_count": 25,
   "metadata": {},
   "outputs": [
    {
     "data": {
      "text/plain": [
       "tensor([1, 2, 3, 4, 5])"
      ]
     },
     "execution_count": 25,
     "metadata": {},
     "output_type": "execute_result"
    }
   ],
   "source": [
    "torch.tensor([1, 2, 3, 4, 5])"
   ]
  },
  {
   "cell_type": "code",
   "execution_count": 26,
   "metadata": {},
   "outputs": [
    {
     "data": {
      "text/plain": [
       "tensor([[0., 1.],\n",
       "        [2., 3.]])"
      ]
     },
     "execution_count": 26,
     "metadata": {},
     "output_type": "execute_result"
    }
   ],
   "source": [
    "torch.tensor([[0., 1], [2, 3]])"
   ]
  },
  {
   "cell_type": "markdown",
   "metadata": {},
   "source": [
    "Если в тензоре один-единственный элемент, извлечь его численное значение можно через `.item()`:"
   ]
  },
  {
   "cell_type": "code",
   "execution_count": 27,
   "metadata": {},
   "outputs": [
    {
     "data": {
      "text/plain": [
       "10"
      ]
     },
     "execution_count": 27,
     "metadata": {},
     "output_type": "execute_result"
    }
   ],
   "source": [
    "x = torch.tensor(10)\n",
    "x.item()"
   ]
  },
  {
   "cell_type": "code",
   "execution_count": 28,
   "metadata": {},
   "outputs": [
    {
     "ename": "ValueError",
     "evalue": "only one element tensors can be converted to Python scalars",
     "output_type": "error",
     "traceback": [
      "\u001b[0;31m---------------------------------------------------------------------------\u001b[0m",
      "\u001b[0;31mValueError\u001b[0m                                Traceback (most recent call last)",
      "\u001b[0;32m/tmp/ipykernel_30107/2655749739.py\u001b[0m in \u001b[0;36m<module>\u001b[0;34m\u001b[0m\n\u001b[1;32m      1\u001b[0m \u001b[0mx\u001b[0m \u001b[0;34m=\u001b[0m \u001b[0mtorch\u001b[0m\u001b[0;34m.\u001b[0m\u001b[0mtensor\u001b[0m\u001b[0;34m(\u001b[0m\u001b[0;34m[\u001b[0m\u001b[0;36m10\u001b[0m\u001b[0;34m,\u001b[0m \u001b[0;36m11\u001b[0m\u001b[0;34m]\u001b[0m\u001b[0;34m)\u001b[0m\u001b[0;34m\u001b[0m\u001b[0;34m\u001b[0m\u001b[0m\n\u001b[0;32m----> 2\u001b[0;31m \u001b[0mx\u001b[0m\u001b[0;34m.\u001b[0m\u001b[0mitem\u001b[0m\u001b[0;34m(\u001b[0m\u001b[0;34m)\u001b[0m\u001b[0;34m\u001b[0m\u001b[0;34m\u001b[0m\u001b[0m\n\u001b[0m",
      "\u001b[0;31mValueError\u001b[0m: only one element tensors can be converted to Python scalars"
     ]
    }
   ],
   "source": [
    "x = torch.tensor([10, 11])\n",
    "x.item()"
   ]
  },
  {
   "cell_type": "markdown",
   "metadata": {},
   "source": [
    "**NB**: поведение конструкторов `torch.tensor()` и `torch.Tensor()` - разное:"
   ]
  },
  {
   "cell_type": "code",
   "execution_count": 29,
   "metadata": {},
   "outputs": [
    {
     "data": {
      "text/plain": [
       "tensor([1., 2., 3.])"
      ]
     },
     "execution_count": 29,
     "metadata": {},
     "output_type": "execute_result"
    }
   ],
   "source": [
    "torch.Tensor([1, 2, 3])"
   ]
  },
  {
   "cell_type": "code",
   "execution_count": 30,
   "metadata": {},
   "outputs": [
    {
     "data": {
      "text/plain": [
       "tensor([1.4955e-36])"
      ]
     },
     "execution_count": 30,
     "metadata": {},
     "output_type": "execute_result"
    }
   ],
   "source": [
    "torch.Tensor(1)"
   ]
  },
  {
   "cell_type": "code",
   "execution_count": 31,
   "metadata": {},
   "outputs": [
    {
     "data": {
      "text/plain": [
       "tensor([1.5414e-43, 1.6115e-43])"
      ]
     },
     "execution_count": 31,
     "metadata": {},
     "output_type": "execute_result"
    }
   ],
   "source": [
    "torch.Tensor(2)"
   ]
  },
  {
   "cell_type": "markdown",
   "metadata": {
    "tags": []
   },
   "source": [
    "#### Broadcasting"
   ]
  },
  {
   "cell_type": "code",
   "execution_count": 32,
   "metadata": {},
   "outputs": [
    {
     "data": {
      "text/plain": [
       "tensor([[0.9391, 0.3789, 0.2596],\n",
       "        [0.4269, 0.9906, 0.3595],\n",
       "        [0.0092, 0.8850, 0.5577]], dtype=torch.float64)"
      ]
     },
     "execution_count": 32,
     "metadata": {},
     "output_type": "execute_result"
    }
   ],
   "source": [
    "data_np = np.random.uniform(size=(3, 3))\n",
    "data_pt = torch.from_numpy(data_np)\n",
    "data_pt"
   ]
  },
  {
   "cell_type": "code",
   "execution_count": 33,
   "metadata": {},
   "outputs": [
    {
     "data": {
      "text/plain": [
       "tensor([[-99.0609, -99.6211, -99.7404],\n",
       "        [-99.5731, -99.0094, -99.6405],\n",
       "        [-99.9908, -99.1150, -99.4423]], dtype=torch.float64)"
      ]
     },
     "execution_count": 33,
     "metadata": {},
     "output_type": "execute_result"
    }
   ],
   "source": [
    "data_pt -= 100\n",
    "data_pt"
   ]
  },
  {
   "cell_type": "markdown",
   "metadata": {},
   "source": [
    "Обратите внимание на особенности broadcasting в \"неочевидных\" случаях (часто лучше перепроверить):"
   ]
  },
  {
   "cell_type": "code",
   "execution_count": 34,
   "metadata": {},
   "outputs": [
    {
     "data": {
      "text/plain": [
       "tensor([[0.6908, 0.3719, 0.7902],\n",
       "        [0.5878, 0.5233, 0.7827],\n",
       "        [0.4131, 0.6344, 0.9131]])"
      ]
     },
     "execution_count": 34,
     "metadata": {},
     "output_type": "execute_result"
    }
   ],
   "source": [
    "data_np = np.random.uniform(size=(3, 3)).astype(np.float32)\n",
    "data_pt = torch.from_numpy(data_np)\n",
    "data_pt"
   ]
  },
  {
   "cell_type": "code",
   "execution_count": 35,
   "metadata": {},
   "outputs": [
    {
     "data": {
      "text/plain": [
       "torch.Size([3])"
      ]
     },
     "execution_count": 35,
     "metadata": {},
     "output_type": "execute_result"
    }
   ],
   "source": [
    "b = torch.Tensor([100, 50, 0])\n",
    "b.shape"
   ]
  },
  {
   "cell_type": "code",
   "execution_count": 36,
   "metadata": {},
   "outputs": [
    {
     "data": {
      "text/plain": [
       "tensor([[100.6908,  50.3719,   0.7902],\n",
       "        [100.5878,  50.5233,   0.7827],\n",
       "        [100.4131,  50.6344,   0.9131]])"
      ]
     },
     "execution_count": 36,
     "metadata": {},
     "output_type": "execute_result"
    }
   ],
   "source": [
    "data_pt + b"
   ]
  },
  {
   "cell_type": "code",
   "execution_count": null,
   "metadata": {},
   "outputs": [],
   "source": []
  },
  {
   "cell_type": "code",
   "execution_count": 37,
   "metadata": {},
   "outputs": [
    {
     "data": {
      "text/plain": [
       "torch.Size([1, 3])"
      ]
     },
     "execution_count": 37,
     "metadata": {},
     "output_type": "execute_result"
    }
   ],
   "source": [
    "b = torch.Tensor([100, 50, 0]).view(1, 3)\n",
    "b.shape"
   ]
  },
  {
   "cell_type": "code",
   "execution_count": 38,
   "metadata": {},
   "outputs": [
    {
     "data": {
      "text/plain": [
       "tensor([[100.6908,  50.3719,   0.7902],\n",
       "        [100.5878,  50.5233,   0.7827],\n",
       "        [100.4131,  50.6344,   0.9131]])"
      ]
     },
     "execution_count": 38,
     "metadata": {},
     "output_type": "execute_result"
    }
   ],
   "source": [
    "data_pt + b"
   ]
  },
  {
   "cell_type": "code",
   "execution_count": null,
   "metadata": {},
   "outputs": [],
   "source": []
  },
  {
   "cell_type": "code",
   "execution_count": 39,
   "metadata": {},
   "outputs": [
    {
     "data": {
      "text/plain": [
       "torch.Size([3, 1])"
      ]
     },
     "execution_count": 39,
     "metadata": {},
     "output_type": "execute_result"
    }
   ],
   "source": [
    "b = torch.Tensor([100, 50, 0]).view(3, 1)\n",
    "b.shape"
   ]
  },
  {
   "cell_type": "code",
   "execution_count": 40,
   "metadata": {},
   "outputs": [
    {
     "data": {
      "text/plain": [
       "tensor([[100.6908, 100.3719, 100.7902],\n",
       "        [ 50.5878,  50.5233,  50.7827],\n",
       "        [  0.4131,   0.6344,   0.9131]])"
      ]
     },
     "execution_count": 40,
     "metadata": {},
     "output_type": "execute_result"
    }
   ],
   "source": [
    "data_pt + b"
   ]
  },
  {
   "cell_type": "markdown",
   "metadata": {},
   "source": [
    "#### Векторные и матричные операции"
   ]
  },
  {
   "cell_type": "code",
   "execution_count": 20,
   "metadata": {},
   "outputs": [],
   "source": [
    "data_np = np.random.uniform(size=(16, 16))\n",
    "data_pt = torch.from_numpy(data_np)"
   ]
  },
  {
   "cell_type": "code",
   "execution_count": 22,
   "metadata": {},
   "outputs": [
    {
     "name": "stdout",
     "output_type": "stream",
     "text": [
      "1.37 µs ± 35 ns per loop (mean ± std. dev. of 7 runs, 100000 loops each)\n"
     ]
    }
   ],
   "source": [
    "%timeit data_np @ data_np"
   ]
  },
  {
   "cell_type": "code",
   "execution_count": 24,
   "metadata": {},
   "outputs": [
    {
     "name": "stdout",
     "output_type": "stream",
     "text": [
      "2.77 µs ± 36 ns per loop (mean ± std. dev. of 7 runs, 100000 loops each)\n"
     ]
    }
   ],
   "source": [
    "%timeit data_pt @ data_pt"
   ]
  },
  {
   "cell_type": "code",
   "execution_count": null,
   "metadata": {},
   "outputs": [],
   "source": []
  },
  {
   "cell_type": "code",
   "execution_count": 25,
   "metadata": {},
   "outputs": [],
   "source": [
    "x = torch.randn(4, 1)\n",
    "A = torch.randn(8, 4)"
   ]
  },
  {
   "cell_type": "markdown",
   "metadata": {},
   "source": [
    "Умножение матрицы на вектор:"
   ]
  },
  {
   "cell_type": "code",
   "execution_count": 26,
   "metadata": {},
   "outputs": [
    {
     "data": {
      "text/plain": [
       "(torch.Size([8, 1]),\n",
       " tensor([[ 2.1490],\n",
       "         [ 2.0846],\n",
       "         [-4.1863],\n",
       "         [ 1.8538],\n",
       "         [ 0.3149],\n",
       "         [-3.0075],\n",
       "         [-1.6304],\n",
       "         [ 0.2678]]))"
      ]
     },
     "execution_count": 26,
     "metadata": {},
     "output_type": "execute_result"
    }
   ],
   "source": [
    "y = A @ x\n",
    "y.shape, y"
   ]
  },
  {
   "cell_type": "code",
   "execution_count": 27,
   "metadata": {},
   "outputs": [
    {
     "data": {
      "text/plain": [
       "(torch.Size([8, 1]),\n",
       " tensor([[ 2.1490],\n",
       "         [ 2.0846],\n",
       "         [-4.1863],\n",
       "         [ 1.8538],\n",
       "         [ 0.3149],\n",
       "         [-3.0075],\n",
       "         [-1.6304],\n",
       "         [ 0.2678]]))"
      ]
     },
     "execution_count": 27,
     "metadata": {},
     "output_type": "execute_result"
    }
   ],
   "source": [
    "y = A.matmul(x)\n",
    "y.shape, y"
   ]
  },
  {
   "cell_type": "markdown",
   "metadata": {},
   "source": [
    "Тоже повнимательнее с размерностями:"
   ]
  },
  {
   "cell_type": "code",
   "execution_count": 28,
   "metadata": {},
   "outputs": [],
   "source": [
    "x = torch.randn(4)\n",
    "A = torch.randn(8, 4)"
   ]
  },
  {
   "cell_type": "code",
   "execution_count": 29,
   "metadata": {},
   "outputs": [
    {
     "data": {
      "text/plain": [
       "(torch.Size([8]),\n",
       " tensor([-1.8140, -1.1285,  0.8103,  1.3414, -2.0703,  1.1084, -1.6084,  4.4085]))"
      ]
     },
     "execution_count": 29,
     "metadata": {},
     "output_type": "execute_result"
    }
   ],
   "source": [
    "y = A @ x\n",
    "y.shape, y"
   ]
  },
  {
   "cell_type": "markdown",
   "metadata": {
    "tags": []
   },
   "source": [
    "#### Задание:"
   ]
  },
  {
   "cell_type": "markdown",
   "metadata": {},
   "source": [
    "* Даны два набора векторов одинаковой размерности, `X` (`m x dim`) и `Y` (`n x dim`)\n",
    "* Требуется посчитать (без циклов!) попарные значения косинуса углов для всех пар (`x`, `y`)\n",
    "    * На выходе ожидается матрица размером (`m x n`)"
   ]
  },
  {
   "cell_type": "code",
   "execution_count": 33,
   "metadata": {},
   "outputs": [],
   "source": [
    "dim = 8\n",
    "m = 11\n",
    "n = 17\n",
    "X = torch.randn(m, dim)\n",
    "Y = torch.randn(n, dim)\n",
    "\n",
    "# YOUR CODE HERE\n",
    "\n",
    "X_norm = (X@X.T).diag().sqrt()\n",
    "Y_norm = (Y@Y.T).diag().sqrt()\n",
    "\n",
    "pairiwse_norms = X_norm.unsqueeze(1) @ Y_norm.unsqueeze(1).T\n",
    "\n",
    "cos_mat = X@Y.T / pairiwse_norms\n",
    "# END OF YOUR CODE"
   ]
  },
  {
   "cell_type": "code",
   "execution_count": 34,
   "metadata": {},
   "outputs": [],
   "source": [
    "from scipy.spatial.distance import cdist\n",
    "cos_mat_expected = 1 - cdist(X, Y, metric=\"cosine\")\n",
    "\n",
    "torch.testing.assert_allclose(cos_mat, cos_mat_expected)"
   ]
  },
  {
   "cell_type": "markdown",
   "metadata": {},
   "source": [
    "#### Работа с размерностями"
   ]
  },
  {
   "cell_type": "code",
   "execution_count": 35,
   "metadata": {},
   "outputs": [
    {
     "data": {
      "text/plain": [
       "(torch.Size([3, 1]),\n",
       " tensor([[-0.6021],\n",
       "         [-0.9067],\n",
       "         [-0.9903]]))"
      ]
     },
     "execution_count": 35,
     "metadata": {},
     "output_type": "execute_result"
    }
   ],
   "source": [
    "x = torch.randn(3, 1)\n",
    "x.shape, x"
   ]
  },
  {
   "cell_type": "markdown",
   "metadata": {},
   "source": [
    "Транспонирование:"
   ]
  },
  {
   "cell_type": "code",
   "execution_count": 36,
   "metadata": {},
   "outputs": [
    {
     "data": {
      "text/plain": [
       "(torch.Size([1, 3]), tensor([[-0.6021, -0.9067, -0.9903]]))"
      ]
     },
     "execution_count": 36,
     "metadata": {},
     "output_type": "execute_result"
    }
   ],
   "source": [
    "xT = x.T\n",
    "xT.shape, xT"
   ]
  },
  {
   "cell_type": "markdown",
   "metadata": {},
   "source": [
    "Если не указано явно, то данные НЕ копируются:"
   ]
  },
  {
   "cell_type": "code",
   "execution_count": 37,
   "metadata": {},
   "outputs": [
    {
     "data": {
      "text/plain": [
       "tensor([[-60.2141, -90.6653, -99.0299]])"
      ]
     },
     "execution_count": 37,
     "metadata": {},
     "output_type": "execute_result"
    }
   ],
   "source": [
    "xT *= 100\n",
    "xT"
   ]
  },
  {
   "cell_type": "code",
   "execution_count": 38,
   "metadata": {},
   "outputs": [
    {
     "data": {
      "text/plain": [
       "tensor([[-60.2141],\n",
       "        [-90.6653],\n",
       "        [-99.0299]])"
      ]
     },
     "execution_count": 38,
     "metadata": {},
     "output_type": "execute_result"
    }
   ],
   "source": [
    "x"
   ]
  },
  {
   "cell_type": "markdown",
   "metadata": {},
   "source": [
    "С копированием:"
   ]
  },
  {
   "cell_type": "code",
   "execution_count": 39,
   "metadata": {},
   "outputs": [
    {
     "data": {
      "text/plain": [
       "(torch.Size([1, 3]), tensor([[-60.2141, -90.6653, -99.0299]]))"
      ]
     },
     "execution_count": 39,
     "metadata": {},
     "output_type": "execute_result"
    }
   ],
   "source": [
    "xT_clone = x.T.clone()\n",
    "xT_clone.shape, xT_clone"
   ]
  },
  {
   "cell_type": "code",
   "execution_count": 40,
   "metadata": {},
   "outputs": [
    {
     "data": {
      "text/plain": [
       "tensor([[True, True, True]])"
      ]
     },
     "execution_count": 40,
     "metadata": {},
     "output_type": "execute_result"
    }
   ],
   "source": [
    "xT_clone == xT"
   ]
  },
  {
   "cell_type": "code",
   "execution_count": 41,
   "metadata": {},
   "outputs": [
    {
     "data": {
      "text/plain": [
       "tensor([[-6021.4150, -9066.5264, -9902.9941]])"
      ]
     },
     "execution_count": 41,
     "metadata": {},
     "output_type": "execute_result"
    }
   ],
   "source": [
    "xT_clone *= 100\n",
    "xT_clone"
   ]
  },
  {
   "cell_type": "code",
   "execution_count": 42,
   "metadata": {},
   "outputs": [
    {
     "data": {
      "text/plain": [
       "tensor([[-60.2141],\n",
       "        [-90.6653],\n",
       "        [-99.0299]])"
      ]
     },
     "execution_count": 42,
     "metadata": {},
     "output_type": "execute_result"
    }
   ],
   "source": [
    "x"
   ]
  },
  {
   "cell_type": "markdown",
   "metadata": {},
   "source": [
    "Доступны и более сложные операции над размерностями.\n",
    "\n",
    "`permute()`:"
   ]
  },
  {
   "cell_type": "code",
   "execution_count": 43,
   "metadata": {},
   "outputs": [
    {
     "data": {
      "text/plain": [
       "torch.Size([3, 64, 256])"
      ]
     },
     "execution_count": 43,
     "metadata": {},
     "output_type": "execute_result"
    }
   ],
   "source": [
    "x = torch.randn(3, 64, 256)\n",
    "x.shape"
   ]
  },
  {
   "cell_type": "code",
   "execution_count": 44,
   "metadata": {},
   "outputs": [
    {
     "data": {
      "text/plain": [
       "torch.Size([64, 256, 3])"
      ]
     },
     "execution_count": 44,
     "metadata": {},
     "output_type": "execute_result"
    }
   ],
   "source": [
    "x.permute(1, 2, 0).shape"
   ]
  },
  {
   "cell_type": "code",
   "execution_count": 45,
   "metadata": {},
   "outputs": [
    {
     "data": {
      "text/plain": [
       "torch.Size([3, 256, 64])"
      ]
     },
     "execution_count": 45,
     "metadata": {},
     "output_type": "execute_result"
    }
   ],
   "source": [
    "x.transpose(1, 2).shape"
   ]
  },
  {
   "cell_type": "markdown",
   "metadata": {},
   "source": [
    "`view()`:"
   ]
  },
  {
   "cell_type": "code",
   "execution_count": 46,
   "metadata": {},
   "outputs": [
    {
     "data": {
      "text/plain": [
       "torch.Size([3, 64, 256])"
      ]
     },
     "execution_count": 46,
     "metadata": {},
     "output_type": "execute_result"
    }
   ],
   "source": [
    "x = torch.randn(3, 64, 256)\n",
    "x.shape"
   ]
  },
  {
   "cell_type": "code",
   "execution_count": 47,
   "metadata": {},
   "outputs": [
    {
     "data": {
      "text/plain": [
       "torch.Size([3, 256, 64])"
      ]
     },
     "execution_count": 47,
     "metadata": {},
     "output_type": "execute_result"
    }
   ],
   "source": [
    "x.view(3, 256, 64).shape"
   ]
  },
  {
   "cell_type": "code",
   "execution_count": 48,
   "metadata": {},
   "outputs": [
    {
     "data": {
      "text/plain": [
       "torch.Size([3, 16384])"
      ]
     },
     "execution_count": 48,
     "metadata": {},
     "output_type": "execute_result"
    }
   ],
   "source": [
    "x.view(3, -1).shape"
   ]
  },
  {
   "cell_type": "code",
   "execution_count": 49,
   "metadata": {},
   "outputs": [
    {
     "data": {
      "text/plain": [
       "torch.Size([49152])"
      ]
     },
     "execution_count": 49,
     "metadata": {},
     "output_type": "execute_result"
    }
   ],
   "source": [
    "x.view(-1).shape"
   ]
  },
  {
   "cell_type": "code",
   "execution_count": 50,
   "metadata": {},
   "outputs": [
    {
     "data": {
      "text/plain": [
       "tensor([ 0.7315, -0.2704,  1.1011,  ..., -0.0500, -0.2438, -1.1110])"
      ]
     },
     "execution_count": 50,
     "metadata": {},
     "output_type": "execute_result"
    }
   ],
   "source": [
    "z = x.view(-1)\n",
    "z"
   ]
  },
  {
   "cell_type": "code",
   "execution_count": 51,
   "metadata": {},
   "outputs": [],
   "source": [
    "z *= 0"
   ]
  },
  {
   "cell_type": "code",
   "execution_count": 52,
   "metadata": {},
   "outputs": [
    {
     "data": {
      "text/plain": [
       "tensor([0., -0., 0.,  ..., -0., -0., -0.])"
      ]
     },
     "execution_count": 52,
     "metadata": {},
     "output_type": "execute_result"
    }
   ],
   "source": [
    "z"
   ]
  },
  {
   "cell_type": "code",
   "execution_count": 53,
   "metadata": {},
   "outputs": [
    {
     "data": {
      "text/plain": [
       "tensor([[[0., -0., 0.,  ..., 0., -0., -0.],\n",
       "         [-0., -0., -0.,  ..., 0., 0., -0.],\n",
       "         [0., 0., 0.,  ..., -0., 0., -0.],\n",
       "         ...,\n",
       "         [-0., 0., 0.,  ..., -0., -0., 0.],\n",
       "         [-0., -0., -0.,  ..., -0., -0., -0.],\n",
       "         [0., 0., -0.,  ..., -0., 0., 0.]],\n",
       "\n",
       "        [[-0., 0., -0.,  ..., -0., 0., -0.],\n",
       "         [0., -0., -0.,  ..., -0., -0., 0.],\n",
       "         [0., -0., -0.,  ..., 0., -0., -0.],\n",
       "         ...,\n",
       "         [0., 0., 0.,  ..., -0., -0., -0.],\n",
       "         [-0., 0., 0.,  ..., 0., -0., 0.],\n",
       "         [-0., -0., -0.,  ..., -0., -0., -0.]],\n",
       "\n",
       "        [[0., 0., -0.,  ..., -0., 0., 0.],\n",
       "         [-0., -0., -0.,  ..., -0., -0., -0.],\n",
       "         [0., -0., -0.,  ..., -0., 0., 0.],\n",
       "         ...,\n",
       "         [-0., -0., -0.,  ..., -0., 0., -0.],\n",
       "         [-0., -0., 0.,  ..., 0., -0., -0.],\n",
       "         [-0., -0., -0.,  ..., -0., -0., -0.]]])"
      ]
     },
     "execution_count": 53,
     "metadata": {},
     "output_type": "execute_result"
    }
   ],
   "source": [
    "x"
   ]
  },
  {
   "cell_type": "markdown",
   "metadata": {},
   "source": [
    "Больше - [тут](https://jhui.github.io/2018/02/09/PyTorch-Basic-operations/)."
   ]
  },
  {
   "cell_type": "markdown",
   "metadata": {
    "tags": []
   },
   "source": [
    "#### Задание:"
   ]
  },
  {
   "cell_type": "markdown",
   "metadata": {},
   "source": [
    "* Создать тензор размером `1x3x224x224` (имитируем батч из одной картинки с 3 каналами RGB размером `224х224`)\n",
    "    * Все значения в тензоре = `0.5`\n",
    "* Выполнить нормализацию через mean / std из датасета Imagenet:\n",
    "    * mean = `[0.485, 0.456, 0.406]`\n",
    "    * std = `[0.229, 0.224, 0.225]`\n",
    "* Посчитать среднее значение по каждому из 3-х каналов полученного тензора\n",
    "    * Ответ (`output`) должен иметь размерность (3,)\n",
    "\n",
    "\n",
    "NB: агрегирующие операции типа `min`/`max`/`mean`/... устроены аналогично в `numpy` и `torch`, но отличаютеся ключевым словом для уточнения размерностей:\n",
    "* в `numpy` - `axis`\n",
    "* в `torch` - `dim`"
   ]
  },
  {
   "cell_type": "code",
   "execution_count": 44,
   "metadata": {},
   "outputs": [],
   "source": [
    "# YOUR CODE HERE\n",
    "\n",
    "X = torch.ones(1,3,224,224) * 0.5\n",
    "\n",
    "mean = torch.tensor([0.485, 0.456, 0.406])\n",
    "std = torch.tensor([0.229, 0.224, 0.225])\n",
    "\n",
    "normalized = (X - mean.view(-1,1,1)) / std.view(-1,1,1)\n",
    "\n",
    "output = normalized.mean(dim=[2,3]).squeeze(-1)\n",
    "\n",
    "# END OF YOUR CODE"
   ]
  },
  {
   "cell_type": "code",
   "execution_count": 45,
   "metadata": {},
   "outputs": [],
   "source": [
    "expected_output = torch.Tensor([0.0655, 0.1964, 0.4178])\n",
    "torch.testing.assert_allclose(output, expected_output)"
   ]
  },
  {
   "cell_type": "markdown",
   "metadata": {
    "tags": [],
    "toc-hr-collapsed": true
   },
   "source": [
    "### 1.2. CPU <-> GPU"
   ]
  },
  {
   "cell_type": "markdown",
   "metadata": {},
   "source": [
    "`CUDA` - это библиотека для вычислений на графических ускорителях (от NVidia).\n",
    "`torch` умеет работать с GPU, но для этого в системе должны быть установлены совместимые версии `torch` / `cudatoolkit`. \n",
    "Подробнее можно почитать на [официальном сайте](https://pytorch.org/get-started/locally/)."
   ]
  },
  {
   "cell_type": "markdown",
   "metadata": {},
   "source": [
    "#### Получение информации о доступных \"девайсах\""
   ]
  },
  {
   "cell_type": "code",
   "execution_count": null,
   "metadata": {},
   "outputs": [],
   "source": [
    "torch.cuda.is_available()"
   ]
  },
  {
   "cell_type": "code",
   "execution_count": null,
   "metadata": {},
   "outputs": [],
   "source": [
    "torch.cuda.device_count()"
   ]
  },
  {
   "cell_type": "code",
   "execution_count": null,
   "metadata": {},
   "outputs": [],
   "source": [
    "device_alias = \"cuda:0\"\n",
    "# device_alias = \"cpu\""
   ]
  },
  {
   "cell_type": "code",
   "execution_count": null,
   "metadata": {},
   "outputs": [],
   "source": [
    "torch.cuda.get_device_name(device_alias)"
   ]
  },
  {
   "cell_type": "code",
   "execution_count": null,
   "metadata": {},
   "outputs": [],
   "source": [
    "device = torch.device(device_alias)"
   ]
  },
  {
   "cell_type": "code",
   "execution_count": null,
   "metadata": {},
   "outputs": [],
   "source": [
    "device"
   ]
  },
  {
   "cell_type": "markdown",
   "metadata": {},
   "source": [
    "#### Перемещение тензоров между девайсами: `.to(...)`"
   ]
  },
  {
   "cell_type": "code",
   "execution_count": null,
   "metadata": {},
   "outputs": [],
   "source": [
    "data_pt = torch.randn(8, 8)\n",
    "data_pt.device"
   ]
  },
  {
   "cell_type": "code",
   "execution_count": null,
   "metadata": {},
   "outputs": [],
   "source": [
    "data_pt = data_pt.to(device)\n",
    "data_pt.device"
   ]
  },
  {
   "cell_type": "code",
   "execution_count": null,
   "metadata": {},
   "outputs": [],
   "source": [
    "a = data_pt.to(torch.device(\"cpu\"))\n",
    "b = data_pt.to(\"cpu\")\n",
    "c = data_pt.cpu()\n",
    "\n",
    "a.device, b.device, c.device"
   ]
  },
  {
   "cell_type": "markdown",
   "metadata": {},
   "source": [
    "#### Скорость вычислений"
   ]
  },
  {
   "cell_type": "markdown",
   "metadata": {},
   "source": [
    "`8х8` @ `8x8`"
   ]
  },
  {
   "cell_type": "code",
   "execution_count": null,
   "metadata": {},
   "outputs": [],
   "source": [
    "data_pt = torch.randn(8, 8)\n",
    "data_pt.device"
   ]
  },
  {
   "cell_type": "code",
   "execution_count": null,
   "metadata": {},
   "outputs": [],
   "source": [
    "%timeit data_pt @ data_pt"
   ]
  },
  {
   "cell_type": "code",
   "execution_count": null,
   "metadata": {},
   "outputs": [],
   "source": [
    "data_pt = data_pt.to(device)\n",
    "data_pt.device"
   ]
  },
  {
   "cell_type": "code",
   "execution_count": null,
   "metadata": {},
   "outputs": [],
   "source": [
    "data_pt @ data_pt;"
   ]
  },
  {
   "cell_type": "code",
   "execution_count": null,
   "metadata": {},
   "outputs": [],
   "source": [
    "%timeit data_pt @ data_pt"
   ]
  },
  {
   "cell_type": "markdown",
   "metadata": {},
   "source": [
    "`64х64` @ `64x64`"
   ]
  },
  {
   "cell_type": "code",
   "execution_count": null,
   "metadata": {},
   "outputs": [],
   "source": [
    "data_pt = torch.randn(64, 64)\n",
    "data_pt.device"
   ]
  },
  {
   "cell_type": "code",
   "execution_count": null,
   "metadata": {},
   "outputs": [],
   "source": [
    "%timeit data_pt @ data_pt"
   ]
  },
  {
   "cell_type": "code",
   "execution_count": null,
   "metadata": {},
   "outputs": [],
   "source": [
    "data_pt = data_pt.to(device)\n",
    "data_pt.device"
   ]
  },
  {
   "cell_type": "code",
   "execution_count": null,
   "metadata": {},
   "outputs": [],
   "source": [
    "%timeit data_pt @ data_pt"
   ]
  },
  {
   "cell_type": "markdown",
   "metadata": {},
   "source": [
    "`256х256` @ `256x256`"
   ]
  },
  {
   "cell_type": "code",
   "execution_count": null,
   "metadata": {},
   "outputs": [],
   "source": [
    "data_pt = torch.randn(256, 256)\n",
    "data_pt.device"
   ]
  },
  {
   "cell_type": "code",
   "execution_count": null,
   "metadata": {},
   "outputs": [],
   "source": [
    "%timeit data_pt @ data_pt"
   ]
  },
  {
   "cell_type": "code",
   "execution_count": null,
   "metadata": {},
   "outputs": [],
   "source": [
    "data_pt = data_pt.to(device)\n",
    "data_pt.device"
   ]
  },
  {
   "cell_type": "code",
   "execution_count": null,
   "metadata": {},
   "outputs": [],
   "source": [
    "%timeit data_pt @ data_pt"
   ]
  },
  {
   "cell_type": "markdown",
   "metadata": {},
   "source": [
    "#### Объекты с разных девайсов"
   ]
  },
  {
   "cell_type": "code",
   "execution_count": null,
   "metadata": {},
   "outputs": [],
   "source": [
    "data_pt = torch.randn(3, 3)\n",
    "data_pt = data_pt.to(device)\n",
    "data_pt.device"
   ]
  },
  {
   "cell_type": "code",
   "execution_count": null,
   "metadata": {},
   "outputs": [],
   "source": [
    "data_pt.numpy()"
   ]
  },
  {
   "cell_type": "code",
   "execution_count": null,
   "metadata": {},
   "outputs": [],
   "source": [
    "data_pt.to(torch.device(\"cpu\")).numpy()"
   ]
  },
  {
   "cell_type": "markdown",
   "metadata": {},
   "source": [
    "Взаимодействовать друг с другом могут только объекты, лежащие на одном девайсе"
   ]
  },
  {
   "cell_type": "code",
   "execution_count": null,
   "metadata": {},
   "outputs": [],
   "source": [
    "data_pt_1 = torch.randn(3, 3)\n",
    "data_pt_1 = data_pt_1.to(device)\n",
    "data_pt_1.device"
   ]
  },
  {
   "cell_type": "code",
   "execution_count": null,
   "metadata": {},
   "outputs": [],
   "source": [
    "data_pt_2 = torch.randn(3, 3)\n",
    "data_pt_2 = data_pt_2#.to(\"cpu\")\n",
    "data_pt_2.device"
   ]
  },
  {
   "cell_type": "code",
   "execution_count": null,
   "metadata": {},
   "outputs": [],
   "source": [
    "data_pt_1 + data_pt_2"
   ]
  },
  {
   "cell_type": "code",
   "execution_count": null,
   "metadata": {},
   "outputs": [],
   "source": [
    "data_pt_1 + data_pt_2.to(data_pt_1.device)"
   ]
  },
  {
   "cell_type": "code",
   "execution_count": null,
   "metadata": {},
   "outputs": [],
   "source": [
    "data_pt_2.device"
   ]
  },
  {
   "cell_type": "markdown",
   "metadata": {},
   "source": [
    "#### Поддержка \"особенных\" типов на GPU"
   ]
  },
  {
   "cell_type": "markdown",
   "metadata": {},
   "source": [
    "https://docs.nvidia.com/deeplearning/tensorrt/support-matrix/index.html#hardware-precision-matrix"
   ]
  },
  {
   "cell_type": "code",
   "execution_count": null,
   "metadata": {},
   "outputs": [],
   "source": [
    "data_pt = torch.randn(3, 3).type(torch.float16).to(device)"
   ]
  },
  {
   "cell_type": "code",
   "execution_count": null,
   "metadata": {},
   "outputs": [],
   "source": [
    "data_pt + 1"
   ]
  },
  {
   "cell_type": "code",
   "execution_count": null,
   "metadata": {},
   "outputs": [],
   "source": []
  },
  {
   "cell_type": "code",
   "execution_count": null,
   "metadata": {},
   "outputs": [],
   "source": [
    "data_pt = torch.randn(3, 3).type(torch.int8).to(device)"
   ]
  },
  {
   "cell_type": "code",
   "execution_count": null,
   "metadata": {},
   "outputs": [],
   "source": [
    "data_pt + 1"
   ]
  },
  {
   "cell_type": "markdown",
   "metadata": {},
   "source": [
    "Прекрасно, что `pytorch` умеет делать все то же, что и `numpy`.\n",
    "Но зачем он нужен, если *уже есть* `numpy`?"
   ]
  },
  {
   "cell_type": "markdown",
   "metadata": {
    "tags": []
   },
   "source": [
    "## 2. Автоматическое дифференцирование"
   ]
  },
  {
   "cell_type": "markdown",
   "metadata": {},
   "source": [
    "Заметим, что алгебраические выражения можно интерпретировать как вычислительные графы:\n",
    "\n",
    "* $f(x) = w1 \\times x + w2 \\times y + w3 \\rightarrow $\n",
    "\n",
    "![comp_graph_03](https://i.ibb.co/f8yv1Kc/aim-seminar01-compgraphs-11-1.png)\n",
    "\n",
    "Чтобы было проще жить, теперь у нас есть `torch`:"
   ]
  },
  {
   "cell_type": "markdown",
   "metadata": {},
   "source": [
    "#### `.backward()`"
   ]
  },
  {
   "cell_type": "code",
   "execution_count": 58,
   "metadata": {},
   "outputs": [],
   "source": [
    "def f(x, y, w1, w2, w3):\n",
    "    return w1 * x + w2 * y + w3"
   ]
  },
  {
   "cell_type": "code",
   "execution_count": 59,
   "metadata": {},
   "outputs": [
    {
     "data": {
      "text/plain": [
       "False"
      ]
     },
     "execution_count": 59,
     "metadata": {},
     "output_type": "execute_result"
    }
   ],
   "source": [
    "x = torch.tensor([1.])\n",
    "x.requires_grad"
   ]
  },
  {
   "cell_type": "code",
   "execution_count": 60,
   "metadata": {},
   "outputs": [
    {
     "data": {
      "text/plain": [
       "False"
      ]
     },
     "execution_count": 60,
     "metadata": {},
     "output_type": "execute_result"
    }
   ],
   "source": [
    "y = torch.tensor([2.])\n",
    "y.requires_grad"
   ]
  },
  {
   "cell_type": "markdown",
   "metadata": {},
   "source": [
    "Для \"включения\" градиентов у переменной, нужно об этом прямо заявить: "
   ]
  },
  {
   "cell_type": "code",
   "execution_count": 61,
   "metadata": {},
   "outputs": [
    {
     "data": {
      "text/plain": [
       "True"
      ]
     },
     "execution_count": 61,
     "metadata": {},
     "output_type": "execute_result"
    }
   ],
   "source": [
    "w1 = torch.tensor([0.33])\n",
    "w1.requires_grad_(True)\n",
    "w1.requires_grad"
   ]
  },
  {
   "cell_type": "code",
   "execution_count": 62,
   "metadata": {},
   "outputs": [
    {
     "data": {
      "text/plain": [
       "True"
      ]
     },
     "execution_count": 62,
     "metadata": {},
     "output_type": "execute_result"
    }
   ],
   "source": [
    "w2 = torch.tensor([-1.5]).requires_grad_(True)\n",
    "w2.requires_grad"
   ]
  },
  {
   "cell_type": "code",
   "execution_count": 63,
   "metadata": {},
   "outputs": [
    {
     "data": {
      "text/plain": [
       "True"
      ]
     },
     "execution_count": 63,
     "metadata": {},
     "output_type": "execute_result"
    }
   ],
   "source": [
    "w3 = torch.tensor([0.01], requires_grad=True)\n",
    "w3.requires_grad"
   ]
  },
  {
   "cell_type": "code",
   "execution_count": 64,
   "metadata": {},
   "outputs": [],
   "source": [
    "variables = [x, y, w1, w2, w3]\n",
    "names = [\"x\", \"y\", \"w1\", \"w2\", \"w3\"]"
   ]
  },
  {
   "cell_type": "code",
   "execution_count": 65,
   "metadata": {},
   "outputs": [
    {
     "name": "stdout",
     "output_type": "stream",
     "text": [
      "name\tval\tgrad\n",
      "x\t1.000\tNone\n",
      "y\t2.000\tNone\n",
      "w1\t0.330\tNone\n",
      "w2\t-1.500\tNone\n",
      "w3\t0.010\tNone\n"
     ]
    }
   ],
   "source": [
    "print(\"name\\tval\\tgrad\")\n",
    "for n, v in zip(names, variables):\n",
    "    print(f\"{n}\\t{v.item():2.3f}\\t{v.grad}\")"
   ]
  },
  {
   "cell_type": "markdown",
   "metadata": {},
   "source": [
    "Еще раз насладимся магией автоматического дифференцирования:"
   ]
  },
  {
   "cell_type": "code",
   "execution_count": 66,
   "metadata": {},
   "outputs": [
    {
     "data": {
      "text/plain": [
       "tensor([-2.6600], grad_fn=<AddBackward0>)"
      ]
     },
     "execution_count": 66,
     "metadata": {},
     "output_type": "execute_result"
    }
   ],
   "source": [
    "output = f(x, y, w1, w2, w3)\n",
    "output"
   ]
  },
  {
   "cell_type": "code",
   "execution_count": 67,
   "metadata": {},
   "outputs": [
    {
     "name": "stdout",
     "output_type": "stream",
     "text": [
      "name\tval\tgrad\n",
      "x\t1.000\tNone\n",
      "y\t2.000\tNone\n",
      "w1\t0.330\tNone\n",
      "w2\t-1.500\tNone\n",
      "w3\t0.010\tNone\n"
     ]
    }
   ],
   "source": [
    "print(\"name\\tval\\tgrad\")\n",
    "for n, v in zip(names, variables):\n",
    "    print(f\"{n}\\t{v.item():2.3f}\\t{v.grad}\")"
   ]
  },
  {
   "cell_type": "code",
   "execution_count": 68,
   "metadata": {},
   "outputs": [],
   "source": [
    "output.backward()"
   ]
  },
  {
   "cell_type": "code",
   "execution_count": 69,
   "metadata": {},
   "outputs": [
    {
     "name": "stdout",
     "output_type": "stream",
     "text": [
      "name\tval\tgrad\n",
      "x\t1.000\tNone\n",
      "y\t2.000\tNone\n",
      "w1\t0.330\ttensor([1.])\n",
      "w2\t-1.500\ttensor([2.])\n",
      "w3\t0.010\ttensor([1.])\n"
     ]
    }
   ],
   "source": [
    "print(\"name\\tval\\tgrad\")\n",
    "for n, v in zip(names, variables):\n",
    "    print(f\"{n}\\t{v.item():2.3f}\\t{v.grad}\")"
   ]
  },
  {
   "cell_type": "markdown",
   "metadata": {},
   "source": [
    "Попробуем вызвать `backward()` еще раз:"
   ]
  },
  {
   "cell_type": "code",
   "execution_count": 70,
   "metadata": {},
   "outputs": [
    {
     "ename": "RuntimeError",
     "evalue": "Trying to backward through the graph a second time, but the saved intermediate results have already been freed. Specify retain_graph=True when calling backward the first time.",
     "output_type": "error",
     "traceback": [
      "\u001b[0;31m---------------------------------------------------------------------------\u001b[0m",
      "\u001b[0;31mRuntimeError\u001b[0m                              Traceback (most recent call last)",
      "\u001b[0;32m/tmp/ipykernel_6151/2009089003.py\u001b[0m in \u001b[0;36m<module>\u001b[0;34m\u001b[0m\n\u001b[0;32m----> 1\u001b[0;31m \u001b[0moutput\u001b[0m\u001b[0;34m.\u001b[0m\u001b[0mbackward\u001b[0m\u001b[0;34m(\u001b[0m\u001b[0;34m)\u001b[0m\u001b[0;34m\u001b[0m\u001b[0;34m\u001b[0m\u001b[0m\n\u001b[0m",
      "\u001b[0;32m~/anaconda3/lib/python3.7/site-packages/torch/tensor.py\u001b[0m in \u001b[0;36mbackward\u001b[0;34m(self, gradient, retain_graph, create_graph)\u001b[0m\n\u001b[1;32m    219\u001b[0m                 \u001b[0mretain_graph\u001b[0m\u001b[0;34m=\u001b[0m\u001b[0mretain_graph\u001b[0m\u001b[0;34m,\u001b[0m\u001b[0;34m\u001b[0m\u001b[0;34m\u001b[0m\u001b[0m\n\u001b[1;32m    220\u001b[0m                 create_graph=create_graph)\n\u001b[0;32m--> 221\u001b[0;31m         \u001b[0mtorch\u001b[0m\u001b[0;34m.\u001b[0m\u001b[0mautograd\u001b[0m\u001b[0;34m.\u001b[0m\u001b[0mbackward\u001b[0m\u001b[0;34m(\u001b[0m\u001b[0mself\u001b[0m\u001b[0;34m,\u001b[0m \u001b[0mgradient\u001b[0m\u001b[0;34m,\u001b[0m \u001b[0mretain_graph\u001b[0m\u001b[0;34m,\u001b[0m \u001b[0mcreate_graph\u001b[0m\u001b[0;34m)\u001b[0m\u001b[0;34m\u001b[0m\u001b[0;34m\u001b[0m\u001b[0m\n\u001b[0m\u001b[1;32m    222\u001b[0m \u001b[0;34m\u001b[0m\u001b[0m\n\u001b[1;32m    223\u001b[0m     \u001b[0;32mdef\u001b[0m \u001b[0mregister_hook\u001b[0m\u001b[0;34m(\u001b[0m\u001b[0mself\u001b[0m\u001b[0;34m,\u001b[0m \u001b[0mhook\u001b[0m\u001b[0;34m)\u001b[0m\u001b[0;34m:\u001b[0m\u001b[0;34m\u001b[0m\u001b[0;34m\u001b[0m\u001b[0m\n",
      "\u001b[0;32m~/anaconda3/lib/python3.7/site-packages/torch/autograd/__init__.py\u001b[0m in \u001b[0;36mbackward\u001b[0;34m(tensors, grad_tensors, retain_graph, create_graph, grad_variables)\u001b[0m\n\u001b[1;32m    130\u001b[0m     Variable._execution_engine.run_backward(\n\u001b[1;32m    131\u001b[0m         \u001b[0mtensors\u001b[0m\u001b[0;34m,\u001b[0m \u001b[0mgrad_tensors_\u001b[0m\u001b[0;34m,\u001b[0m \u001b[0mretain_graph\u001b[0m\u001b[0;34m,\u001b[0m \u001b[0mcreate_graph\u001b[0m\u001b[0;34m,\u001b[0m\u001b[0;34m\u001b[0m\u001b[0;34m\u001b[0m\u001b[0m\n\u001b[0;32m--> 132\u001b[0;31m         allow_unreachable=True)  # allow_unreachable flag\n\u001b[0m\u001b[1;32m    133\u001b[0m \u001b[0;34m\u001b[0m\u001b[0m\n\u001b[1;32m    134\u001b[0m \u001b[0;34m\u001b[0m\u001b[0m\n",
      "\u001b[0;31mRuntimeError\u001b[0m: Trying to backward through the graph a second time, but the saved intermediate results have already been freed. Specify retain_graph=True when calling backward the first time."
     ]
    }
   ],
   "source": [
    "output.backward()"
   ]
  },
  {
   "cell_type": "markdown",
   "metadata": {},
   "source": [
    "**Вопрос:** зачем может быть нужно делать `backward()` больше одного раза?"
   ]
  },
  {
   "cell_type": "code",
   "execution_count": 71,
   "metadata": {},
   "outputs": [],
   "source": [
    "del output\n",
    "for var in variables:\n",
    "    var.grad = None"
   ]
  },
  {
   "cell_type": "code",
   "execution_count": 72,
   "metadata": {},
   "outputs": [
    {
     "name": "stdout",
     "output_type": "stream",
     "text": [
      "name\tval\tgrad\n",
      "x\t1.000\tNone\n",
      "y\t2.000\tNone\n",
      "w1\t0.330\tNone\n",
      "w2\t-1.500\tNone\n",
      "w3\t0.010\tNone\n"
     ]
    }
   ],
   "source": [
    "print(\"name\\tval\\tgrad\")\n",
    "for n, v in zip(names, variables):\n",
    "    print(f\"{n}\\t{v.item():2.3f}\\t{v.grad}\")"
   ]
  },
  {
   "cell_type": "code",
   "execution_count": 73,
   "metadata": {},
   "outputs": [
    {
     "data": {
      "text/plain": [
       "tensor([-2.6600], grad_fn=<AddBackward0>)"
      ]
     },
     "execution_count": 73,
     "metadata": {},
     "output_type": "execute_result"
    }
   ],
   "source": [
    "output = f(x, y, w1, w2, w3)\n",
    "output"
   ]
  },
  {
   "cell_type": "code",
   "execution_count": 74,
   "metadata": {},
   "outputs": [],
   "source": [
    "output.backward(retain_graph=True)"
   ]
  },
  {
   "cell_type": "code",
   "execution_count": 75,
   "metadata": {},
   "outputs": [
    {
     "name": "stdout",
     "output_type": "stream",
     "text": [
      "name\tval\tgrad\n",
      "x\t1.000\tNone\n",
      "y\t2.000\tNone\n",
      "w1\t0.330\ttensor([1.])\n",
      "w2\t-1.500\ttensor([2.])\n",
      "w3\t0.010\ttensor([1.])\n"
     ]
    }
   ],
   "source": [
    "print(\"name\\tval\\tgrad\")\n",
    "for n, v in zip(names, variables):\n",
    "    print(f\"{n}\\t{v.item():2.3f}\\t{v.grad}\")"
   ]
  },
  {
   "cell_type": "code",
   "execution_count": 76,
   "metadata": {},
   "outputs": [],
   "source": [
    "output.backward()"
   ]
  },
  {
   "cell_type": "code",
   "execution_count": 77,
   "metadata": {},
   "outputs": [
    {
     "name": "stdout",
     "output_type": "stream",
     "text": [
      "name\tval\tgrad\n",
      "x\t1.000\tNone\n",
      "y\t2.000\tNone\n",
      "w1\t0.330\ttensor([2.])\n",
      "w2\t-1.500\ttensor([4.])\n",
      "w3\t0.010\ttensor([2.])\n"
     ]
    }
   ],
   "source": [
    "print(\"name\\tval\\tgrad\")\n",
    "for n, v in zip(names, variables):\n",
    "    print(f\"{n}\\t{v.item():2.3f}\\t{v.grad}\")"
   ]
  },
  {
   "cell_type": "code",
   "execution_count": 78,
   "metadata": {},
   "outputs": [
    {
     "ename": "RuntimeError",
     "evalue": "Trying to backward through the graph a second time, but the saved intermediate results have already been freed. Specify retain_graph=True when calling backward the first time.",
     "output_type": "error",
     "traceback": [
      "\u001b[0;31m---------------------------------------------------------------------------\u001b[0m",
      "\u001b[0;31mRuntimeError\u001b[0m                              Traceback (most recent call last)",
      "\u001b[0;32m/tmp/ipykernel_6151/2009089003.py\u001b[0m in \u001b[0;36m<module>\u001b[0;34m\u001b[0m\n\u001b[0;32m----> 1\u001b[0;31m \u001b[0moutput\u001b[0m\u001b[0;34m.\u001b[0m\u001b[0mbackward\u001b[0m\u001b[0;34m(\u001b[0m\u001b[0;34m)\u001b[0m\u001b[0;34m\u001b[0m\u001b[0;34m\u001b[0m\u001b[0m\n\u001b[0m",
      "\u001b[0;32m~/anaconda3/lib/python3.7/site-packages/torch/tensor.py\u001b[0m in \u001b[0;36mbackward\u001b[0;34m(self, gradient, retain_graph, create_graph)\u001b[0m\n\u001b[1;32m    219\u001b[0m                 \u001b[0mretain_graph\u001b[0m\u001b[0;34m=\u001b[0m\u001b[0mretain_graph\u001b[0m\u001b[0;34m,\u001b[0m\u001b[0;34m\u001b[0m\u001b[0;34m\u001b[0m\u001b[0m\n\u001b[1;32m    220\u001b[0m                 create_graph=create_graph)\n\u001b[0;32m--> 221\u001b[0;31m         \u001b[0mtorch\u001b[0m\u001b[0;34m.\u001b[0m\u001b[0mautograd\u001b[0m\u001b[0;34m.\u001b[0m\u001b[0mbackward\u001b[0m\u001b[0;34m(\u001b[0m\u001b[0mself\u001b[0m\u001b[0;34m,\u001b[0m \u001b[0mgradient\u001b[0m\u001b[0;34m,\u001b[0m \u001b[0mretain_graph\u001b[0m\u001b[0;34m,\u001b[0m \u001b[0mcreate_graph\u001b[0m\u001b[0;34m)\u001b[0m\u001b[0;34m\u001b[0m\u001b[0;34m\u001b[0m\u001b[0m\n\u001b[0m\u001b[1;32m    222\u001b[0m \u001b[0;34m\u001b[0m\u001b[0m\n\u001b[1;32m    223\u001b[0m     \u001b[0;32mdef\u001b[0m \u001b[0mregister_hook\u001b[0m\u001b[0;34m(\u001b[0m\u001b[0mself\u001b[0m\u001b[0;34m,\u001b[0m \u001b[0mhook\u001b[0m\u001b[0;34m)\u001b[0m\u001b[0;34m:\u001b[0m\u001b[0;34m\u001b[0m\u001b[0;34m\u001b[0m\u001b[0m\n",
      "\u001b[0;32m~/anaconda3/lib/python3.7/site-packages/torch/autograd/__init__.py\u001b[0m in \u001b[0;36mbackward\u001b[0;34m(tensors, grad_tensors, retain_graph, create_graph, grad_variables)\u001b[0m\n\u001b[1;32m    130\u001b[0m     Variable._execution_engine.run_backward(\n\u001b[1;32m    131\u001b[0m         \u001b[0mtensors\u001b[0m\u001b[0;34m,\u001b[0m \u001b[0mgrad_tensors_\u001b[0m\u001b[0;34m,\u001b[0m \u001b[0mretain_graph\u001b[0m\u001b[0;34m,\u001b[0m \u001b[0mcreate_graph\u001b[0m\u001b[0;34m,\u001b[0m\u001b[0;34m\u001b[0m\u001b[0;34m\u001b[0m\u001b[0m\n\u001b[0;32m--> 132\u001b[0;31m         allow_unreachable=True)  # allow_unreachable flag\n\u001b[0m\u001b[1;32m    133\u001b[0m \u001b[0;34m\u001b[0m\u001b[0m\n\u001b[1;32m    134\u001b[0m \u001b[0;34m\u001b[0m\u001b[0m\n",
      "\u001b[0;31mRuntimeError\u001b[0m: Trying to backward through the graph a second time, but the saved intermediate results have already been freed. Specify retain_graph=True when calling backward the first time."
     ]
    }
   ],
   "source": [
    "output.backward()"
   ]
  },
  {
   "cell_type": "markdown",
   "metadata": {},
   "source": [
    "#### `torch.no_grad()`"
   ]
  },
  {
   "cell_type": "markdown",
   "metadata": {},
   "source": [
    "Данный контекст гарантирует, что во всех вычислениях внутри него будут отключены градиенты."
   ]
  },
  {
   "cell_type": "code",
   "execution_count": 79,
   "metadata": {},
   "outputs": [],
   "source": [
    "x = torch.randn(64, 512, 16, 16)\n",
    "x.requires_grad_(True);"
   ]
  },
  {
   "cell_type": "code",
   "execution_count": 80,
   "metadata": {},
   "outputs": [],
   "source": [
    "y = (10 * x).sum()"
   ]
  },
  {
   "cell_type": "code",
   "execution_count": 81,
   "metadata": {},
   "outputs": [
    {
     "data": {
      "text/plain": [
       "True"
      ]
     },
     "execution_count": 81,
     "metadata": {},
     "output_type": "execute_result"
    }
   ],
   "source": [
    "y.requires_grad"
   ]
  },
  {
   "cell_type": "code",
   "execution_count": 82,
   "metadata": {},
   "outputs": [],
   "source": [
    "with torch.no_grad():\n",
    "    z = (100 * x).sum()"
   ]
  },
  {
   "cell_type": "code",
   "execution_count": 83,
   "metadata": {},
   "outputs": [
    {
     "data": {
      "text/plain": [
       "False"
      ]
     },
     "execution_count": 83,
     "metadata": {},
     "output_type": "execute_result"
    }
   ],
   "source": [
    "z.requires_grad"
   ]
  },
  {
   "cell_type": "code",
   "execution_count": 84,
   "metadata": {},
   "outputs": [
    {
     "data": {
      "text/plain": [
       "True"
      ]
     },
     "execution_count": 84,
     "metadata": {},
     "output_type": "execute_result"
    }
   ],
   "source": [
    "x.requires_grad"
   ]
  },
  {
   "cell_type": "markdown",
   "metadata": {},
   "source": [
    "Зачем это может быть нужно?\n",
    "\n",
    "Посмотрим на потребление памяти при использовании функции активации сигмоида:"
   ]
  },
  {
   "cell_type": "code",
   "execution_count": 2,
   "metadata": {},
   "outputs": [],
   "source": [
    "import torch\n",
    "\n",
    "device = torch.device(\"cuda:0\")\n",
    "\n",
    "from torch.nn import Sigmoid"
   ]
  },
  {
   "cell_type": "code",
   "execution_count": 86,
   "metadata": {},
   "outputs": [],
   "source": [
    "bytes_in_kilobyte = 1024\n",
    "\n",
    "def get_allocated_memory():\n",
    "    mem_MB = torch.cuda.memory_allocated(device=device) / bytes_in_kilobyte\n",
    "    return round(mem_MB, 3)\n",
    "\n",
    "def get_tensor_memory(t):\n",
    "    mem_MB = t.nelement() * t.element_size() / bytes_in_kilobyte\n",
    "    return round(mem_MB, 3)"
   ]
  },
  {
   "cell_type": "code",
   "execution_count": null,
   "metadata": {},
   "outputs": [],
   "source": []
  },
  {
   "cell_type": "code",
   "execution_count": 87,
   "metadata": {},
   "outputs": [
    {
     "ename": "RuntimeError",
     "evalue": "0 <= device && device < device_num INTERNAL ASSERT FAILED at \"/pytorch/c10/cuda/CUDACachingAllocator.cpp\":970, please report a bug to PyTorch. Invalid device argument.",
     "output_type": "error",
     "traceback": [
      "\u001b[0;31m---------------------------------------------------------------------------\u001b[0m",
      "\u001b[0;31mRuntimeError\u001b[0m                              Traceback (most recent call last)",
      "\u001b[0;32m/tmp/ipykernel_6151/3855162030.py\u001b[0m in \u001b[0;36m<module>\u001b[0;34m\u001b[0m\n\u001b[1;32m      1\u001b[0m \u001b[0mtorch\u001b[0m\u001b[0;34m.\u001b[0m\u001b[0mcuda\u001b[0m\u001b[0;34m.\u001b[0m\u001b[0mempty_cache\u001b[0m\u001b[0;34m(\u001b[0m\u001b[0;34m)\u001b[0m\u001b[0;34m\u001b[0m\u001b[0;34m\u001b[0m\u001b[0m\n\u001b[0;32m----> 2\u001b[0;31m \u001b[0mget_allocated_memory\u001b[0m\u001b[0;34m(\u001b[0m\u001b[0;34m)\u001b[0m\u001b[0;34m\u001b[0m\u001b[0;34m\u001b[0m\u001b[0m\n\u001b[0m",
      "\u001b[0;32m/tmp/ipykernel_6151/906464600.py\u001b[0m in \u001b[0;36mget_allocated_memory\u001b[0;34m()\u001b[0m\n\u001b[1;32m      2\u001b[0m \u001b[0;34m\u001b[0m\u001b[0m\n\u001b[1;32m      3\u001b[0m \u001b[0;32mdef\u001b[0m \u001b[0mget_allocated_memory\u001b[0m\u001b[0;34m(\u001b[0m\u001b[0;34m)\u001b[0m\u001b[0;34m:\u001b[0m\u001b[0;34m\u001b[0m\u001b[0;34m\u001b[0m\u001b[0m\n\u001b[0;32m----> 4\u001b[0;31m     \u001b[0mmem_MB\u001b[0m \u001b[0;34m=\u001b[0m \u001b[0mtorch\u001b[0m\u001b[0;34m.\u001b[0m\u001b[0mcuda\u001b[0m\u001b[0;34m.\u001b[0m\u001b[0mmemory_allocated\u001b[0m\u001b[0;34m(\u001b[0m\u001b[0mdevice\u001b[0m\u001b[0;34m=\u001b[0m\u001b[0mdevice\u001b[0m\u001b[0;34m)\u001b[0m \u001b[0;34m/\u001b[0m \u001b[0mbytes_in_kilobyte\u001b[0m\u001b[0;34m\u001b[0m\u001b[0;34m\u001b[0m\u001b[0m\n\u001b[0m\u001b[1;32m      5\u001b[0m     \u001b[0;32mreturn\u001b[0m \u001b[0mround\u001b[0m\u001b[0;34m(\u001b[0m\u001b[0mmem_MB\u001b[0m\u001b[0;34m,\u001b[0m \u001b[0;36m3\u001b[0m\u001b[0;34m)\u001b[0m\u001b[0;34m\u001b[0m\u001b[0;34m\u001b[0m\u001b[0m\n\u001b[1;32m      6\u001b[0m \u001b[0;34m\u001b[0m\u001b[0m\n",
      "\u001b[0;32m~/anaconda3/lib/python3.7/site-packages/torch/cuda/memory.py\u001b[0m in \u001b[0;36mmemory_allocated\u001b[0;34m(device)\u001b[0m\n\u001b[1;32m    277\u001b[0m         \u001b[0mdetails\u001b[0m \u001b[0mabout\u001b[0m \u001b[0mGPU\u001b[0m \u001b[0mmemory\u001b[0m \u001b[0mmanagement\u001b[0m\u001b[0;34m.\u001b[0m\u001b[0;34m\u001b[0m\u001b[0;34m\u001b[0m\u001b[0m\n\u001b[1;32m    278\u001b[0m     \"\"\"\n\u001b[0;32m--> 279\u001b[0;31m     \u001b[0;32mreturn\u001b[0m \u001b[0mmemory_stats\u001b[0m\u001b[0;34m(\u001b[0m\u001b[0mdevice\u001b[0m\u001b[0;34m=\u001b[0m\u001b[0mdevice\u001b[0m\u001b[0;34m)\u001b[0m\u001b[0;34m[\u001b[0m\u001b[0;34m\"allocated_bytes.all.current\"\u001b[0m\u001b[0;34m]\u001b[0m\u001b[0;34m\u001b[0m\u001b[0;34m\u001b[0m\u001b[0m\n\u001b[0m\u001b[1;32m    280\u001b[0m \u001b[0;34m\u001b[0m\u001b[0m\n\u001b[1;32m    281\u001b[0m \u001b[0;34m\u001b[0m\u001b[0m\n",
      "\u001b[0;32m~/anaconda3/lib/python3.7/site-packages/torch/cuda/memory.py\u001b[0m in \u001b[0;36mmemory_stats\u001b[0;34m(device)\u001b[0m\n\u001b[1;32m    158\u001b[0m             \u001b[0mresult\u001b[0m\u001b[0;34m.\u001b[0m\u001b[0mappend\u001b[0m\u001b[0;34m(\u001b[0m\u001b[0;34m(\u001b[0m\u001b[0mprefix\u001b[0m\u001b[0;34m,\u001b[0m \u001b[0mobj\u001b[0m\u001b[0;34m)\u001b[0m\u001b[0;34m)\u001b[0m\u001b[0;34m\u001b[0m\u001b[0;34m\u001b[0m\u001b[0m\n\u001b[1;32m    159\u001b[0m \u001b[0;34m\u001b[0m\u001b[0m\n\u001b[0;32m--> 160\u001b[0;31m     \u001b[0mstats\u001b[0m \u001b[0;34m=\u001b[0m \u001b[0mmemory_stats_as_nested_dict\u001b[0m\u001b[0;34m(\u001b[0m\u001b[0mdevice\u001b[0m\u001b[0;34m=\u001b[0m\u001b[0mdevice\u001b[0m\u001b[0;34m)\u001b[0m\u001b[0;34m\u001b[0m\u001b[0;34m\u001b[0m\u001b[0m\n\u001b[0m\u001b[1;32m    161\u001b[0m     \u001b[0m_recurse_add_to_result\u001b[0m\u001b[0;34m(\u001b[0m\u001b[0;34m\"\"\u001b[0m\u001b[0;34m,\u001b[0m \u001b[0mstats\u001b[0m\u001b[0;34m)\u001b[0m\u001b[0;34m\u001b[0m\u001b[0;34m\u001b[0m\u001b[0m\n\u001b[1;32m    162\u001b[0m     \u001b[0mresult\u001b[0m\u001b[0;34m.\u001b[0m\u001b[0msort\u001b[0m\u001b[0;34m(\u001b[0m\u001b[0;34m)\u001b[0m\u001b[0;34m\u001b[0m\u001b[0;34m\u001b[0m\u001b[0m\n",
      "\u001b[0;32m~/anaconda3/lib/python3.7/site-packages/torch/cuda/memory.py\u001b[0m in \u001b[0;36mmemory_stats_as_nested_dict\u001b[0;34m(device)\u001b[0m\n\u001b[1;32m    168\u001b[0m     \u001b[0;34mr\"\"\"Returns the result of :func:`~torch.cuda.memory_stats` as a nested dictionary.\"\"\"\u001b[0m\u001b[0;34m\u001b[0m\u001b[0;34m\u001b[0m\u001b[0m\n\u001b[1;32m    169\u001b[0m     \u001b[0mdevice\u001b[0m \u001b[0;34m=\u001b[0m \u001b[0m_get_device_index\u001b[0m\u001b[0;34m(\u001b[0m\u001b[0mdevice\u001b[0m\u001b[0;34m,\u001b[0m \u001b[0moptional\u001b[0m\u001b[0;34m=\u001b[0m\u001b[0;32mTrue\u001b[0m\u001b[0;34m)\u001b[0m\u001b[0;34m\u001b[0m\u001b[0;34m\u001b[0m\u001b[0m\n\u001b[0;32m--> 170\u001b[0;31m     \u001b[0;32mreturn\u001b[0m \u001b[0mtorch\u001b[0m\u001b[0;34m.\u001b[0m\u001b[0m_C\u001b[0m\u001b[0;34m.\u001b[0m\u001b[0m_cuda_memoryStats\u001b[0m\u001b[0;34m(\u001b[0m\u001b[0mdevice\u001b[0m\u001b[0;34m)\u001b[0m\u001b[0;34m\u001b[0m\u001b[0;34m\u001b[0m\u001b[0m\n\u001b[0m\u001b[1;32m    171\u001b[0m \u001b[0;34m\u001b[0m\u001b[0m\n\u001b[1;32m    172\u001b[0m \u001b[0;34m\u001b[0m\u001b[0m\n",
      "\u001b[0;31mRuntimeError\u001b[0m: 0 <= device && device < device_num INTERNAL ASSERT FAILED at \"/pytorch/c10/cuda/CUDACachingAllocator.cpp\":970, please report a bug to PyTorch. Invalid device argument."
     ]
    }
   ],
   "source": [
    "torch.cuda.empty_cache()\n",
    "get_allocated_memory()"
   ]
  },
  {
   "cell_type": "code",
   "execution_count": 88,
   "metadata": {},
   "outputs": [
    {
     "ename": "RuntimeError",
     "evalue": "0 <= device && device < device_num INTERNAL ASSERT FAILED at \"/pytorch/c10/cuda/CUDACachingAllocator.cpp\":970, please report a bug to PyTorch. Invalid device argument.",
     "output_type": "error",
     "traceback": [
      "\u001b[0;31m---------------------------------------------------------------------------\u001b[0m",
      "\u001b[0;31mRuntimeError\u001b[0m                              Traceback (most recent call last)",
      "\u001b[0;32m/tmp/ipykernel_6151/2796272983.py\u001b[0m in \u001b[0;36m<module>\u001b[0;34m\u001b[0m\n\u001b[1;32m      1\u001b[0m \u001b[0ms\u001b[0m \u001b[0;34m=\u001b[0m \u001b[0mSigmoid\u001b[0m\u001b[0;34m(\u001b[0m\u001b[0;34m)\u001b[0m\u001b[0;34m.\u001b[0m\u001b[0mto\u001b[0m\u001b[0;34m(\u001b[0m\u001b[0mdevice\u001b[0m\u001b[0;34m)\u001b[0m\u001b[0;34m\u001b[0m\u001b[0;34m\u001b[0m\u001b[0m\n\u001b[0;32m----> 2\u001b[0;31m \u001b[0mget_allocated_memory\u001b[0m\u001b[0;34m(\u001b[0m\u001b[0;34m)\u001b[0m\u001b[0;34m\u001b[0m\u001b[0;34m\u001b[0m\u001b[0m\n\u001b[0m",
      "\u001b[0;32m/tmp/ipykernel_6151/906464600.py\u001b[0m in \u001b[0;36mget_allocated_memory\u001b[0;34m()\u001b[0m\n\u001b[1;32m      2\u001b[0m \u001b[0;34m\u001b[0m\u001b[0m\n\u001b[1;32m      3\u001b[0m \u001b[0;32mdef\u001b[0m \u001b[0mget_allocated_memory\u001b[0m\u001b[0;34m(\u001b[0m\u001b[0;34m)\u001b[0m\u001b[0;34m:\u001b[0m\u001b[0;34m\u001b[0m\u001b[0;34m\u001b[0m\u001b[0m\n\u001b[0;32m----> 4\u001b[0;31m     \u001b[0mmem_MB\u001b[0m \u001b[0;34m=\u001b[0m \u001b[0mtorch\u001b[0m\u001b[0;34m.\u001b[0m\u001b[0mcuda\u001b[0m\u001b[0;34m.\u001b[0m\u001b[0mmemory_allocated\u001b[0m\u001b[0;34m(\u001b[0m\u001b[0mdevice\u001b[0m\u001b[0;34m=\u001b[0m\u001b[0mdevice\u001b[0m\u001b[0;34m)\u001b[0m \u001b[0;34m/\u001b[0m \u001b[0mbytes_in_kilobyte\u001b[0m\u001b[0;34m\u001b[0m\u001b[0;34m\u001b[0m\u001b[0m\n\u001b[0m\u001b[1;32m      5\u001b[0m     \u001b[0;32mreturn\u001b[0m \u001b[0mround\u001b[0m\u001b[0;34m(\u001b[0m\u001b[0mmem_MB\u001b[0m\u001b[0;34m,\u001b[0m \u001b[0;36m3\u001b[0m\u001b[0;34m)\u001b[0m\u001b[0;34m\u001b[0m\u001b[0;34m\u001b[0m\u001b[0m\n\u001b[1;32m      6\u001b[0m \u001b[0;34m\u001b[0m\u001b[0m\n",
      "\u001b[0;32m~/anaconda3/lib/python3.7/site-packages/torch/cuda/memory.py\u001b[0m in \u001b[0;36mmemory_allocated\u001b[0;34m(device)\u001b[0m\n\u001b[1;32m    277\u001b[0m         \u001b[0mdetails\u001b[0m \u001b[0mabout\u001b[0m \u001b[0mGPU\u001b[0m \u001b[0mmemory\u001b[0m \u001b[0mmanagement\u001b[0m\u001b[0;34m.\u001b[0m\u001b[0;34m\u001b[0m\u001b[0;34m\u001b[0m\u001b[0m\n\u001b[1;32m    278\u001b[0m     \"\"\"\n\u001b[0;32m--> 279\u001b[0;31m     \u001b[0;32mreturn\u001b[0m \u001b[0mmemory_stats\u001b[0m\u001b[0;34m(\u001b[0m\u001b[0mdevice\u001b[0m\u001b[0;34m=\u001b[0m\u001b[0mdevice\u001b[0m\u001b[0;34m)\u001b[0m\u001b[0;34m[\u001b[0m\u001b[0;34m\"allocated_bytes.all.current\"\u001b[0m\u001b[0;34m]\u001b[0m\u001b[0;34m\u001b[0m\u001b[0;34m\u001b[0m\u001b[0m\n\u001b[0m\u001b[1;32m    280\u001b[0m \u001b[0;34m\u001b[0m\u001b[0m\n\u001b[1;32m    281\u001b[0m \u001b[0;34m\u001b[0m\u001b[0m\n",
      "\u001b[0;32m~/anaconda3/lib/python3.7/site-packages/torch/cuda/memory.py\u001b[0m in \u001b[0;36mmemory_stats\u001b[0;34m(device)\u001b[0m\n\u001b[1;32m    158\u001b[0m             \u001b[0mresult\u001b[0m\u001b[0;34m.\u001b[0m\u001b[0mappend\u001b[0m\u001b[0;34m(\u001b[0m\u001b[0;34m(\u001b[0m\u001b[0mprefix\u001b[0m\u001b[0;34m,\u001b[0m \u001b[0mobj\u001b[0m\u001b[0;34m)\u001b[0m\u001b[0;34m)\u001b[0m\u001b[0;34m\u001b[0m\u001b[0;34m\u001b[0m\u001b[0m\n\u001b[1;32m    159\u001b[0m \u001b[0;34m\u001b[0m\u001b[0m\n\u001b[0;32m--> 160\u001b[0;31m     \u001b[0mstats\u001b[0m \u001b[0;34m=\u001b[0m \u001b[0mmemory_stats_as_nested_dict\u001b[0m\u001b[0;34m(\u001b[0m\u001b[0mdevice\u001b[0m\u001b[0;34m=\u001b[0m\u001b[0mdevice\u001b[0m\u001b[0;34m)\u001b[0m\u001b[0;34m\u001b[0m\u001b[0;34m\u001b[0m\u001b[0m\n\u001b[0m\u001b[1;32m    161\u001b[0m     \u001b[0m_recurse_add_to_result\u001b[0m\u001b[0;34m(\u001b[0m\u001b[0;34m\"\"\u001b[0m\u001b[0;34m,\u001b[0m \u001b[0mstats\u001b[0m\u001b[0;34m)\u001b[0m\u001b[0;34m\u001b[0m\u001b[0;34m\u001b[0m\u001b[0m\n\u001b[1;32m    162\u001b[0m     \u001b[0mresult\u001b[0m\u001b[0;34m.\u001b[0m\u001b[0msort\u001b[0m\u001b[0;34m(\u001b[0m\u001b[0;34m)\u001b[0m\u001b[0;34m\u001b[0m\u001b[0;34m\u001b[0m\u001b[0m\n",
      "\u001b[0;32m~/anaconda3/lib/python3.7/site-packages/torch/cuda/memory.py\u001b[0m in \u001b[0;36mmemory_stats_as_nested_dict\u001b[0;34m(device)\u001b[0m\n\u001b[1;32m    168\u001b[0m     \u001b[0;34mr\"\"\"Returns the result of :func:`~torch.cuda.memory_stats` as a nested dictionary.\"\"\"\u001b[0m\u001b[0;34m\u001b[0m\u001b[0;34m\u001b[0m\u001b[0m\n\u001b[1;32m    169\u001b[0m     \u001b[0mdevice\u001b[0m \u001b[0;34m=\u001b[0m \u001b[0m_get_device_index\u001b[0m\u001b[0;34m(\u001b[0m\u001b[0mdevice\u001b[0m\u001b[0;34m,\u001b[0m \u001b[0moptional\u001b[0m\u001b[0;34m=\u001b[0m\u001b[0;32mTrue\u001b[0m\u001b[0;34m)\u001b[0m\u001b[0;34m\u001b[0m\u001b[0;34m\u001b[0m\u001b[0m\n\u001b[0;32m--> 170\u001b[0;31m     \u001b[0;32mreturn\u001b[0m \u001b[0mtorch\u001b[0m\u001b[0;34m.\u001b[0m\u001b[0m_C\u001b[0m\u001b[0;34m.\u001b[0m\u001b[0m_cuda_memoryStats\u001b[0m\u001b[0;34m(\u001b[0m\u001b[0mdevice\u001b[0m\u001b[0;34m)\u001b[0m\u001b[0;34m\u001b[0m\u001b[0;34m\u001b[0m\u001b[0m\n\u001b[0m\u001b[1;32m    171\u001b[0m \u001b[0;34m\u001b[0m\u001b[0m\n\u001b[1;32m    172\u001b[0m \u001b[0;34m\u001b[0m\u001b[0m\n",
      "\u001b[0;31mRuntimeError\u001b[0m: 0 <= device && device < device_num INTERNAL ASSERT FAILED at \"/pytorch/c10/cuda/CUDACachingAllocator.cpp\":970, please report a bug to PyTorch. Invalid device argument."
     ]
    }
   ],
   "source": [
    "s = Sigmoid().to(device)\n",
    "get_allocated_memory()"
   ]
  },
  {
   "cell_type": "code",
   "execution_count": 89,
   "metadata": {},
   "outputs": [
    {
     "ename": "RuntimeError",
     "evalue": "No CUDA GPUs are available",
     "output_type": "error",
     "traceback": [
      "\u001b[0;31m---------------------------------------------------------------------------\u001b[0m",
      "\u001b[0;31mRuntimeError\u001b[0m                              Traceback (most recent call last)",
      "\u001b[0;32m/tmp/ipykernel_6151/283138138.py\u001b[0m in \u001b[0;36m<module>\u001b[0;34m\u001b[0m\n\u001b[0;32m----> 1\u001b[0;31m \u001b[0mx\u001b[0m \u001b[0;34m=\u001b[0m \u001b[0mtorch\u001b[0m\u001b[0;34m.\u001b[0m\u001b[0mrandn\u001b[0m\u001b[0;34m(\u001b[0m\u001b[0;36m64\u001b[0m\u001b[0;34m,\u001b[0m \u001b[0;36m512\u001b[0m\u001b[0;34m,\u001b[0m \u001b[0;36m16\u001b[0m\u001b[0;34m,\u001b[0m \u001b[0;36m16\u001b[0m\u001b[0;34m)\u001b[0m\u001b[0;34m.\u001b[0m\u001b[0mto\u001b[0m\u001b[0;34m(\u001b[0m\u001b[0mdevice\u001b[0m\u001b[0;34m)\u001b[0m\u001b[0;34m\u001b[0m\u001b[0;34m\u001b[0m\u001b[0m\n\u001b[0m\u001b[1;32m      2\u001b[0m \u001b[0mx\u001b[0m\u001b[0;34m.\u001b[0m\u001b[0mrequires_grad_\u001b[0m\u001b[0;34m(\u001b[0m\u001b[0;32mTrue\u001b[0m\u001b[0;34m)\u001b[0m\u001b[0;34m;\u001b[0m\u001b[0;34m\u001b[0m\u001b[0;34m\u001b[0m\u001b[0m\n\u001b[1;32m      3\u001b[0m \u001b[0mget_tensor_memory\u001b[0m\u001b[0;34m(\u001b[0m\u001b[0mx\u001b[0m\u001b[0;34m)\u001b[0m\u001b[0;34m\u001b[0m\u001b[0;34m\u001b[0m\u001b[0m\n",
      "\u001b[0;32m~/anaconda3/lib/python3.7/site-packages/torch/cuda/__init__.py\u001b[0m in \u001b[0;36m_lazy_init\u001b[0;34m()\u001b[0m\n\u001b[1;32m    170\u001b[0m         \u001b[0;31m# This function throws if there's a driver initialization error, no GPUs\u001b[0m\u001b[0;34m\u001b[0m\u001b[0;34m\u001b[0m\u001b[0;34m\u001b[0m\u001b[0m\n\u001b[1;32m    171\u001b[0m         \u001b[0;31m# are found or any other error occurs\u001b[0m\u001b[0;34m\u001b[0m\u001b[0;34m\u001b[0m\u001b[0;34m\u001b[0m\u001b[0m\n\u001b[0;32m--> 172\u001b[0;31m         \u001b[0mtorch\u001b[0m\u001b[0;34m.\u001b[0m\u001b[0m_C\u001b[0m\u001b[0;34m.\u001b[0m\u001b[0m_cuda_init\u001b[0m\u001b[0;34m(\u001b[0m\u001b[0;34m)\u001b[0m\u001b[0;34m\u001b[0m\u001b[0;34m\u001b[0m\u001b[0m\n\u001b[0m\u001b[1;32m    173\u001b[0m         \u001b[0;31m# Some of the queued calls may reentrantly call _lazy_init();\u001b[0m\u001b[0;34m\u001b[0m\u001b[0;34m\u001b[0m\u001b[0;34m\u001b[0m\u001b[0m\n\u001b[1;32m    174\u001b[0m         \u001b[0;31m# we need to just return without initializing in that case.\u001b[0m\u001b[0;34m\u001b[0m\u001b[0;34m\u001b[0m\u001b[0;34m\u001b[0m\u001b[0m\n",
      "\u001b[0;31mRuntimeError\u001b[0m: No CUDA GPUs are available"
     ]
    }
   ],
   "source": [
    "x = torch.randn(64, 512, 16, 16).to(device)\n",
    "x.requires_grad_(True);\n",
    "get_tensor_memory(x)"
   ]
  },
  {
   "cell_type": "code",
   "execution_count": 90,
   "metadata": {},
   "outputs": [
    {
     "data": {
      "text/plain": [
       "32768.0"
      ]
     },
     "execution_count": 90,
     "metadata": {},
     "output_type": "execute_result"
    }
   ],
   "source": [
    "64 * 512 * 16 * 16 * 4 / 1024"
   ]
  },
  {
   "cell_type": "code",
   "execution_count": null,
   "metadata": {},
   "outputs": [],
   "source": [
    "get_allocated_memory()"
   ]
  },
  {
   "cell_type": "code",
   "execution_count": null,
   "metadata": {},
   "outputs": [],
   "source": [
    "y = s(x).mean()\n",
    "get_tensor_memory(y)"
   ]
  },
  {
   "cell_type": "code",
   "execution_count": null,
   "metadata": {},
   "outputs": [],
   "source": [
    "get_allocated_memory()"
   ]
  },
  {
   "cell_type": "code",
   "execution_count": null,
   "metadata": {},
   "outputs": [],
   "source": [
    "y.backward()\n",
    "get_allocated_memory()"
   ]
  },
  {
   "cell_type": "markdown",
   "metadata": {},
   "source": [
    "Сделаем то же самое, но с `torch.no_grad()`:"
   ]
  },
  {
   "cell_type": "code",
   "execution_count": null,
   "metadata": {},
   "outputs": [],
   "source": [
    "# torch.cuda.empty_cache()\n",
    "get_allocated_memory()"
   ]
  },
  {
   "cell_type": "code",
   "execution_count": null,
   "metadata": {},
   "outputs": [],
   "source": [
    "s = Sigmoid().to(device)\n",
    "get_allocated_memory()"
   ]
  },
  {
   "cell_type": "code",
   "execution_count": null,
   "metadata": {},
   "outputs": [],
   "source": [
    "x = torch.randn(64, 512, 16, 16).to(device)\n",
    "x.requires_grad_(True);\n",
    "get_tensor_memory(x)"
   ]
  },
  {
   "cell_type": "code",
   "execution_count": null,
   "metadata": {},
   "outputs": [],
   "source": [
    "get_allocated_memory()"
   ]
  },
  {
   "cell_type": "code",
   "execution_count": null,
   "metadata": {},
   "outputs": [],
   "source": [
    "with torch.no_grad():\n",
    "    y = s(x).mean()\n",
    "get_tensor_memory(y)"
   ]
  },
  {
   "cell_type": "code",
   "execution_count": null,
   "metadata": {},
   "outputs": [],
   "source": [
    "get_allocated_memory()"
   ]
  },
  {
   "cell_type": "markdown",
   "metadata": {},
   "source": [
    "Почему потребление памяти уменьшилось?\n",
    "Подробнее [тут](https://medium.com/deep-learning-for-protein-design/a-comprehensive-guide-to-memory-usage-in-pytorch-b9b7c78031d3) или [тут](https://pytorch.org/tutorials/recipes/recipes/tuning_guide.html)."
   ]
  },
  {
   "cell_type": "markdown",
   "metadata": {},
   "source": [
    "## 3. Пример задачи регрессии"
   ]
  },
  {
   "cell_type": "code",
   "execution_count": 3,
   "metadata": {},
   "outputs": [],
   "source": [
    "import numpy as np\n",
    "import matplotlib.pyplot as plt\n",
    "import tqdm\n",
    "import torch"
   ]
  },
  {
   "cell_type": "code",
   "execution_count": 10,
   "metadata": {},
   "outputs": [
    {
     "data": {
      "image/png": "[encoded data removed]",
      "text/plain": [
       "<Figure size 1200x500 with 1 Axes>"
      ]
     },
     "metadata": {},
     "output_type": "display_data"
    }
   ],
   "source": [
    "np.random.seed(0xAB0BA)\n",
    "_a = np.random.uniform(1, 5)\n",
    "_b = np.random.uniform(-3, 3)\n",
    "_c = np.random.uniform(-3, 3)\n",
    "\n",
    "num_samples = 100\n",
    "\n",
    "xs = np.random.uniform(-3, 3, size=num_samples)\n",
    "ys_clean = _a * xs ** 2 + _b * xs + _c\n",
    "ys_noise = np.random.normal(0, 1, size=len(ys_clean))\n",
    "ys = ys_clean + ys_noise\n",
    "\n",
    "plt.figure(figsize=(12, 5))\n",
    "plt.scatter(xs, ys, label=\"gt\", s=5)\n",
    "plt.xlabel(\"x\")\n",
    "plt.ylabel(\"y\")\n",
    "plt.legend()\n",
    "plt.grid(True)"
   ]
  },
  {
   "cell_type": "code",
   "execution_count": 11,
   "metadata": {},
   "outputs": [],
   "source": [
    "def model(x, a, b, c):\n",
    "    return a * x ** 2 + b * x + c"
   ]
  },
  {
   "cell_type": "code",
   "execution_count": 12,
   "metadata": {},
   "outputs": [],
   "source": [
    "# device = torch.device(\"cuda:0\")\n",
    "device = torch.device(\"cpu\")"
   ]
  },
  {
   "cell_type": "markdown",
   "metadata": {},
   "source": [
    "Создадим переменные `xs_device` и `ys_device`, которые будут содержать обучающие данные сразу на нужном девайсе в виде тензоров.\n",
    "\n",
    "**Вопрос:** `requires_grad=True` или `requires_grad=False`?"
   ]
  },
  {
   "cell_type": "code",
   "execution_count": 14,
   "metadata": {},
   "outputs": [],
   "source": [
    "# YOUR CODE HERE\n",
    "\n",
    "xs_device = torch.tensor(xs, requires_grad=True).to(device)\n",
    "ys_device = torch.tensor(ys).to(device)\n",
    "\n",
    "# END OF YOUR CODE"
   ]
  },
  {
   "cell_type": "markdown",
   "metadata": {},
   "source": [
    "Теперь инициализируем веса `a`, `b` и `c` нормальным распределением:"
   ]
  },
  {
   "cell_type": "code",
   "execution_count": 21,
   "metadata": {},
   "outputs": [],
   "source": [
    "# YOUR CODE HERE\n",
    "\n",
    "a = torch.randn(1, requires_grad=True)\n",
    "b = torch.randn(1, requires_grad=True)\n",
    "c = torch.randn(1, requires_grad=True)\n",
    "\n",
    "# END OF YOUR CODE"
   ]
  },
  {
   "cell_type": "markdown",
   "metadata": {},
   "source": [
    "Допишем рутину обучения, чтобы получить значения весов модели."
   ]
  },
  {
   "cell_type": "code",
   "execution_count": 23,
   "metadata": {},
   "outputs": [
    {
     "name": "stderr",
     "output_type": "stream",
     "text": [
      "100%|██████████| 300/300 [00:10<00:00, 29.06it/s]\n"
     ]
    }
   ],
   "source": [
    "num_epochs = 300\n",
    "lr = 1e-4\n",
    "indices = np.arange(len(xs))\n",
    "\n",
    "loss_list = []\n",
    "a_list = []\n",
    "b_list = []\n",
    "c_list = []\n",
    "\n",
    "\n",
    "for epoch in tqdm.trange(num_epochs):\n",
    "    np.random.shuffle(indices)\n",
    "\n",
    "    loss_epoch = []\n",
    "    for i in indices:\n",
    "        \n",
    "        # YOUR CODE HERE\n",
    "        \n",
    "        x = xs_device[i]\n",
    "        y_true = ys_device[i]\n",
    "        y_pred = model(x, a, b, c)      \n",
    "        loss = torch.sqrt((y_pred - y_true) ** 2)\n",
    "        loss.backward()\n",
    "        \n",
    "        # END OF YOUR CODE\n",
    "        \n",
    "        with torch.no_grad():\n",
    "            a.data -= lr * a.grad.data\n",
    "            b.data -= lr * b.grad.data\n",
    "            c.data -= lr * c.grad.data\n",
    "            a.grad.zero_()\n",
    "            b.grad.zero_()\n",
    "            c.grad.zero_()\n",
    "            \n",
    "        loss_epoch.append(loss.item())\n",
    "        \n",
    "    loss_list.append(np.mean(loss_epoch))\n",
    "    a_list.append(a.item())\n",
    "    b_list.append(b.item())\n",
    "    c_list.append(c.item())"
   ]
  },
  {
   "cell_type": "markdown",
   "metadata": {},
   "source": [
    "А теперь посмотрим на результаты:"
   ]
  },
  {
   "cell_type": "code",
   "execution_count": 24,
   "metadata": {},
   "outputs": [],
   "source": [
    "xs_sorted = np.sort(xs)\n",
    "\n",
    "ys_pred_per_epoch = []\n",
    "for epoch in range(num_epochs):\n",
    "    a_epoch = a_list[epoch]\n",
    "    b_epoch = b_list[epoch]\n",
    "    c_epoch = c_list[epoch]\n",
    "    with torch.no_grad():\n",
    "        ys_pred_epoch = model(xs_sorted, a_epoch, b_epoch, c_epoch)\n",
    "    ys_pred_per_epoch.append(ys_pred_epoch)"
   ]
  },
  {
   "cell_type": "code",
   "execution_count": 25,
   "metadata": {},
   "outputs": [
    {
     "data": {
      "image/png": "[encoded data removed]",
      "text/plain": [
       "<Figure size 1200x500 with 1 Axes>"
      ]
     },
     "metadata": {},
     "output_type": "display_data"
    }
   ],
   "source": [
    "plt.figure(figsize=(12, 5))\n",
    "plt.scatter(xs, ys, label=\"gt\", s=5, c=\"r\")\n",
    "plt.plot(xs_sorted, ys_pred_per_epoch[-1], label=\"pred\", c=\"g\")\n",
    "plt.xlabel(\"x\")\n",
    "plt.ylabel(\"y\")\n",
    "plt.legend()\n",
    "plt.grid(True)\n",
    "plt.show()"
   ]
  },
  {
   "cell_type": "markdown",
   "metadata": {},
   "source": [
    "Если есть нужные зависимости у `jupyterlab` (**осторожно, может все сломать**), можно сделать интерактивно:"
   ]
  },
  {
   "cell_type": "code",
   "execution_count": null,
   "metadata": {},
   "outputs": [],
   "source": [
    "#!pip install ipympl"
   ]
  },
  {
   "cell_type": "code",
   "execution_count": 26,
   "metadata": {},
   "outputs": [
    {
     "data": {
      "application/vnd.jupyter.widget-view+json": {
       "model_id": "bd3589bf37fd4c9b9e7d5873bc163b0b",
       "version_major": 2,
       "version_minor": 0
      },
      "text/plain": [
       "A Jupyter Widget"
      ]
     },
     "metadata": {},
     "output_type": "display_data"
    },
    {
     "data": {
      "application/vnd.jupyter.widget-view+json": {
       "model_id": "20896a72f98f478fba0b89e64a1dd8d2",
       "version_major": 2,
       "version_minor": 0
      },
      "image/png": "[encoded data removed]",
      "text/html": [
       "\n",
       "            <div style=\"display: inline-block;\">\n",
       "                <div class=\"jupyter-widgets widget-label\" style=\"text-align: center;\">\n",
       "                    Figure\n",
       "                </div>\n",
       "                <img src='data:image/png;base64,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' width=1200.0/>\n",
       "            </div>\n",
       "        "
      ],
      "text/plain": [
       "Canvas(toolbar=Toolbar(toolitems=[('Home', 'Reset original view', 'home', 'home'), ('Back', 'Back to previous …"
      ]
     },
     "metadata": {},
     "output_type": "display_data"
    }
   ],
   "source": [
    "%matplotlib ipympl\n",
    "from ipywidgets import *\n",
    "import numpy as np\n",
    "import matplotlib.pyplot as plt\n",
    "\n",
    "x = xs_sorted\n",
    "\n",
    "def f(x, i):\n",
    "    return model(x, a_list[i], b_list[i], c_list[i])\n",
    "\n",
    "fig = plt.figure(figsize=(12, 5))\n",
    "ax = fig.add_subplot(1, 1, 1)\n",
    "ax.set_xlabel(\"x\")\n",
    "ax.set_ylabel(\"y\")\n",
    "\n",
    "ax.scatter(xs, ys, label=\"gt\", s=5, c=\"r\")\n",
    "line, = ax.plot(x, f(x, i), label=\"pred\", c=\"g\")\n",
    "\n",
    "ax.legend()\n",
    "ax.grid(True)\n",
    "\n",
    "\n",
    "def update(i=0):\n",
    "    line.set_ydata(f(x, i))\n",
    "    fig.canvas.draw_idle()\n",
    "    \n",
    "interact(update, i=(0,num_epochs-1,1));"
   ]
  },
  {
   "cell_type": "code",
   "execution_count": 27,
   "metadata": {},
   "outputs": [
    {
     "data": {
      "application/vnd.jupyter.widget-view+json": {
       "model_id": "2dfa130978a24d93b21e70940ed4d705",
       "version_major": 2,
       "version_minor": 0
      },
      "image/png": "[encoded data removed]",
      "text/html": [
       "\n",
       "            <div style=\"display: inline-block;\">\n",
       "                <div class=\"jupyter-widgets widget-label\" style=\"text-align: center;\">\n",
       "                    Figure\n",
       "                </div>\n",
       "                <img src='data:image/png;base64,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' width=1200.0/>\n",
       "            </div>\n",
       "        "
      ],
      "text/plain": [
       "Canvas(toolbar=Toolbar(toolitems=[('Home', 'Reset original view', 'home', 'home'), ('Back', 'Back to previous …"
      ]
     },
     "metadata": {},
     "output_type": "display_data"
    }
   ],
   "source": [
    "plt.figure(figsize=(12, 5))\n",
    "\n",
    "plt.subplot(1, 2, 1)\n",
    "plt.plot(loss_list)\n",
    "plt.xlabel(\"epoch\")\n",
    "plt.ylabel(\"loss\")\n",
    "plt.grid(True)\n",
    "plt.yscale(\"log\")\n",
    "\n",
    "plt.subplot(1, 2, 2)\n",
    "for p_name, p_gt, p_list, color in zip((\"a\", \"b\", \"c\"), (_a, _b, _c), (a_list, b_list, c_list), (\"r\", \"g\", \"b\")):\n",
    "    plt.hlines(y=p_gt, xmin=0, xmax=num_epochs, linestyles=\"dashed\", colors=color)\n",
    "    plt.scatter(range(len(p_list)), p_list, label=p_name, s=1, c=color)\n",
    "plt.xlabel(\"epoch\")\n",
    "plt.ylabel(\"param value\")\n",
    "plt.legend()\n",
    "plt.grid(True)\n",
    "\n",
    "plt.show()"
   ]
  },
  {
   "cell_type": "markdown",
   "metadata": {},
   "source": [
    "## 4. Переопределение `backward`"
   ]
  },
  {
   "cell_type": "markdown",
   "metadata": {
    "id": "g616ocbHv78t"
   },
   "source": [
    "Что, если нам хочется релизовать кстомный градиент для произвольной функции. \n",
    "\n",
    "Зачем?\n",
    "\n",
    " - Мы можем знать лучший способ посчитать градиент, чем делать бэкпроп для суперпозиции элементарных функций\n",
    " - Можем реализовать численно более устойчивый метод\n",
    " - Можем использовать функции из внешних библиотек\n",
    " - Использовать недифференцируемые функции?.."
   ]
  },
  {
   "cell_type": "markdown",
   "metadata": {
    "id": "nkYTgy6ZO_Ru"
   },
   "source": [
    "Рассмотрим сигмоиду:\n",
    "\n",
    "$$ \n",
    "  \\sigma(x) = \\frac{1}{1+e^{-x}}\n",
    "$$\n",
    "\n",
    "Если честно распишем суперпозицию функций, то получим:\n",
    "\n",
    "$$\n",
    "  \\sigma(x) = f_1 \\odot f_2  \\odot f_3 \\odot f_4(x), where \n",
    "$$\n",
    "\n",
    "$$\n",
    "f_1 = \\frac{1}{u}, f_2 = 1 + u, f_3 = \\exp(u), f_4 = -u\n",
    "$$\n",
    "\n",
    "Тогда:\n",
    "\n",
    "$$\n",
    "\\frac{\\partial \\sigma}{\\partial x} = \\frac{\\partial \\sigma}{\\partial f_2}\\frac{\\partial f_2}{\\partial f_3}\n",
    "\\frac{\\partial f_3}{\\partial f_4}\n",
    "\\frac{\\partial f_4}{\\partial x}\n",
    "$$\n",
    "\n",
    "Но зная как устроена производная можно упростить:\n",
    "\n",
    "$$\n",
    "\\frac{\\partial \\sigma}{\\partial x} = \\sigma(x)(1 - \\sigma(x))\n",
    "$$"
   ]
  },
  {
   "cell_type": "markdown",
   "metadata": {
    "id": "DRpFQBmuR-V_"
   },
   "source": [
    "Вручную задать градиени функции в библиотеке PyTorch можно создав дочерний класс от [`torch.autograd.Function`](https://pytorch.org/docs/stable/notes/extending.html#extending-torch-autograd).\n",
    "\n",
    "**NB**: Для того, чтобы сделать `backward()`, требуется знать результат `forward()`. Для этого у переменной контекста есть метод [`save_for_backward()`](https://pytorch.org/docs/stable/generated/torch.autograd.function.FunctionCtx.save_for_backward.html)."
   ]
  },
  {
   "cell_type": "code",
   "execution_count": 40,
   "metadata": {
    "executionInfo": {
     "elapsed": 244,
     "status": "ok",
     "timestamp": 1631815233191,
     "user": {
      "displayName": "Filipp Nikitin",
      "photoUrl": "https://lh3.googleusercontent.com/a-/AOh14Gib7R6zFSdJ1Mn4MWbQTRjNvdPBqipg3uQtaNBFNg=s64",
      "userId": "00003629133353694743"
     },
     "user_tz": -180
    },
    "id": "okxelJTDO9_L"
   },
   "outputs": [],
   "source": [
    "class MySigmoid(torch.autograd.Function):\n",
    "    @staticmethod\n",
    "    def forward(ctx, x):\n",
    "        # YOUR CODE HERE\n",
    "        \n",
    "        ctx.save_for_backward(x)\n",
    "        val = torch.sigmoid(x)\n",
    "        \n",
    "        \n",
    "        # END OF YOUR CODE\n",
    "        return val\n",
    "    \n",
    "    @staticmethod\n",
    "    def backward(ctx, grad_output):\n",
    "        # YOUR CODE HERE\n",
    "        \n",
    "        val, = ctx.saved_tensors\n",
    "        grad = grad_output * torch.sigmoid(val) * (1 - torch.sigmoid(val))\n",
    "        \n",
    "        # END OF YOUR CODE\n",
    "        return grad"
   ]
  },
  {
   "cell_type": "code",
   "execution_count": 41,
   "metadata": {
    "executionInfo": {
     "elapsed": 211,
     "status": "ok",
     "timestamp": 1631815238628,
     "user": {
      "displayName": "Filipp Nikitin",
      "photoUrl": "https://lh3.googleusercontent.com/a-/AOh14Gib7R6zFSdJ1Mn4MWbQTRjNvdPBqipg3uQtaNBFNg=s64",
      "userId": "00003629133353694743"
     },
     "user_tz": -180
    },
    "id": "n89TIozkVt27"
   },
   "outputs": [],
   "source": [
    "from torch.autograd import gradcheck"
   ]
  },
  {
   "cell_type": "code",
   "execution_count": 42,
   "metadata": {
    "colab": {
     "base_uri": "https://localhost:8080/"
    },
    "executionInfo": {
     "elapsed": 227,
     "status": "ok",
     "timestamp": 1631815280552,
     "user": {
      "displayName": "Filipp Nikitin",
      "photoUrl": "https://lh3.googleusercontent.com/a-/AOh14Gib7R6zFSdJ1Mn4MWbQTRjNvdPBqipg3uQtaNBFNg=s64",
      "userId": "00003629133353694743"
     },
     "user_tz": -180
    },
    "id": "42MVi8npWlAR",
    "outputId": "15653e25-a437-4e4b-b093-5c610ee3e56f"
   },
   "outputs": [
    {
     "name": "stdout",
     "output_type": "stream",
     "text": [
      "True\n",
      "True\n"
     ]
    },
    {
     "name": "stderr",
     "output_type": "stream",
     "text": [
      "/home/victor/anaconda3/lib/python3.7/site-packages/torch/autograd/gradcheck.py:302: UserWarning: The {}th input requires gradient and is not a double precision floating point or complex. This check will likely fail if all the inputs are not of double precision floating point or complex. \n",
      "  'The {}th input requires gradient and '\n"
     ]
    }
   ],
   "source": [
    "sigmoid = MySigmoid.apply\n",
    "x = torch.rand(2, requires_grad=True)\n",
    "print(gradcheck(sigmoid, x, eps=1e-4, atol=1e-3))\n",
    "\n",
    "# be sure to use double for better approximation\n",
    "x = torch.rand(2, requires_grad=True).double()\n",
    "print(gradcheck(sigmoid, x, eps=1e-6, atol=1e-4))"
   ]
  },
  {
   "cell_type": "markdown",
   "metadata": {
    "id": "aXYgzHcz7E_1"
   },
   "source": [
    "PyTorch умеет считать матрицу Якоби или матрицу Гессе для заданной функции."
   ]
  },
  {
   "cell_type": "code",
   "execution_count": 43,
   "metadata": {
    "executionInfo": {
     "elapsed": 229,
     "status": "ok",
     "timestamp": 1631815491399,
     "user": {
      "displayName": "Filipp Nikitin",
      "photoUrl": "https://lh3.googleusercontent.com/a-/AOh14Gib7R6zFSdJ1Mn4MWbQTRjNvdPBqipg3uQtaNBFNg=s64",
      "userId": "00003629133353694743"
     },
     "user_tz": -180
    },
    "id": "a65TCapsZBlf"
   },
   "outputs": [],
   "source": [
    "from torch.autograd.functional import hessian, jacobian"
   ]
  },
  {
   "cell_type": "code",
   "execution_count": 44,
   "metadata": {
    "colab": {
     "base_uri": "https://localhost:8080/"
    },
    "executionInfo": {
     "elapsed": 246,
     "status": "ok",
     "timestamp": 1631815519585,
     "user": {
      "displayName": "Filipp Nikitin",
      "photoUrl": "https://lh3.googleusercontent.com/a-/AOh14Gib7R6zFSdJ1Mn4MWbQTRjNvdPBqipg3uQtaNBFNg=s64",
      "userId": "00003629133353694743"
     },
     "user_tz": -180
    },
    "id": "nS-DSoplZ6E_",
    "outputId": "db8a907c-8365-451f-d6f0-d1d186a54d97"
   },
   "outputs": [
    {
     "data": {
      "text/plain": [
       "tensor([[0.2180, 0.0000],\n",
       "        [0.0000, 0.2378]], dtype=torch.float64)"
      ]
     },
     "execution_count": 44,
     "metadata": {},
     "output_type": "execute_result"
    }
   ],
   "source": [
    "jacobian(sigmoid, x)"
   ]
  },
  {
   "cell_type": "code",
   "execution_count": 45,
   "metadata": {
    "executionInfo": {
     "elapsed": 215,
     "status": "ok",
     "timestamp": 1631815472226,
     "user": {
      "displayName": "Filipp Nikitin",
      "photoUrl": "https://lh3.googleusercontent.com/a-/AOh14Gib7R6zFSdJ1Mn4MWbQTRjNvdPBqipg3uQtaNBFNg=s64",
      "userId": "00003629133353694743"
     },
     "user_tz": -180
    },
    "id": "z_nXiJsFXoDR"
   },
   "outputs": [],
   "source": [
    "def sum_sigmoid(x):\n",
    "    return torch.sum(sigmoid(x))"
   ]
  },
  {
   "cell_type": "code",
   "execution_count": 46,
   "metadata": {},
   "outputs": [
    {
     "data": {
      "text/plain": [
       "tensor([[-0.0780,  0.0000],\n",
       "        [ 0.0000, -0.0526]], dtype=torch.float64)"
      ]
     },
     "execution_count": 46,
     "metadata": {},
     "output_type": "execute_result"
    }
   ],
   "source": [
    "hessian(sum_sigmoid, x)"
   ]
  },
  {
   "cell_type": "markdown",
   "metadata": {
    "id": "vLPPlL6Sj39B"
   },
   "source": [
    "## Итоги\n",
    "\n",
    "* Узнали, что такое `pytorch` и как в нем работать с тензорами\n",
    "* Немного погрели GPU, запустив вычисления на нем\n",
    "* Решили пример задачи, используя только библиотеку `pytorch`\n",
    "* Написали собственную реализацию сигмоидальной нелинейности"
   ]
  },
  {
   "cell_type": "markdown",
   "metadata": {},
   "source": [
    "Что еще почитать:\n",
    "* [A gentle introduction to `torch.autograd`](https://pytorch.org/tutorials/beginner/blitz/autograd_tutorial.html)\n",
    "* [Extending pytorch](https://pytorch.org/docs/stable/notes/extending.html#extending-torch-autograd)"
   ]
  },
  {
   "cell_type": "markdown",
   "metadata": {},
   "source": [
    "В следующий раз: \n",
    "* (наконец-то) нейросети на pytorch"
   ]
  },
  {
   "cell_type": "code",
   "execution_count": null,
   "metadata": {},
   "outputs": [],
   "source": []
  }
 ],
 "metadata": {
  "accelerator": "GPU",
  "colab": {
   "authorship_tag": "ABX9TyM3x5e0hXQ/KRZ2lfc2ew+0",
   "name": "02. PyTorch autograd (classwork).ipynb",
   "provenance": [
    {
     "file_id": "1ZysOsvyIEv_yWYw9vvt8yWt5Q0MgRA57",
     "timestamp": 1631790599254
    }
   ]
  },
  "kernelspec": {
   "display_name": "base",
   "language": "python",
   "name": "python3"
  },
  "language_info": {
   "codemirror_mode": {
    "name": "ipython",
    "version": 3
   },
   "file_extension": ".py",
   "mimetype": "text/x-python",
   "name": "python",
   "nbconvert_exporter": "python",
   "pygments_lexer": "ipython3",
   "version": "3.7.16"
  }
 },
 "nbformat": 4,
 "nbformat_minor": 4
}
